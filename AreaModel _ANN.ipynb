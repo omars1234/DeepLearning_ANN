{
 "cells": [
  {
   "cell_type": "markdown",
   "metadata": {},
   "source": [
    "# *ANN -Artificial Neural Network*"
   ]
  },
  {
   "cell_type": "markdown",
   "metadata": {},
   "source": [
    "### *Analysis objective :<br>Applying -ANN- model on the prediction of -gender- as a target Feature*\n",
    "---"
   ]
  },
  {
   "cell_type": "code",
   "execution_count": 1,
   "metadata": {},
   "outputs": [],
   "source": [
    "import pandas as pd\n",
    "from matplotlib import pyplot  as plt\n",
    "%matplotlib inline\n",
    "import matplotlib\n",
    "matplotlib.rcParams[\"figure.figsize\"]=(20,10)\n",
    "matplotlib.rcParams[\"figure.figsize\"]=(20,10)\n",
    "import os\n",
    "from sklearn.preprocessing import LabelEncoder,StandardScaler\n",
    "LabelEncoder_category=LabelEncoder()\n",
    "from sklearn.model_selection import train_test_split,cross_val_score\n",
    "from sklearn.metrics import (r2_score,accuracy_score,classification_report,ConfusionMatrixDisplay,confusion_matrix)\n",
    "import warnings\n",
    "from sklearn.utils.multiclass import unique_labels\n",
    "import seaborn as sns"
   ]
  },
  {
   "cell_type": "code",
   "execution_count": 406,
   "metadata": {},
   "outputs": [
    {
     "data": {
      "text/html": [
       "<div>\n",
       "<style scoped>\n",
       "    .dataframe tbody tr th:only-of-type {\n",
       "        vertical-align: middle;\n",
       "    }\n",
       "\n",
       "    .dataframe tbody tr th {\n",
       "        vertical-align: top;\n",
       "    }\n",
       "\n",
       "    .dataframe thead th {\n",
       "        text-align: right;\n",
       "    }\n",
       "</style>\n",
       "<table border=\"1\" class=\"dataframe\">\n",
       "  <thead>\n",
       "    <tr style=\"text-align: right;\">\n",
       "      <th></th>\n",
       "      <th>veh_value</th>\n",
       "      <th>exposure</th>\n",
       "      <th>claimcst0</th>\n",
       "      <th>veh_body</th>\n",
       "      <th>veh_age</th>\n",
       "      <th>gender</th>\n",
       "      <th>area</th>\n",
       "      <th>agecat</th>\n",
       "    </tr>\n",
       "  </thead>\n",
       "  <tbody>\n",
       "    <tr>\n",
       "      <th>0</th>\n",
       "      <td>1.06</td>\n",
       "      <td>0.303901</td>\n",
       "      <td>0.0</td>\n",
       "      <td>HBACK</td>\n",
       "      <td>3</td>\n",
       "      <td>F</td>\n",
       "      <td>C</td>\n",
       "      <td>2</td>\n",
       "    </tr>\n",
       "    <tr>\n",
       "      <th>1</th>\n",
       "      <td>1.03</td>\n",
       "      <td>0.648871</td>\n",
       "      <td>0.0</td>\n",
       "      <td>HBACK</td>\n",
       "      <td>2</td>\n",
       "      <td>F</td>\n",
       "      <td>A</td>\n",
       "      <td>4</td>\n",
       "    </tr>\n",
       "    <tr>\n",
       "      <th>2</th>\n",
       "      <td>3.26</td>\n",
       "      <td>0.569473</td>\n",
       "      <td>0.0</td>\n",
       "      <td>UTE</td>\n",
       "      <td>2</td>\n",
       "      <td>F</td>\n",
       "      <td>E</td>\n",
       "      <td>2</td>\n",
       "    </tr>\n",
       "    <tr>\n",
       "      <th>3</th>\n",
       "      <td>4.14</td>\n",
       "      <td>0.317591</td>\n",
       "      <td>0.0</td>\n",
       "      <td>STNWG</td>\n",
       "      <td>2</td>\n",
       "      <td>F</td>\n",
       "      <td>D</td>\n",
       "      <td>2</td>\n",
       "    </tr>\n",
       "    <tr>\n",
       "      <th>4</th>\n",
       "      <td>0.72</td>\n",
       "      <td>0.648871</td>\n",
       "      <td>0.0</td>\n",
       "      <td>HBACK</td>\n",
       "      <td>4</td>\n",
       "      <td>F</td>\n",
       "      <td>C</td>\n",
       "      <td>2</td>\n",
       "    </tr>\n",
       "  </tbody>\n",
       "</table>\n",
       "</div>"
      ],
      "text/plain": [
       "   veh_value  exposure  claimcst0 veh_body  veh_age gender area  agecat\n",
       "0       1.06  0.303901        0.0    HBACK        3      F    C       2\n",
       "1       1.03  0.648871        0.0    HBACK        2      F    A       4\n",
       "2       3.26  0.569473        0.0      UTE        2      F    E       2\n",
       "3       4.14  0.317591        0.0    STNWG        2      F    D       2\n",
       "4       0.72  0.648871        0.0    HBACK        4      F    C       2"
      ]
     },
     "execution_count": 406,
     "metadata": {},
     "output_type": "execute_result"
    }
   ],
   "source": [
    "df=pd.read_csv(r\"C:/Users/Omar\\Desktop/Omar_Files/Python_Analysis/DeepLearning_ANN/DataSet/data_car.csv\")\n",
    "df=df.drop([\"X_OBSTAT_\",\"clm\",\"numclaims\"],axis=1)\n",
    "df.head()"
   ]
  },
  {
   "cell_type": "code",
   "execution_count": 407,
   "metadata": {},
   "outputs": [
    {
     "data": {
      "text/html": [
       "<div>\n",
       "<style scoped>\n",
       "    .dataframe tbody tr th:only-of-type {\n",
       "        vertical-align: middle;\n",
       "    }\n",
       "\n",
       "    .dataframe tbody tr th {\n",
       "        vertical-align: top;\n",
       "    }\n",
       "\n",
       "    .dataframe thead th {\n",
       "        text-align: right;\n",
       "    }\n",
       "</style>\n",
       "<table border=\"1\" class=\"dataframe\">\n",
       "  <thead>\n",
       "    <tr style=\"text-align: right;\">\n",
       "      <th></th>\n",
       "      <th>veh_value</th>\n",
       "      <th>exposure</th>\n",
       "      <th>claimcst0</th>\n",
       "      <th>veh_body</th>\n",
       "      <th>veh_age</th>\n",
       "      <th>gender</th>\n",
       "      <th>area</th>\n",
       "      <th>agecat</th>\n",
       "    </tr>\n",
       "  </thead>\n",
       "  <tbody>\n",
       "    <tr>\n",
       "      <th>0</th>\n",
       "      <td>1.03</td>\n",
       "      <td>0.648871</td>\n",
       "      <td>0.0</td>\n",
       "      <td>HBACK</td>\n",
       "      <td>2</td>\n",
       "      <td>F</td>\n",
       "      <td>A</td>\n",
       "      <td>4</td>\n",
       "    </tr>\n",
       "    <tr>\n",
       "      <th>1</th>\n",
       "      <td>0.52</td>\n",
       "      <td>0.361396</td>\n",
       "      <td>0.0</td>\n",
       "      <td>HBACK</td>\n",
       "      <td>4</td>\n",
       "      <td>F</td>\n",
       "      <td>A</td>\n",
       "      <td>3</td>\n",
       "    </tr>\n",
       "    <tr>\n",
       "      <th>2</th>\n",
       "      <td>1.30</td>\n",
       "      <td>0.999316</td>\n",
       "      <td>0.0</td>\n",
       "      <td>HBACK</td>\n",
       "      <td>2</td>\n",
       "      <td>F</td>\n",
       "      <td>A</td>\n",
       "      <td>2</td>\n",
       "    </tr>\n",
       "    <tr>\n",
       "      <th>3</th>\n",
       "      <td>2.17</td>\n",
       "      <td>0.536619</td>\n",
       "      <td>0.0</td>\n",
       "      <td>SEDAN</td>\n",
       "      <td>2</td>\n",
       "      <td>F</td>\n",
       "      <td>A</td>\n",
       "      <td>4</td>\n",
       "    </tr>\n",
       "    <tr>\n",
       "      <th>4</th>\n",
       "      <td>1.90</td>\n",
       "      <td>0.854209</td>\n",
       "      <td>0.0</td>\n",
       "      <td>SEDAN</td>\n",
       "      <td>1</td>\n",
       "      <td>F</td>\n",
       "      <td>A</td>\n",
       "      <td>4</td>\n",
       "    </tr>\n",
       "  </tbody>\n",
       "</table>\n",
       "</div>"
      ],
      "text/plain": [
       "   veh_value  exposure  claimcst0 veh_body  veh_age gender area  agecat\n",
       "0       1.03  0.648871        0.0    HBACK        2      F    A       4\n",
       "1       0.52  0.361396        0.0    HBACK        4      F    A       3\n",
       "2       1.30  0.999316        0.0    HBACK        2      F    A       2\n",
       "3       2.17  0.536619        0.0    SEDAN        2      F    A       4\n",
       "4       1.90  0.854209        0.0    SEDAN        1      F    A       4"
      ]
     },
     "execution_count": 407,
     "metadata": {},
     "output_type": "execute_result"
    }
   ],
   "source": [
    "df=df.sort_values(by=['area','gender']).reset_index().drop(\"index\",axis=1)\n",
    "df.head()"
   ]
  },
  {
   "cell_type": "markdown",
   "metadata": {},
   "source": [
    "---"
   ]
  },
  {
   "cell_type": "code",
   "execution_count": 408,
   "metadata": {},
   "outputs": [
    {
     "name": "stdout",
     "output_type": "stream",
     "text": [
      "we have 5 numerical features : ['veh_value', 'exposure', 'claimcst0', 'veh_age', 'agecat']\n",
      "\n",
      "we have 3 categorical features : ['veh_body', 'gender', 'area']\n"
     ]
    }
   ],
   "source": [
    "\n",
    "categorical_features=df.select_dtypes(include=[\"object\"])\n",
    "numerical_features=df.select_dtypes(exclude=[\"object\"])\n",
    "\n",
    "print(\"we have {} numerical features : {}\\n\".format(numerical_features.shape[1],list(numerical_features.columns)))\n",
    "print(\"we have {} categorical features : {}\".format(categorical_features.shape[1],list(categorical_features.columns)))"
   ]
  },
  {
   "cell_type": "code",
   "execution_count": 409,
   "metadata": {},
   "outputs": [],
   "source": [
    "discrete_feature=[feature for feature in numerical_features if  len(df[feature].unique())<=25]\n",
    "countinuous_feature=[feature for feature in numerical_features if  len(df[feature].unique())>25]"
   ]
  },
  {
   "cell_type": "code",
   "execution_count": 410,
   "metadata": {},
   "outputs": [
    {
     "name": "stdout",
     "output_type": "stream",
     "text": [
      "we have 2 discrete feature : ['veh_age', 'agecat']\n",
      "\n",
      "we have 3 countinuous feature : ['veh_value', 'exposure', 'claimcst0']\n"
     ]
    }
   ],
   "source": [
    "print(\"we have {} discrete feature : {}\\n\".format(len(discrete_feature),(discrete_feature)))\n",
    "print(\"we have {} countinuous feature : {}\".format(len(countinuous_feature),(countinuous_feature)))"
   ]
  },
  {
   "cell_type": "code",
   "execution_count": 411,
   "metadata": {},
   "outputs": [],
   "source": [
    "categories_encoder=LabelEncoder()\n",
    "for col in df:\n",
    "    if col in list(df.select_dtypes(include=\"object\").columns):\n",
    "        df[col]=categories_encoder.fit_transform(df[col])"
   ]
  },
  {
   "cell_type": "code",
   "execution_count": 412,
   "metadata": {},
   "outputs": [],
   "source": [
    "x=df.drop(\"area\",axis=1)\n",
    "y=df[\"area\"]"
   ]
  },
  {
   "cell_type": "code",
   "execution_count": 413,
   "metadata": {},
   "outputs": [
    {
     "data": {
      "text/plain": [
       "veh_value     2.968022\n",
       "exposure      0.175557\n",
       "claimcst0    17.502503\n",
       "dtype: float64"
      ]
     },
     "execution_count": 413,
     "metadata": {},
     "output_type": "execute_result"
    }
   ],
   "source": [
    "x[countinuous_feature].skew(axis=0,skipna=True)"
   ]
  },
  {
   "cell_type": "code",
   "execution_count": 414,
   "metadata": {},
   "outputs": [],
   "source": [
    "from sklearn.preprocessing import PowerTransformer\n",
    "pt=PowerTransformer(method=\"yeo-johnson\")\n",
    "transform_features=['veh_value']\n",
    "df[transform_features]=pt.fit_transform(x[transform_features])"
   ]
  },
  {
   "cell_type": "code",
   "execution_count": 415,
   "metadata": {},
   "outputs": [
    {
     "data": {
      "text/plain": [
       "veh_value    0.010369\n",
       "dtype: float64"
      ]
     },
     "execution_count": 415,
     "metadata": {},
     "output_type": "execute_result"
    }
   ],
   "source": [
    "df[transform_features].skew(axis=0,skipna=True)"
   ]
  },
  {
   "cell_type": "code",
   "execution_count": 416,
   "metadata": {},
   "outputs": [],
   "source": [
    "from imblearn.combine import SMOTETomek,SMOTEENN\n",
    "smt=SMOTEENN(random_state=42,sampling_strategy=\"minority\")\n",
    "x_re,y_res=smt.fit_resample(x,y)"
   ]
  },
  {
   "cell_type": "code",
   "execution_count": 417,
   "metadata": {},
   "outputs": [
    {
     "name": "stdout",
     "output_type": "stream",
     "text": [
      "Train data shape of X = (7520, 7) and Y = (7520,) : \n",
      "Test data shape of X = (1880, 7) and Y = (1880,) : \n"
     ]
    }
   ],
   "source": [
    "x_train, x_test, y_train, y_test = train_test_split(x_re,y_res ,test_size= 0.2,random_state=42)\n",
    "\n",
    "print(\"Train data shape of X = % s and Y = % s : \"%(\n",
    "\tx_train.shape, y_train.shape))\n",
    "\n",
    "print(\"Test data shape of X = % s and Y = % s : \"%(\n",
    "\tx_test.shape, y_test.shape))"
   ]
  },
  {
   "cell_type": "code",
   "execution_count": 418,
   "metadata": {},
   "outputs": [],
   "source": [
    "sc=StandardScaler()\n",
    "x_train=sc.fit_transform(x_train)\n",
    "x_test=sc.transform(x_test)"
   ]
  },
  {
   "cell_type": "markdown",
   "metadata": {},
   "source": [
    "* *Importing Tensorflow :*"
   ]
  },
  {
   "cell_type": "code",
   "execution_count": 419,
   "metadata": {},
   "outputs": [],
   "source": [
    "import tensorflow as tf"
   ]
  },
  {
   "cell_type": "code",
   "execution_count": 420,
   "metadata": {},
   "outputs": [],
   "source": [
    "from tensorflow.keras.models import Sequential\n",
    "from tensorflow.keras.layers import Dense\n",
    "from tensorflow.keras.layers import ReLU,PReLU,LeakyReLU\n",
    "from tensorflow.keras.layers import Dropout"
   ]
  },
  {
   "cell_type": "markdown",
   "metadata": {},
   "source": [
    "* *Model Preparation :*"
   ]
  },
  {
   "cell_type": "code",
   "execution_count": 421,
   "metadata": {},
   "outputs": [],
   "source": [
    "classifier=Sequential()"
   ]
  },
  {
   "cell_type": "markdown",
   "metadata": {},
   "source": [
    "* *1st Hidden Layer :*"
   ]
  },
  {
   "cell_type": "code",
   "execution_count": 422,
   "metadata": {},
   "outputs": [],
   "source": [
    "classifier.add(Dense(units=7,activation=\"ReLU\"))"
   ]
  },
  {
   "cell_type": "markdown",
   "metadata": {},
   "source": [
    "* *2nd Hidden Layer :*"
   ]
  },
  {
   "cell_type": "code",
   "execution_count": 423,
   "metadata": {},
   "outputs": [],
   "source": [
    "classifier.add(Dense(units=14,activation=\"ReLU\"))"
   ]
  },
  {
   "cell_type": "markdown",
   "metadata": {},
   "source": [
    "* *Last Layer -Output :*"
   ]
  },
  {
   "cell_type": "code",
   "execution_count": 424,
   "metadata": {},
   "outputs": [],
   "source": [
    "classifier.add(Dense(6,activation=\"softmax\"))"
   ]
  },
  {
   "cell_type": "markdown",
   "metadata": {},
   "source": [
    "* *Adam Optimizer Preparation :*"
   ]
  },
  {
   "cell_type": "code",
   "execution_count": 425,
   "metadata": {},
   "outputs": [],
   "source": [
    "import tensorflow\n",
    "opt=tf.keras.optimizers.Adam(learning_rate=0.01)"
   ]
  },
  {
   "cell_type": "markdown",
   "metadata": {},
   "source": [
    "* *Compiling the Model :*"
   ]
  },
  {
   "cell_type": "code",
   "execution_count": 426,
   "metadata": {},
   "outputs": [],
   "source": [
    "classifier.compile(optimizer=opt,loss=\"sparse_categorical_crossentropy\",metrics=[\"accuracy\"])\n",
    "# categorical_crossentropy"
   ]
  },
  {
   "cell_type": "markdown",
   "metadata": {},
   "source": [
    "* *Early Stopping Preparation :*"
   ]
  },
  {
   "cell_type": "code",
   "execution_count": 427,
   "metadata": {},
   "outputs": [],
   "source": [
    "import tensorflow\n",
    "early_stopping=tf.keras.callbacks.EarlyStopping(\n",
    "    monitor='val_loss',\n",
    "    min_delta=0.001,\n",
    "    patience=20,\n",
    "    verbose=1,\n",
    "    mode='auto',\n",
    "    baseline=None,\n",
    "    restore_best_weights=False,\n",
    "    start_from_epoch=0\n",
    ")"
   ]
  },
  {
   "cell_type": "markdown",
   "metadata": {},
   "source": [
    "* *Model Fitting :*"
   ]
  },
  {
   "cell_type": "code",
   "execution_count": 428,
   "metadata": {},
   "outputs": [
    {
     "name": "stdout",
     "output_type": "stream",
     "text": [
      "Epoch 1/1000\n",
      "158/158 [==============================] - 1s 3ms/step - loss: 0.5141 - accuracy: 0.8755 - val_loss: 0.4035 - val_accuracy: 0.8868\n",
      "Epoch 2/1000\n",
      "158/158 [==============================] - 0s 2ms/step - loss: 0.3799 - accuracy: 0.8879 - val_loss: 0.3798 - val_accuracy: 0.8872\n",
      "Epoch 3/1000\n",
      "158/158 [==============================] - 0s 2ms/step - loss: 0.3589 - accuracy: 0.8900 - val_loss: 0.3787 - val_accuracy: 0.8828\n",
      "Epoch 4/1000\n",
      "158/158 [==============================] - 0s 2ms/step - loss: 0.3491 - accuracy: 0.8884 - val_loss: 0.3682 - val_accuracy: 0.8852\n",
      "Epoch 5/1000\n",
      "158/158 [==============================] - 0s 2ms/step - loss: 0.3459 - accuracy: 0.8910 - val_loss: 0.3634 - val_accuracy: 0.8820\n",
      "Epoch 6/1000\n",
      "158/158 [==============================] - 0s 2ms/step - loss: 0.3415 - accuracy: 0.8888 - val_loss: 0.3675 - val_accuracy: 0.8860\n",
      "Epoch 7/1000\n",
      "158/158 [==============================] - 0s 2ms/step - loss: 0.3418 - accuracy: 0.8884 - val_loss: 0.3647 - val_accuracy: 0.8852\n",
      "Epoch 8/1000\n",
      "158/158 [==============================] - 0s 2ms/step - loss: 0.3371 - accuracy: 0.8940 - val_loss: 0.3624 - val_accuracy: 0.8880\n",
      "Epoch 9/1000\n",
      "158/158 [==============================] - 0s 2ms/step - loss: 0.3376 - accuracy: 0.8892 - val_loss: 0.3663 - val_accuracy: 0.8864\n",
      "Epoch 10/1000\n",
      "158/158 [==============================] - 0s 2ms/step - loss: 0.3346 - accuracy: 0.8926 - val_loss: 0.3724 - val_accuracy: 0.8775\n",
      "Epoch 11/1000\n",
      "158/158 [==============================] - 0s 2ms/step - loss: 0.3304 - accuracy: 0.8908 - val_loss: 0.3581 - val_accuracy: 0.8880\n",
      "Epoch 12/1000\n",
      "158/158 [==============================] - 0s 2ms/step - loss: 0.3296 - accuracy: 0.8916 - val_loss: 0.3614 - val_accuracy: 0.8848\n",
      "Epoch 13/1000\n",
      "158/158 [==============================] - 0s 3ms/step - loss: 0.3286 - accuracy: 0.8936 - val_loss: 0.3581 - val_accuracy: 0.8815\n",
      "Epoch 14/1000\n",
      "158/158 [==============================] - 0s 2ms/step - loss: 0.3266 - accuracy: 0.8930 - val_loss: 0.3576 - val_accuracy: 0.8868\n",
      "Epoch 15/1000\n",
      "158/158 [==============================] - 0s 2ms/step - loss: 0.3255 - accuracy: 0.8918 - val_loss: 0.3609 - val_accuracy: 0.8824\n",
      "Epoch 16/1000\n",
      "158/158 [==============================] - 0s 2ms/step - loss: 0.3228 - accuracy: 0.8952 - val_loss: 0.3617 - val_accuracy: 0.8844\n",
      "Epoch 17/1000\n",
      "158/158 [==============================] - 0s 3ms/step - loss: 0.3226 - accuracy: 0.8960 - val_loss: 0.3499 - val_accuracy: 0.8828\n",
      "Epoch 18/1000\n",
      "158/158 [==============================] - 0s 2ms/step - loss: 0.3211 - accuracy: 0.8918 - val_loss: 0.3625 - val_accuracy: 0.8872\n",
      "Epoch 19/1000\n",
      "158/158 [==============================] - 0s 2ms/step - loss: 0.3206 - accuracy: 0.8922 - val_loss: 0.3536 - val_accuracy: 0.8872\n",
      "Epoch 20/1000\n",
      "158/158 [==============================] - 0s 2ms/step - loss: 0.3205 - accuracy: 0.8952 - val_loss: 0.3606 - val_accuracy: 0.8856\n",
      "Epoch 21/1000\n",
      "158/158 [==============================] - 0s 2ms/step - loss: 0.3210 - accuracy: 0.8912 - val_loss: 0.3576 - val_accuracy: 0.8815\n",
      "Epoch 22/1000\n",
      "158/158 [==============================] - 0s 3ms/step - loss: 0.3167 - accuracy: 0.8914 - val_loss: 0.3598 - val_accuracy: 0.8856\n",
      "Epoch 23/1000\n",
      "158/158 [==============================] - 0s 2ms/step - loss: 0.3167 - accuracy: 0.8914 - val_loss: 0.3638 - val_accuracy: 0.8892\n",
      "Epoch 24/1000\n",
      "158/158 [==============================] - 0s 2ms/step - loss: 0.3173 - accuracy: 0.8934 - val_loss: 0.3561 - val_accuracy: 0.8864\n",
      "Epoch 25/1000\n",
      "158/158 [==============================] - 0s 2ms/step - loss: 0.3170 - accuracy: 0.8918 - val_loss: 0.3669 - val_accuracy: 0.8868\n",
      "Epoch 26/1000\n",
      "158/158 [==============================] - 0s 3ms/step - loss: 0.3138 - accuracy: 0.8946 - val_loss: 0.3687 - val_accuracy: 0.8832\n",
      "Epoch 27/1000\n",
      "158/158 [==============================] - 0s 3ms/step - loss: 0.3155 - accuracy: 0.8940 - val_loss: 0.3597 - val_accuracy: 0.8880\n",
      "Epoch 28/1000\n",
      "158/158 [==============================] - 0s 3ms/step - loss: 0.3148 - accuracy: 0.8930 - val_loss: 0.3663 - val_accuracy: 0.8892\n",
      "Epoch 29/1000\n",
      "158/158 [==============================] - 0s 2ms/step - loss: 0.3148 - accuracy: 0.8952 - val_loss: 0.3662 - val_accuracy: 0.8880\n",
      "Epoch 30/1000\n",
      "158/158 [==============================] - 0s 3ms/step - loss: 0.3136 - accuracy: 0.8938 - val_loss: 0.3628 - val_accuracy: 0.8896\n",
      "Epoch 31/1000\n",
      "158/158 [==============================] - 0s 3ms/step - loss: 0.3127 - accuracy: 0.8938 - val_loss: 0.3683 - val_accuracy: 0.8892\n",
      "Epoch 32/1000\n",
      "158/158 [==============================] - 1s 5ms/step - loss: 0.3149 - accuracy: 0.8920 - val_loss: 0.3686 - val_accuracy: 0.8888\n",
      "Epoch 33/1000\n",
      "158/158 [==============================] - 1s 6ms/step - loss: 0.3132 - accuracy: 0.8940 - val_loss: 0.3661 - val_accuracy: 0.8880\n",
      "Epoch 34/1000\n",
      "158/158 [==============================] - 1s 5ms/step - loss: 0.3097 - accuracy: 0.8944 - val_loss: 0.3692 - val_accuracy: 0.8872\n",
      "Epoch 35/1000\n",
      "158/158 [==============================] - 1s 6ms/step - loss: 0.3134 - accuracy: 0.8930 - val_loss: 0.3680 - val_accuracy: 0.8876\n",
      "Epoch 36/1000\n",
      "158/158 [==============================] - 1s 5ms/step - loss: 0.3154 - accuracy: 0.8920 - val_loss: 0.3643 - val_accuracy: 0.8856\n",
      "Epoch 37/1000\n",
      "158/158 [==============================] - 1s 5ms/step - loss: 0.3070 - accuracy: 0.8962 - val_loss: 0.3651 - val_accuracy: 0.8912\n",
      "Epoch 37: early stopping\n"
     ]
    }
   ],
   "source": [
    "model_history=classifier.fit(x_train,y_train,validation_split=.33,epochs=1000,callbacks=early_stopping)"
   ]
  },
  {
   "cell_type": "code",
   "execution_count": 429,
   "metadata": {},
   "outputs": [
    {
     "data": {
      "text/plain": [
       "dict_keys(['loss', 'accuracy', 'val_loss', 'val_accuracy'])"
      ]
     },
     "execution_count": 429,
     "metadata": {},
     "output_type": "execute_result"
    }
   ],
   "source": [
    "model_history.history.keys()"
   ]
  },
  {
   "cell_type": "code",
   "execution_count": 430,
   "metadata": {},
   "outputs": [
    {
     "data": {
      "image/png": "[encoded data removed]",
      "text/plain": [
       "<Figure size 1800x800 with 2 Axes>"
      ]
     },
     "metadata": {},
     "output_type": "display_data"
    }
   ],
   "source": [
    "plt.figure(figsize=(18, 8))\n",
    "plt.subplot(221)\n",
    "plt.plot(model_history.history[\"accuracy\"])\n",
    "plt.plot(model_history.history[\"val_accuracy\"])\n",
    "plt.ylabel(\"accuracy\")\n",
    "plt.xlabel(\"epoch\")\n",
    "plt.legend([\"train\",\"test\"]);\n",
    "\n",
    "\n",
    "plt.subplot(222)\n",
    "plt.plot(model_history.history[\"loss\"])\n",
    "plt.plot(model_history.history[\"val_loss\"])\n",
    "plt.ylabel(\"loss\")\n",
    "plt.xlabel(\"epoch\")\n",
    "plt.legend([\"train\",\"test\"]);"
   ]
  },
  {
   "cell_type": "code",
   "execution_count": 431,
   "metadata": {},
   "outputs": [
    {
     "name": "stdout",
     "output_type": "stream",
     "text": [
      "Model: \"sequential_9\"\n",
      "_________________________________________________________________\n",
      " Layer (type)                Output Shape              Param #   \n",
      "=================================================================\n",
      " dense_27 (Dense)            (None, 7)                 56        \n",
      "                                                                 \n",
      " dense_28 (Dense)            (None, 14)                112       \n",
      "                                                                 \n",
      " dense_29 (Dense)            (None, 6)                 90        \n",
      "                                                                 \n",
      "=================================================================\n",
      "Total params: 258 (1.01 KB)\n",
      "Trainable params: 258 (1.01 KB)\n",
      "Non-trainable params: 0 (0.00 Byte)\n",
      "_________________________________________________________________\n"
     ]
    }
   ],
   "source": [
    "classifier.summary()"
   ]
  },
  {
   "cell_type": "code",
   "execution_count": 432,
   "metadata": {},
   "outputs": [
    {
     "name": "stdout",
     "output_type": "stream",
     "text": [
      "59/59 [==============================] - 0s 1ms/step\n"
     ]
    }
   ],
   "source": [
    "y=classifier.predict(x_test)"
   ]
  },
  {
   "cell_type": "code",
   "execution_count": 433,
   "metadata": {},
   "outputs": [
    {
     "name": "stdout",
     "output_type": "stream",
     "text": [
      "59/59 [==============================] - 0s 1ms/step - loss: 0.3363 - accuracy: 0.8936\n"
     ]
    },
    {
     "data": {
      "text/plain": [
       "[0.3363237679004669, 0.8936170339584351]"
      ]
     },
     "execution_count": 433,
     "metadata": {},
     "output_type": "execute_result"
    }
   ],
   "source": [
    "classifier.evaluate(x_test, y_test)"
   ]
  },
  {
   "cell_type": "code",
   "execution_count": 434,
   "metadata": {},
   "outputs": [
    {
     "name": "stdout",
     "output_type": "stream",
     "text": [
      "59/59 [==============================] - 0s 3ms/step - loss: 0.3363 - accuracy: 0.8936\n",
      "Test accuracy: 0.8936170339584351\n"
     ]
    }
   ],
   "source": [
    "accuracy = classifier.evaluate(x_test, y_test)\n",
    "print(f\"Test accuracy: {accuracy[1]}\")"
   ]
  },
  {
   "cell_type": "code",
   "execution_count": 437,
   "metadata": {},
   "outputs": [
    {
     "data": {
      "text/plain": [
       "1880"
      ]
     },
     "execution_count": 437,
     "metadata": {},
     "output_type": "execute_result"
    }
   ],
   "source": [
    "import numpy as np\n",
    "predicted_classes = np.argmax(y, axis=1)\n",
    "len(predicted_classes)"
   ]
  },
  {
   "cell_type": "code",
   "execution_count": 438,
   "metadata": {},
   "outputs": [
    {
     "name": "stdout",
     "output_type": "stream",
     "text": [
      "Confusion Matrix:\n",
      "[[  14    0   15    0    0   45]\n",
      " [   0    0    6    0    0   18]\n",
      " [   7    0   16    0    0   77]\n",
      " [   0    0    0    0    0    3]\n",
      " [   0    0    0    0    0    8]\n",
      " [   6    0   15    0    0 1650]]\n"
     ]
    }
   ],
   "source": [
    "conf_matrix = confusion_matrix(y_test, predicted_classes)\n",
    "\n",
    "# Print the confusion matrix\n",
    "print(\"Confusion Matrix:\")\n",
    "print(conf_matrix)"
   ]
  },
  {
   "cell_type": "code",
   "execution_count": 439,
   "metadata": {},
   "outputs": [
    {
     "data": {
      "image/png": "[encoded data removed]",
      "text/plain": [
       "<Figure size 1800x800 with 2 Axes>"
      ]
     },
     "metadata": {},
     "output_type": "display_data"
    }
   ],
   "source": [
    "plt.figure(figsize=(18, 8))\n",
    "sns.heatmap(conf_matrix, annot=True, fmt='d', cmap='Greens', xticklabels=range(6), yticklabels=range(6))\n",
    "plt.xlabel('Predicted Class')\n",
    "plt.ylabel('True Class')\n",
    "plt.title('Confusion Matrix for MNIST Classification')\n",
    "plt.show()"
   ]
  },
  {
   "cell_type": "code",
   "execution_count": null,
   "metadata": {},
   "outputs": [],
   "source": []
  },
  {
   "cell_type": "code",
   "execution_count": null,
   "metadata": {},
   "outputs": [],
   "source": []
  },
  {
   "cell_type": "markdown",
   "metadata": {},
   "source": [
    "---"
   ]
  }
 ],
 "metadata": {
  "kernelspec": {
   "display_name": "Python 3",
   "language": "python",
   "name": "python3"
  },
  "language_info": {
   "codemirror_mode": {
    "name": "ipython",
    "version": 3
   },
   "file_extension": ".py",
   "mimetype": "text/x-python",
   "name": "python",
   "nbconvert_exporter": "python",
   "pygments_lexer": "ipython3",
   "version": "3.10.8"
  }
 },
 "nbformat": 4,
 "nbformat_minor": 2
}
