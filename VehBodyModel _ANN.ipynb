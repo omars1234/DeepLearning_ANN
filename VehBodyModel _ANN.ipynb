{
 "cells": [
  {
   "cell_type": "markdown",
   "metadata": {},
   "source": [
    "# *ANN -Artificial Neural Network*"
   ]
  },
  {
   "cell_type": "markdown",
   "metadata": {},
   "source": [
    "### *Analysis objective :<br>Applying -ANN- model on the prediction of -gender- as a target Feature*\n",
    "---"
   ]
  },
  {
   "cell_type": "code",
   "execution_count": 112,
   "metadata": {},
   "outputs": [],
   "source": [
    "import pandas as pd\n",
    "from matplotlib import pyplot  as plt\n",
    "%matplotlib inline\n",
    "import matplotlib\n",
    "matplotlib.rcParams[\"figure.figsize\"]=(20,10)\n",
    "matplotlib.rcParams[\"figure.figsize\"]=(20,10)\n",
    "import os\n",
    "from sklearn.preprocessing import LabelEncoder,StandardScaler\n",
    "LabelEncoder_category=LabelEncoder()\n",
    "from sklearn.model_selection import train_test_split,cross_val_score\n",
    "from sklearn.metrics import (r2_score,accuracy_score,classification_report,ConfusionMatrixDisplay,confusion_matrix)\n",
    "import warnings\n",
    "from sklearn.utils.multiclass import unique_labels\n",
    "import seaborn as sns"
   ]
  },
  {
   "cell_type": "code",
   "execution_count": 113,
   "metadata": {},
   "outputs": [
    {
     "data": {
      "text/html": [
       "<div>\n",
       "<style scoped>\n",
       "    .dataframe tbody tr th:only-of-type {\n",
       "        vertical-align: middle;\n",
       "    }\n",
       "\n",
       "    .dataframe tbody tr th {\n",
       "        vertical-align: top;\n",
       "    }\n",
       "\n",
       "    .dataframe thead th {\n",
       "        text-align: right;\n",
       "    }\n",
       "</style>\n",
       "<table border=\"1\" class=\"dataframe\">\n",
       "  <thead>\n",
       "    <tr style=\"text-align: right;\">\n",
       "      <th></th>\n",
       "      <th>veh_value</th>\n",
       "      <th>exposure</th>\n",
       "      <th>claimcst0</th>\n",
       "      <th>veh_body</th>\n",
       "      <th>veh_age</th>\n",
       "      <th>gender</th>\n",
       "      <th>area</th>\n",
       "      <th>agecat</th>\n",
       "    </tr>\n",
       "  </thead>\n",
       "  <tbody>\n",
       "    <tr>\n",
       "      <th>0</th>\n",
       "      <td>1.06</td>\n",
       "      <td>0.303901</td>\n",
       "      <td>0.0</td>\n",
       "      <td>HBACK</td>\n",
       "      <td>3</td>\n",
       "      <td>F</td>\n",
       "      <td>C</td>\n",
       "      <td>2</td>\n",
       "    </tr>\n",
       "    <tr>\n",
       "      <th>1</th>\n",
       "      <td>1.03</td>\n",
       "      <td>0.648871</td>\n",
       "      <td>0.0</td>\n",
       "      <td>HBACK</td>\n",
       "      <td>2</td>\n",
       "      <td>F</td>\n",
       "      <td>A</td>\n",
       "      <td>4</td>\n",
       "    </tr>\n",
       "    <tr>\n",
       "      <th>2</th>\n",
       "      <td>3.26</td>\n",
       "      <td>0.569473</td>\n",
       "      <td>0.0</td>\n",
       "      <td>UTE</td>\n",
       "      <td>2</td>\n",
       "      <td>F</td>\n",
       "      <td>E</td>\n",
       "      <td>2</td>\n",
       "    </tr>\n",
       "    <tr>\n",
       "      <th>3</th>\n",
       "      <td>4.14</td>\n",
       "      <td>0.317591</td>\n",
       "      <td>0.0</td>\n",
       "      <td>STNWG</td>\n",
       "      <td>2</td>\n",
       "      <td>F</td>\n",
       "      <td>D</td>\n",
       "      <td>2</td>\n",
       "    </tr>\n",
       "    <tr>\n",
       "      <th>4</th>\n",
       "      <td>0.72</td>\n",
       "      <td>0.648871</td>\n",
       "      <td>0.0</td>\n",
       "      <td>HBACK</td>\n",
       "      <td>4</td>\n",
       "      <td>F</td>\n",
       "      <td>C</td>\n",
       "      <td>2</td>\n",
       "    </tr>\n",
       "  </tbody>\n",
       "</table>\n",
       "</div>"
      ],
      "text/plain": [
       "   veh_value  exposure  claimcst0 veh_body veh_age gender area agecat\n",
       "0       1.06  0.303901        0.0    HBACK       3      F    C      2\n",
       "1       1.03  0.648871        0.0    HBACK       2      F    A      4\n",
       "2       3.26  0.569473        0.0      UTE       2      F    E      2\n",
       "3       4.14  0.317591        0.0    STNWG       2      F    D      2\n",
       "4       0.72  0.648871        0.0    HBACK       4      F    C      2"
      ]
     },
     "execution_count": 113,
     "metadata": {},
     "output_type": "execute_result"
    }
   ],
   "source": [
    "df=pd.read_csv(r\"C:/Users/Omar\\Desktop/Omar_Files/Python_Analysis/DeepLearning_ANN/DataSet/data_car.csv\")\n",
    "df=df.drop([\"X_OBSTAT_\",\"clm\",\"numclaims\"],axis=1)\n",
    "df[\"agecat\"]=df[\"agecat\"].astype(\"object\")\n",
    "df[\"veh_age\"]=df[\"veh_age\"].astype(\"object\")\n",
    "df.head()"
   ]
  },
  {
   "cell_type": "code",
   "execution_count": 114,
   "metadata": {},
   "outputs": [
    {
     "data": {
      "text/html": [
       "<div>\n",
       "<style scoped>\n",
       "    .dataframe tbody tr th:only-of-type {\n",
       "        vertical-align: middle;\n",
       "    }\n",
       "\n",
       "    .dataframe tbody tr th {\n",
       "        vertical-align: top;\n",
       "    }\n",
       "\n",
       "    .dataframe thead th {\n",
       "        text-align: right;\n",
       "    }\n",
       "</style>\n",
       "<table border=\"1\" class=\"dataframe\">\n",
       "  <thead>\n",
       "    <tr style=\"text-align: right;\">\n",
       "      <th></th>\n",
       "      <th>veh_value</th>\n",
       "      <th>exposure</th>\n",
       "      <th>claimcst0</th>\n",
       "      <th>veh_body</th>\n",
       "      <th>veh_age</th>\n",
       "      <th>gender</th>\n",
       "      <th>area</th>\n",
       "      <th>agecat</th>\n",
       "    </tr>\n",
       "  </thead>\n",
       "  <tbody>\n",
       "    <tr>\n",
       "      <th>0</th>\n",
       "      <td>1.59</td>\n",
       "      <td>0.229979</td>\n",
       "      <td>0.0</td>\n",
       "      <td>SEDAN</td>\n",
       "      <td>1</td>\n",
       "      <td>F</td>\n",
       "      <td>A</td>\n",
       "      <td>1</td>\n",
       "    </tr>\n",
       "    <tr>\n",
       "      <th>1</th>\n",
       "      <td>1.46</td>\n",
       "      <td>0.221766</td>\n",
       "      <td>0.0</td>\n",
       "      <td>HBACK</td>\n",
       "      <td>1</td>\n",
       "      <td>F</td>\n",
       "      <td>A</td>\n",
       "      <td>1</td>\n",
       "    </tr>\n",
       "    <tr>\n",
       "      <th>2</th>\n",
       "      <td>1.54</td>\n",
       "      <td>0.238193</td>\n",
       "      <td>0.0</td>\n",
       "      <td>SEDAN</td>\n",
       "      <td>1</td>\n",
       "      <td>F</td>\n",
       "      <td>A</td>\n",
       "      <td>1</td>\n",
       "    </tr>\n",
       "    <tr>\n",
       "      <th>3</th>\n",
       "      <td>1.57</td>\n",
       "      <td>0.522930</td>\n",
       "      <td>0.0</td>\n",
       "      <td>SEDAN</td>\n",
       "      <td>1</td>\n",
       "      <td>F</td>\n",
       "      <td>A</td>\n",
       "      <td>1</td>\n",
       "    </tr>\n",
       "    <tr>\n",
       "      <th>4</th>\n",
       "      <td>1.41</td>\n",
       "      <td>0.219028</td>\n",
       "      <td>0.0</td>\n",
       "      <td>HBACK</td>\n",
       "      <td>1</td>\n",
       "      <td>F</td>\n",
       "      <td>A</td>\n",
       "      <td>1</td>\n",
       "    </tr>\n",
       "  </tbody>\n",
       "</table>\n",
       "</div>"
      ],
      "text/plain": [
       "   veh_value  exposure  claimcst0 veh_body veh_age gender area agecat\n",
       "0       1.59  0.229979        0.0    SEDAN       1      F    A      1\n",
       "1       1.46  0.221766        0.0    HBACK       1      F    A      1\n",
       "2       1.54  0.238193        0.0    SEDAN       1      F    A      1\n",
       "3       1.57  0.522930        0.0    SEDAN       1      F    A      1\n",
       "4       1.41  0.219028        0.0    HBACK       1      F    A      1"
      ]
     },
     "execution_count": 114,
     "metadata": {},
     "output_type": "execute_result"
    }
   ],
   "source": [
    "df=df.sort_values(by=['veh_age', 'agecat','area','gender']).reset_index().drop(\"index\",axis=1)\n",
    "df.head()"
   ]
  },
  {
   "cell_type": "markdown",
   "metadata": {},
   "source": [
    "---"
   ]
  },
  {
   "cell_type": "code",
   "execution_count": 115,
   "metadata": {},
   "outputs": [
    {
     "name": "stdout",
     "output_type": "stream",
     "text": [
      "we have 3 numerical features : ['veh_value', 'exposure', 'claimcst0']\n",
      "\n",
      "we have 5 categorical features : ['veh_body', 'veh_age', 'gender', 'area', 'agecat']\n"
     ]
    }
   ],
   "source": [
    "\n",
    "categorical_features=df.select_dtypes(include=[\"object\"])\n",
    "numerical_features=df.select_dtypes(exclude=[\"object\"])\n",
    "\n",
    "print(\"we have {} numerical features : {}\\n\".format(numerical_features.shape[1],list(numerical_features.columns)))\n",
    "print(\"we have {} categorical features : {}\".format(categorical_features.shape[1],list(categorical_features.columns)))"
   ]
  },
  {
   "cell_type": "code",
   "execution_count": 116,
   "metadata": {},
   "outputs": [],
   "source": [
    "discrete_feature=[feature for feature in numerical_features if  len(df[feature].unique())<=25]\n",
    "countinuous_feature=[feature for feature in numerical_features if  len(df[feature].unique())>25]"
   ]
  },
  {
   "cell_type": "code",
   "execution_count": 117,
   "metadata": {},
   "outputs": [
    {
     "name": "stdout",
     "output_type": "stream",
     "text": [
      "we have 0 discrete feature : []\n",
      "\n",
      "we have 3 countinuous feature : ['veh_value', 'exposure', 'claimcst0']\n"
     ]
    }
   ],
   "source": [
    "print(\"we have {} discrete feature : {}\\n\".format(len(discrete_feature),(discrete_feature)))\n",
    "print(\"we have {} countinuous feature : {}\".format(len(countinuous_feature),(countinuous_feature)))"
   ]
  },
  {
   "cell_type": "code",
   "execution_count": 118,
   "metadata": {},
   "outputs": [],
   "source": [
    "categories_encoder=LabelEncoder()\n",
    "for col in df:\n",
    "    if col in list(df.select_dtypes(include=\"object\").columns):\n",
    "        df[col]=categories_encoder.fit_transform(df[col])"
   ]
  },
  {
   "cell_type": "code",
   "execution_count": 119,
   "metadata": {},
   "outputs": [
    {
     "data": {
      "text/plain": [
       "13"
      ]
     },
     "execution_count": 119,
     "metadata": {},
     "output_type": "execute_result"
    }
   ],
   "source": [
    "df[\"veh_body\"].nunique()"
   ]
  },
  {
   "cell_type": "code",
   "execution_count": 123,
   "metadata": {},
   "outputs": [],
   "source": [
    "x=df.drop(\"veh_body\",axis=1)\n",
    "y=df[\"veh_body\"]"
   ]
  },
  {
   "cell_type": "code",
   "execution_count": 124,
   "metadata": {},
   "outputs": [
    {
     "data": {
      "text/plain": [
       "veh_value     2.968022\n",
       "exposure      0.175557\n",
       "claimcst0    17.502503\n",
       "dtype: float64"
      ]
     },
     "execution_count": 124,
     "metadata": {},
     "output_type": "execute_result"
    }
   ],
   "source": [
    "x[countinuous_feature].skew(axis=0,skipna=True)"
   ]
  },
  {
   "cell_type": "code",
   "execution_count": 125,
   "metadata": {},
   "outputs": [],
   "source": [
    "from sklearn.preprocessing import PowerTransformer\n",
    "pt=PowerTransformer(method=\"yeo-johnson\")\n",
    "transform_features=['veh_value']\n",
    "df[transform_features]=pt.fit_transform(x[transform_features])"
   ]
  },
  {
   "cell_type": "code",
   "execution_count": 126,
   "metadata": {},
   "outputs": [
    {
     "data": {
      "text/plain": [
       "veh_value    0.010369\n",
       "dtype: float64"
      ]
     },
     "execution_count": 126,
     "metadata": {},
     "output_type": "execute_result"
    }
   ],
   "source": [
    "df[transform_features].skew(axis=0,skipna=True)"
   ]
  },
  {
   "cell_type": "code",
   "execution_count": 127,
   "metadata": {},
   "outputs": [],
   "source": [
    "from imblearn.combine import SMOTETomek,SMOTEENN\n",
    "smt=SMOTEENN(random_state=42,sampling_strategy=\"minority\")\n",
    "x_re,y_res=smt.fit_resample(x,y)"
   ]
  },
  {
   "cell_type": "code",
   "execution_count": 128,
   "metadata": {},
   "outputs": [
    {
     "name": "stdout",
     "output_type": "stream",
     "text": [
      "Train data shape of X = (28652, 7) and Y = (28652,) : \n",
      "Test data shape of X = (7164, 7) and Y = (7164,) : \n"
     ]
    }
   ],
   "source": [
    "x_train, x_test, y_train, y_test = train_test_split(x_re,y_res ,test_size= 0.2,random_state=42)\n",
    "\n",
    "print(\"Train data shape of X = % s and Y = % s : \"%(\n",
    "\tx_train.shape, y_train.shape))\n",
    "\n",
    "print(\"Test data shape of X = % s and Y = % s : \"%(\n",
    "\tx_test.shape, y_test.shape))"
   ]
  },
  {
   "cell_type": "code",
   "execution_count": 129,
   "metadata": {},
   "outputs": [],
   "source": [
    "sc=StandardScaler()\n",
    "x_train=sc.fit_transform(x_train)\n",
    "x_test=sc.transform(x_test)"
   ]
  },
  {
   "cell_type": "markdown",
   "metadata": {},
   "source": [
    "* *Importing Tensorflow :*"
   ]
  },
  {
   "cell_type": "code",
   "execution_count": 133,
   "metadata": {},
   "outputs": [],
   "source": [
    "import tensorflow as tf\n",
    "from tensorflow.keras.models import Sequential\n",
    "from tensorflow.keras.layers import Dense\n",
    "from tensorflow.keras.layers import ReLU,PReLU,LeakyReLU\n",
    "from tensorflow.keras.layers import Dropout"
   ]
  },
  {
   "cell_type": "markdown",
   "metadata": {},
   "source": [
    "* *Model Preparation :*"
   ]
  },
  {
   "cell_type": "code",
   "execution_count": 134,
   "metadata": {},
   "outputs": [],
   "source": [
    "classifier=Sequential()\n",
    "classifier.add(Dense(units=7,activation=\"ReLU\")) # * *1st Hidden Layer :*\n",
    "classifier.add(Dense(units=14,activation=\"ReLU\")) # * *2nd Hidden Layer :*\n",
    "classifier.add(Dense(13,activation=\"softmax\")) # * *Last Layer -Output :*"
   ]
  },
  {
   "cell_type": "code",
   "execution_count": 135,
   "metadata": {},
   "outputs": [],
   "source": [
    "opt=tf.keras.optimizers.Adam(learning_rate=0.01) # * *Adam Optimizer Preparation :*\n",
    "classifier.compile(optimizer=opt,loss=\"sparse_categorical_crossentropy\",metrics=[\"accuracy\"]) # * *Compiling the Model :*\n",
    "# categorical_crossentropy"
   ]
  },
  {
   "cell_type": "markdown",
   "metadata": {},
   "source": [
    "* *Early Stopping Preparation :*"
   ]
  },
  {
   "cell_type": "code",
   "execution_count": 136,
   "metadata": {},
   "outputs": [],
   "source": [
    "import tensorflow\n",
    "early_stopping=tf.keras.callbacks.EarlyStopping(\n",
    "    monitor='val_loss',\n",
    "    min_delta=0.001,\n",
    "    patience=20,\n",
    "    verbose=1,\n",
    "    mode='auto',\n",
    "    baseline=None,\n",
    "    restore_best_weights=False,\n",
    "    start_from_epoch=0\n",
    ")"
   ]
  },
  {
   "cell_type": "markdown",
   "metadata": {},
   "source": [
    "* *Model Fitting :*"
   ]
  },
  {
   "cell_type": "code",
   "execution_count": 137,
   "metadata": {},
   "outputs": [
    {
     "name": "stdout",
     "output_type": "stream",
     "text": [
      "Epoch 1/1000\n",
      "600/600 [==============================] - 2s 2ms/step - loss: 0.4018 - accuracy: 0.8692 - val_loss: 0.2485 - val_accuracy: 0.9268\n",
      "Epoch 2/1000\n",
      "600/600 [==============================] - 1s 2ms/step - loss: 0.2169 - accuracy: 0.9332 - val_loss: 0.1962 - val_accuracy: 0.9355\n",
      "Epoch 3/1000\n",
      "600/600 [==============================] - 1s 2ms/step - loss: 0.1697 - accuracy: 0.9470 - val_loss: 0.1558 - val_accuracy: 0.9474\n",
      "Epoch 4/1000\n",
      "600/600 [==============================] - 1s 2ms/step - loss: 0.1526 - accuracy: 0.9546 - val_loss: 0.1271 - val_accuracy: 0.9582\n",
      "Epoch 5/1000\n",
      "600/600 [==============================] - 1s 2ms/step - loss: 0.1451 - accuracy: 0.9543 - val_loss: 0.1259 - val_accuracy: 0.9627\n",
      "Epoch 6/1000\n",
      "600/600 [==============================] - 1s 2ms/step - loss: 0.1378 - accuracy: 0.9580 - val_loss: 0.1301 - val_accuracy: 0.9561\n",
      "Epoch 7/1000\n",
      "600/600 [==============================] - 1s 2ms/step - loss: 0.1386 - accuracy: 0.9580 - val_loss: 0.1182 - val_accuracy: 0.9626\n",
      "Epoch 8/1000\n",
      "600/600 [==============================] - 1s 2ms/step - loss: 0.1336 - accuracy: 0.9583 - val_loss: 0.1334 - val_accuracy: 0.9571\n",
      "Epoch 9/1000\n",
      "600/600 [==============================] - 1s 2ms/step - loss: 0.1306 - accuracy: 0.9581 - val_loss: 0.1267 - val_accuracy: 0.9547\n",
      "Epoch 10/1000\n",
      "600/600 [==============================] - 1s 2ms/step - loss: 0.1260 - accuracy: 0.9586 - val_loss: 0.1178 - val_accuracy: 0.9631\n",
      "Epoch 11/1000\n",
      "600/600 [==============================] - 2s 3ms/step - loss: 0.1239 - accuracy: 0.9597 - val_loss: 0.1216 - val_accuracy: 0.9616\n",
      "Epoch 12/1000\n",
      "600/600 [==============================] - 3s 5ms/step - loss: 0.1205 - accuracy: 0.9615 - val_loss: 0.1222 - val_accuracy: 0.9672\n",
      "Epoch 13/1000\n",
      "600/600 [==============================] - 3s 4ms/step - loss: 0.1260 - accuracy: 0.9597 - val_loss: 0.1257 - val_accuracy: 0.9596\n",
      "Epoch 14/1000\n",
      "600/600 [==============================] - 1s 2ms/step - loss: 0.1213 - accuracy: 0.9607 - val_loss: 0.1164 - val_accuracy: 0.9635\n",
      "Epoch 15/1000\n",
      "600/600 [==============================] - 1s 2ms/step - loss: 0.1194 - accuracy: 0.9613 - val_loss: 0.1174 - val_accuracy: 0.9609\n",
      "Epoch 16/1000\n",
      "600/600 [==============================] - 1s 2ms/step - loss: 0.1174 - accuracy: 0.9606 - val_loss: 0.1370 - val_accuracy: 0.9541\n",
      "Epoch 17/1000\n",
      "600/600 [==============================] - 1s 2ms/step - loss: 0.1202 - accuracy: 0.9612 - val_loss: 0.1154 - val_accuracy: 0.9615\n",
      "Epoch 18/1000\n",
      "600/600 [==============================] - 1s 2ms/step - loss: 0.1131 - accuracy: 0.9623 - val_loss: 0.1238 - val_accuracy: 0.9584\n",
      "Epoch 19/1000\n",
      "600/600 [==============================] - 1s 2ms/step - loss: 0.1149 - accuracy: 0.9634 - val_loss: 0.1312 - val_accuracy: 0.9601\n",
      "Epoch 20/1000\n",
      "600/600 [==============================] - 1s 2ms/step - loss: 0.1125 - accuracy: 0.9642 - val_loss: 0.1128 - val_accuracy: 0.9624\n",
      "Epoch 21/1000\n",
      "600/600 [==============================] - 1s 2ms/step - loss: 0.1120 - accuracy: 0.9628 - val_loss: 0.1146 - val_accuracy: 0.9616\n",
      "Epoch 22/1000\n",
      "600/600 [==============================] - 1s 2ms/step - loss: 0.1107 - accuracy: 0.9643 - val_loss: 0.1217 - val_accuracy: 0.9609\n",
      "Epoch 23/1000\n",
      "600/600 [==============================] - 2s 4ms/step - loss: 0.1107 - accuracy: 0.9627 - val_loss: 0.1211 - val_accuracy: 0.9601\n",
      "Epoch 24/1000\n",
      "600/600 [==============================] - 3s 5ms/step - loss: 0.1119 - accuracy: 0.9644 - val_loss: 0.1097 - val_accuracy: 0.9684\n",
      "Epoch 25/1000\n",
      "600/600 [==============================] - 3s 4ms/step - loss: 0.1097 - accuracy: 0.9640 - val_loss: 0.1220 - val_accuracy: 0.9606\n",
      "Epoch 26/1000\n",
      "600/600 [==============================] - 2s 3ms/step - loss: 0.1118 - accuracy: 0.9622 - val_loss: 0.1257 - val_accuracy: 0.9604\n",
      "Epoch 27/1000\n",
      "600/600 [==============================] - 1s 2ms/step - loss: 0.1092 - accuracy: 0.9639 - val_loss: 0.1114 - val_accuracy: 0.9639\n",
      "Epoch 28/1000\n",
      "600/600 [==============================] - 1s 2ms/step - loss: 0.1096 - accuracy: 0.9647 - val_loss: 0.1284 - val_accuracy: 0.9581\n",
      "Epoch 29/1000\n",
      "600/600 [==============================] - 1s 2ms/step - loss: 0.1067 - accuracy: 0.9645 - val_loss: 0.1140 - val_accuracy: 0.9650\n",
      "Epoch 30/1000\n",
      "600/600 [==============================] - 1s 2ms/step - loss: 0.1076 - accuracy: 0.9643 - val_loss: 0.1178 - val_accuracy: 0.9653\n",
      "Epoch 31/1000\n",
      "600/600 [==============================] - 2s 3ms/step - loss: 0.1081 - accuracy: 0.9642 - val_loss: 0.1172 - val_accuracy: 0.9624\n",
      "Epoch 32/1000\n",
      "600/600 [==============================] - 3s 5ms/step - loss: 0.1078 - accuracy: 0.9661 - val_loss: 0.1198 - val_accuracy: 0.9615\n",
      "Epoch 33/1000\n",
      "600/600 [==============================] - 3s 4ms/step - loss: 0.1057 - accuracy: 0.9650 - val_loss: 0.1286 - val_accuracy: 0.9551\n",
      "Epoch 34/1000\n",
      "600/600 [==============================] - 3s 5ms/step - loss: 0.1071 - accuracy: 0.9638 - val_loss: 0.1122 - val_accuracy: 0.9632\n",
      "Epoch 35/1000\n",
      "600/600 [==============================] - 1s 2ms/step - loss: 0.1060 - accuracy: 0.9649 - val_loss: 0.1145 - val_accuracy: 0.9646\n",
      "Epoch 36/1000\n",
      "600/600 [==============================] - 1s 2ms/step - loss: 0.1084 - accuracy: 0.9636 - val_loss: 0.1194 - val_accuracy: 0.9635\n",
      "Epoch 37/1000\n",
      "600/600 [==============================] - 1s 2ms/step - loss: 0.1092 - accuracy: 0.9638 - val_loss: 0.1196 - val_accuracy: 0.9628\n",
      "Epoch 38/1000\n",
      "600/600 [==============================] - 1s 2ms/step - loss: 0.1061 - accuracy: 0.9653 - val_loss: 0.1291 - val_accuracy: 0.9596\n",
      "Epoch 39/1000\n",
      "600/600 [==============================] - 1s 2ms/step - loss: 0.1061 - accuracy: 0.9647 - val_loss: 0.1127 - val_accuracy: 0.9656\n",
      "Epoch 40/1000\n",
      "600/600 [==============================] - 1s 2ms/step - loss: 0.1044 - accuracy: 0.9656 - val_loss: 0.1140 - val_accuracy: 0.9658\n",
      "Epoch 41/1000\n",
      "600/600 [==============================] - 1s 2ms/step - loss: 0.1033 - accuracy: 0.9666 - val_loss: 0.1162 - val_accuracy: 0.9658\n",
      "Epoch 42/1000\n",
      "600/600 [==============================] - 1s 2ms/step - loss: 0.1080 - accuracy: 0.9649 - val_loss: 0.1132 - val_accuracy: 0.9653\n",
      "Epoch 43/1000\n",
      "600/600 [==============================] - 3s 4ms/step - loss: 0.1101 - accuracy: 0.9649 - val_loss: 0.1182 - val_accuracy: 0.9632\n",
      "Epoch 44/1000\n",
      "600/600 [==============================] - 3s 5ms/step - loss: 0.1035 - accuracy: 0.9653 - val_loss: 0.1153 - val_accuracy: 0.9641\n",
      "Epoch 44: early stopping\n"
     ]
    }
   ],
   "source": [
    "model_history=classifier.fit(x_train,y_train,validation_split=.33,epochs=1000,callbacks=early_stopping)"
   ]
  },
  {
   "cell_type": "code",
   "execution_count": 138,
   "metadata": {},
   "outputs": [
    {
     "data": {
      "text/plain": [
       "dict_keys(['loss', 'accuracy', 'val_loss', 'val_accuracy'])"
      ]
     },
     "execution_count": 138,
     "metadata": {},
     "output_type": "execute_result"
    }
   ],
   "source": [
    "model_history.history.keys()"
   ]
  },
  {
   "cell_type": "code",
   "execution_count": 139,
   "metadata": {},
   "outputs": [
    {
     "data": {
      "image/png": "[encoded data removed]",
      "text/plain": [
       "<Figure size 1800x800 with 2 Axes>"
      ]
     },
     "metadata": {},
     "output_type": "display_data"
    }
   ],
   "source": [
    "plt.figure(figsize=(18, 8))\n",
    "plt.subplot(221)\n",
    "plt.plot(model_history.history[\"accuracy\"])\n",
    "plt.plot(model_history.history[\"val_accuracy\"])\n",
    "plt.ylabel(\"accuracy\")\n",
    "plt.xlabel(\"epoch\")\n",
    "plt.legend([\"train\",\"test\"]);\n",
    "\n",
    "\n",
    "plt.subplot(222)\n",
    "plt.plot(model_history.history[\"loss\"])\n",
    "plt.plot(model_history.history[\"val_loss\"])\n",
    "plt.ylabel(\"loss\")\n",
    "plt.xlabel(\"epoch\")\n",
    "plt.legend([\"train\",\"test\"]);"
   ]
  },
  {
   "cell_type": "code",
   "execution_count": 140,
   "metadata": {},
   "outputs": [
    {
     "name": "stdout",
     "output_type": "stream",
     "text": [
      "Model: \"sequential_6\"\n",
      "_________________________________________________________________\n",
      " Layer (type)                Output Shape              Param #   \n",
      "=================================================================\n",
      " dense_21 (Dense)            (None, 7)                 56        \n",
      "                                                                 \n",
      " dense_22 (Dense)            (None, 14)                112       \n",
      "                                                                 \n",
      " dense_23 (Dense)            (None, 13)                195       \n",
      "                                                                 \n",
      "=================================================================\n",
      "Total params: 363 (1.42 KB)\n",
      "Trainable params: 363 (1.42 KB)\n",
      "Non-trainable params: 0 (0.00 Byte)\n",
      "_________________________________________________________________\n"
     ]
    }
   ],
   "source": [
    "classifier.summary()"
   ]
  },
  {
   "cell_type": "code",
   "execution_count": 141,
   "metadata": {},
   "outputs": [
    {
     "name": "stdout",
     "output_type": "stream",
     "text": [
      "224/224 [==============================] - 0s 1ms/step\n"
     ]
    }
   ],
   "source": [
    "y=classifier.predict(x_test)"
   ]
  },
  {
   "cell_type": "code",
   "execution_count": 142,
   "metadata": {},
   "outputs": [
    {
     "name": "stdout",
     "output_type": "stream",
     "text": [
      "224/224 [==============================] - 0s 1ms/step - loss: 0.1335 - accuracy: 0.9612\n"
     ]
    },
    {
     "data": {
      "text/plain": [
       "[0.13345961272716522, 0.9611948728561401]"
      ]
     },
     "execution_count": 142,
     "metadata": {},
     "output_type": "execute_result"
    }
   ],
   "source": [
    "classifier.evaluate(x_test, y_test)"
   ]
  },
  {
   "cell_type": "code",
   "execution_count": 143,
   "metadata": {},
   "outputs": [
    {
     "name": "stdout",
     "output_type": "stream",
     "text": [
      "224/224 [==============================] - 0s 1ms/step - loss: 0.1335 - accuracy: 0.9612\n",
      "Test accuracy: 0.9611948728561401\n"
     ]
    }
   ],
   "source": [
    "accuracy = classifier.evaluate(x_test, y_test)\n",
    "print(f\"Test accuracy: {accuracy[1]}\")"
   ]
  },
  {
   "cell_type": "code",
   "execution_count": 144,
   "metadata": {},
   "outputs": [
    {
     "data": {
      "text/plain": [
       "array([3.1215416e-25, 2.2256068e-22, 1.6666672e-22, 1.9491195e-14,\n",
       "       3.1007263e-32, 9.3372072e-25, 1.6635896e-26, 6.8962251e-27,\n",
       "       9.1875803e-01, 4.3022748e-08, 8.1242025e-02, 1.8684212e-25,\n",
       "       2.4041046e-31], dtype=float32)"
      ]
     },
     "execution_count": 144,
     "metadata": {},
     "output_type": "execute_result"
    }
   ],
   "source": [
    "y[0]"
   ]
  },
  {
   "cell_type": "code",
   "execution_count": 145,
   "metadata": {},
   "outputs": [
    {
     "data": {
      "text/plain": [
       "7164"
      ]
     },
     "execution_count": 145,
     "metadata": {},
     "output_type": "execute_result"
    }
   ],
   "source": [
    "import numpy as np\n",
    "predicted_classes = np.argmax(y, axis=1)\n",
    "len(predicted_classes)"
   ]
  },
  {
   "cell_type": "code",
   "execution_count": 146,
   "metadata": {},
   "outputs": [
    {
     "name": "stdout",
     "output_type": "stream",
     "text": [
      "Confusion Matrix:\n",
      "[[   0    0    0    0    0    0    0    0]\n",
      " [   0 1115    0    0   64    0    0    0]\n",
      " [   0    0    0    0    0    2    0    0]\n",
      " [   0    0    0 4320    0    2    0    0]\n",
      " [   0  120    0    0  570    2    0    1]\n",
      " [   1    1    0   60    9  874    0    2]\n",
      " [   0    0    0    0    0    1    0    1]\n",
      " [   0    0    0    7    1    4    0    7]]\n"
     ]
    }
   ],
   "source": [
    "conf_matrix = confusion_matrix(y_test, predicted_classes)\n",
    "\n",
    "# Print the confusion matrix\n",
    "print(\"Confusion Matrix:\")\n",
    "print(conf_matrix)"
   ]
  },
  {
   "cell_type": "code",
   "execution_count": 147,
   "metadata": {},
   "outputs": [
    {
     "data": {
      "image/png": "[encoded data removed]",
      "text/plain": [
       "<Figure size 1800x800 with 2 Axes>"
      ]
     },
     "metadata": {},
     "output_type": "display_data"
    }
   ],
   "source": [
    "plt.figure(figsize=(18, 8))\n",
    "sns.heatmap(conf_matrix, annot=True, fmt='d', cmap='Greens', xticklabels=range(13), yticklabels=range(13))\n",
    "plt.xlabel('Predicted Class')\n",
    "plt.ylabel('True Class')\n",
    "plt.title('Confusion Matrix for veh_body Classification')\n",
    "plt.show()"
   ]
  },
  {
   "cell_type": "code",
   "execution_count": null,
   "metadata": {},
   "outputs": [],
   "source": []
  }
 ],
 "metadata": {
  "kernelspec": {
   "display_name": "Python 3",
   "language": "python",
   "name": "python3"
  },
  "language_info": {
   "codemirror_mode": {
    "name": "ipython",
    "version": 3
   },
   "file_extension": ".py",
   "mimetype": "text/x-python",
   "name": "python",
   "nbconvert_exporter": "python",
   "pygments_lexer": "ipython3",
   "version": "3.10.8"
  }
 },
 "nbformat": 4,
 "nbformat_minor": 2
}
