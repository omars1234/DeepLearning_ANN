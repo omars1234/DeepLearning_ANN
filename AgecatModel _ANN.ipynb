{
 "cells": [
  {
   "cell_type": "markdown",
   "metadata": {},
   "source": [
    "# *ANN -Artificial Neural Network*"
   ]
  },
  {
   "cell_type": "markdown",
   "metadata": {},
   "source": [
    "### *Analysis objective :<br>Applying -ANN- model on the prediction of -gender- as a target Feature*\n",
    "---"
   ]
  },
  {
   "cell_type": "code",
   "execution_count": 122,
   "metadata": {},
   "outputs": [],
   "source": [
    "import pandas as pd\n",
    "from matplotlib import pyplot  as plt\n",
    "%matplotlib inline\n",
    "import matplotlib\n",
    "matplotlib.rcParams[\"figure.figsize\"]=(20,10)\n",
    "matplotlib.rcParams[\"figure.figsize\"]=(20,10)\n",
    "import os\n",
    "from sklearn.preprocessing import LabelEncoder,StandardScaler\n",
    "LabelEncoder_category=LabelEncoder()\n",
    "from sklearn.model_selection import train_test_split,cross_val_score\n",
    "from sklearn.metrics import (r2_score,accuracy_score,classification_report,ConfusionMatrixDisplay,confusion_matrix)\n",
    "import warnings\n",
    "from sklearn.utils.multiclass import unique_labels\n",
    "import seaborn as sns"
   ]
  },
  {
   "cell_type": "code",
   "execution_count": 158,
   "metadata": {},
   "outputs": [
    {
     "data": {
      "text/html": [
       "<div>\n",
       "<style scoped>\n",
       "    .dataframe tbody tr th:only-of-type {\n",
       "        vertical-align: middle;\n",
       "    }\n",
       "\n",
       "    .dataframe tbody tr th {\n",
       "        vertical-align: top;\n",
       "    }\n",
       "\n",
       "    .dataframe thead th {\n",
       "        text-align: right;\n",
       "    }\n",
       "</style>\n",
       "<table border=\"1\" class=\"dataframe\">\n",
       "  <thead>\n",
       "    <tr style=\"text-align: right;\">\n",
       "      <th></th>\n",
       "      <th>veh_value</th>\n",
       "      <th>exposure</th>\n",
       "      <th>claimcst0</th>\n",
       "      <th>veh_body</th>\n",
       "      <th>veh_age</th>\n",
       "      <th>gender</th>\n",
       "      <th>area</th>\n",
       "      <th>agecat</th>\n",
       "    </tr>\n",
       "  </thead>\n",
       "  <tbody>\n",
       "    <tr>\n",
       "      <th>0</th>\n",
       "      <td>1.06</td>\n",
       "      <td>0.303901</td>\n",
       "      <td>0.0</td>\n",
       "      <td>HBACK</td>\n",
       "      <td>3</td>\n",
       "      <td>F</td>\n",
       "      <td>C</td>\n",
       "      <td>2</td>\n",
       "    </tr>\n",
       "    <tr>\n",
       "      <th>1</th>\n",
       "      <td>1.03</td>\n",
       "      <td>0.648871</td>\n",
       "      <td>0.0</td>\n",
       "      <td>HBACK</td>\n",
       "      <td>2</td>\n",
       "      <td>F</td>\n",
       "      <td>A</td>\n",
       "      <td>4</td>\n",
       "    </tr>\n",
       "    <tr>\n",
       "      <th>2</th>\n",
       "      <td>3.26</td>\n",
       "      <td>0.569473</td>\n",
       "      <td>0.0</td>\n",
       "      <td>UTE</td>\n",
       "      <td>2</td>\n",
       "      <td>F</td>\n",
       "      <td>E</td>\n",
       "      <td>2</td>\n",
       "    </tr>\n",
       "    <tr>\n",
       "      <th>3</th>\n",
       "      <td>4.14</td>\n",
       "      <td>0.317591</td>\n",
       "      <td>0.0</td>\n",
       "      <td>STNWG</td>\n",
       "      <td>2</td>\n",
       "      <td>F</td>\n",
       "      <td>D</td>\n",
       "      <td>2</td>\n",
       "    </tr>\n",
       "    <tr>\n",
       "      <th>4</th>\n",
       "      <td>0.72</td>\n",
       "      <td>0.648871</td>\n",
       "      <td>0.0</td>\n",
       "      <td>HBACK</td>\n",
       "      <td>4</td>\n",
       "      <td>F</td>\n",
       "      <td>C</td>\n",
       "      <td>2</td>\n",
       "    </tr>\n",
       "  </tbody>\n",
       "</table>\n",
       "</div>"
      ],
      "text/plain": [
       "   veh_value  exposure  claimcst0 veh_body veh_age gender area agecat\n",
       "0       1.06  0.303901        0.0    HBACK       3      F    C      2\n",
       "1       1.03  0.648871        0.0    HBACK       2      F    A      4\n",
       "2       3.26  0.569473        0.0      UTE       2      F    E      2\n",
       "3       4.14  0.317591        0.0    STNWG       2      F    D      2\n",
       "4       0.72  0.648871        0.0    HBACK       4      F    C      2"
      ]
     },
     "execution_count": 158,
     "metadata": {},
     "output_type": "execute_result"
    }
   ],
   "source": [
    "df=pd.read_csv(r\"C:/Users/Omar\\Desktop/Omar_Files/Python_Analysis/DeepLearning_ANN/DataSet/data_car.csv\")\n",
    "df=df.drop([\"X_OBSTAT_\",\"clm\",\"numclaims\"],axis=1)\n",
    "df[\"agecat\"]=df[\"agecat\"].astype(\"object\")\n",
    "df[\"veh_age\"]=df[\"veh_age\"].astype(\"object\")\n",
    "df.head()"
   ]
  },
  {
   "cell_type": "code",
   "execution_count": 159,
   "metadata": {},
   "outputs": [
    {
     "data": {
      "text/html": [
       "<div>\n",
       "<style scoped>\n",
       "    .dataframe tbody tr th:only-of-type {\n",
       "        vertical-align: middle;\n",
       "    }\n",
       "\n",
       "    .dataframe tbody tr th {\n",
       "        vertical-align: top;\n",
       "    }\n",
       "\n",
       "    .dataframe thead th {\n",
       "        text-align: right;\n",
       "    }\n",
       "</style>\n",
       "<table border=\"1\" class=\"dataframe\">\n",
       "  <thead>\n",
       "    <tr style=\"text-align: right;\">\n",
       "      <th></th>\n",
       "      <th>veh_value</th>\n",
       "      <th>exposure</th>\n",
       "      <th>claimcst0</th>\n",
       "      <th>veh_body</th>\n",
       "      <th>veh_age</th>\n",
       "      <th>gender</th>\n",
       "      <th>area</th>\n",
       "      <th>agecat</th>\n",
       "    </tr>\n",
       "  </thead>\n",
       "  <tbody>\n",
       "    <tr>\n",
       "      <th>0</th>\n",
       "      <td>1.59</td>\n",
       "      <td>0.229979</td>\n",
       "      <td>0.0</td>\n",
       "      <td>SEDAN</td>\n",
       "      <td>1</td>\n",
       "      <td>F</td>\n",
       "      <td>A</td>\n",
       "      <td>1</td>\n",
       "    </tr>\n",
       "    <tr>\n",
       "      <th>1</th>\n",
       "      <td>1.46</td>\n",
       "      <td>0.221766</td>\n",
       "      <td>0.0</td>\n",
       "      <td>HBACK</td>\n",
       "      <td>1</td>\n",
       "      <td>F</td>\n",
       "      <td>A</td>\n",
       "      <td>1</td>\n",
       "    </tr>\n",
       "    <tr>\n",
       "      <th>2</th>\n",
       "      <td>1.54</td>\n",
       "      <td>0.238193</td>\n",
       "      <td>0.0</td>\n",
       "      <td>SEDAN</td>\n",
       "      <td>1</td>\n",
       "      <td>F</td>\n",
       "      <td>A</td>\n",
       "      <td>1</td>\n",
       "    </tr>\n",
       "    <tr>\n",
       "      <th>3</th>\n",
       "      <td>1.57</td>\n",
       "      <td>0.522930</td>\n",
       "      <td>0.0</td>\n",
       "      <td>SEDAN</td>\n",
       "      <td>1</td>\n",
       "      <td>F</td>\n",
       "      <td>A</td>\n",
       "      <td>1</td>\n",
       "    </tr>\n",
       "    <tr>\n",
       "      <th>4</th>\n",
       "      <td>1.41</td>\n",
       "      <td>0.219028</td>\n",
       "      <td>0.0</td>\n",
       "      <td>HBACK</td>\n",
       "      <td>1</td>\n",
       "      <td>F</td>\n",
       "      <td>A</td>\n",
       "      <td>1</td>\n",
       "    </tr>\n",
       "  </tbody>\n",
       "</table>\n",
       "</div>"
      ],
      "text/plain": [
       "   veh_value  exposure  claimcst0 veh_body veh_age gender area agecat\n",
       "0       1.59  0.229979        0.0    SEDAN       1      F    A      1\n",
       "1       1.46  0.221766        0.0    HBACK       1      F    A      1\n",
       "2       1.54  0.238193        0.0    SEDAN       1      F    A      1\n",
       "3       1.57  0.522930        0.0    SEDAN       1      F    A      1\n",
       "4       1.41  0.219028        0.0    HBACK       1      F    A      1"
      ]
     },
     "execution_count": 159,
     "metadata": {},
     "output_type": "execute_result"
    }
   ],
   "source": [
    "df=df.sort_values(by=['veh_age', 'agecat','area','gender']).reset_index().drop(\"index\",axis=1)\n",
    "df.head()"
   ]
  },
  {
   "cell_type": "markdown",
   "metadata": {},
   "source": [
    "---"
   ]
  },
  {
   "cell_type": "code",
   "execution_count": 125,
   "metadata": {},
   "outputs": [
    {
     "name": "stdout",
     "output_type": "stream",
     "text": [
      "we have 3 numerical features : ['veh_value', 'exposure', 'claimcst0']\n",
      "\n",
      "we have 5 categorical features : ['veh_body', 'veh_age', 'gender', 'area', 'agecat']\n"
     ]
    }
   ],
   "source": [
    "\n",
    "categorical_features=df.select_dtypes(include=[\"object\"])\n",
    "numerical_features=df.select_dtypes(exclude=[\"object\"])\n",
    "\n",
    "print(\"we have {} numerical features : {}\\n\".format(numerical_features.shape[1],list(numerical_features.columns)))\n",
    "print(\"we have {} categorical features : {}\".format(categorical_features.shape[1],list(categorical_features.columns)))"
   ]
  },
  {
   "cell_type": "code",
   "execution_count": 126,
   "metadata": {},
   "outputs": [],
   "source": [
    "discrete_feature=[feature for feature in numerical_features if  len(df[feature].unique())<=25]\n",
    "countinuous_feature=[feature for feature in numerical_features if  len(df[feature].unique())>25]"
   ]
  },
  {
   "cell_type": "code",
   "execution_count": 127,
   "metadata": {},
   "outputs": [
    {
     "name": "stdout",
     "output_type": "stream",
     "text": [
      "we have 0 discrete feature : []\n",
      "\n",
      "we have 3 countinuous feature : ['veh_value', 'exposure', 'claimcst0']\n"
     ]
    }
   ],
   "source": [
    "print(\"we have {} discrete feature : {}\\n\".format(len(discrete_feature),(discrete_feature)))\n",
    "print(\"we have {} countinuous feature : {}\".format(len(countinuous_feature),(countinuous_feature)))"
   ]
  },
  {
   "cell_type": "code",
   "execution_count": 128,
   "metadata": {},
   "outputs": [],
   "source": [
    "categories_encoder=LabelEncoder()\n",
    "for col in df:\n",
    "    if col in list(df.select_dtypes(include=\"object\").columns):\n",
    "        df[col]=categories_encoder.fit_transform(df[col])"
   ]
  },
  {
   "cell_type": "code",
   "execution_count": 129,
   "metadata": {},
   "outputs": [],
   "source": [
    "x=df.drop(\"agecat\",axis=1)\n",
    "y=df[\"agecat\"]"
   ]
  },
  {
   "cell_type": "code",
   "execution_count": 130,
   "metadata": {},
   "outputs": [
    {
     "data": {
      "text/plain": [
       "veh_value     2.968022\n",
       "exposure      0.175557\n",
       "claimcst0    17.502503\n",
       "dtype: float64"
      ]
     },
     "execution_count": 130,
     "metadata": {},
     "output_type": "execute_result"
    }
   ],
   "source": [
    "x[countinuous_feature].skew(axis=0,skipna=True)"
   ]
  },
  {
   "cell_type": "code",
   "execution_count": 134,
   "metadata": {},
   "outputs": [],
   "source": [
    "from sklearn.preprocessing import PowerTransformer\n",
    "pt=PowerTransformer(method=\"yeo-johnson\")\n",
    "transform_features=['veh_value']\n",
    "df[transform_features]=pt.fit_transform(x[transform_features])"
   ]
  },
  {
   "cell_type": "code",
   "execution_count": 135,
   "metadata": {},
   "outputs": [
    {
     "data": {
      "text/plain": [
       "veh_value    0.010369\n",
       "dtype: float64"
      ]
     },
     "execution_count": 135,
     "metadata": {},
     "output_type": "execute_result"
    }
   ],
   "source": [
    "df[transform_features].skew(axis=0,skipna=True)"
   ]
  },
  {
   "cell_type": "code",
   "execution_count": 136,
   "metadata": {},
   "outputs": [],
   "source": [
    "from imblearn.combine import SMOTETomek,SMOTEENN\n",
    "smt=SMOTEENN(random_state=42,sampling_strategy=\"minority\")\n",
    "x_re,y_res=smt.fit_resample(x,y)"
   ]
  },
  {
   "cell_type": "code",
   "execution_count": 137,
   "metadata": {},
   "outputs": [
    {
     "name": "stdout",
     "output_type": "stream",
     "text": [
      "Train data shape of X = (3014, 7) and Y = (3014,) : \n",
      "Test data shape of X = (754, 7) and Y = (754,) : \n"
     ]
    }
   ],
   "source": [
    "x_train, x_test, y_train, y_test = train_test_split(x_re,y_res ,test_size= 0.2,random_state=42)\n",
    "\n",
    "print(\"Train data shape of X = % s and Y = % s : \"%(\n",
    "\tx_train.shape, y_train.shape))\n",
    "\n",
    "print(\"Test data shape of X = % s and Y = % s : \"%(\n",
    "\tx_test.shape, y_test.shape))"
   ]
  },
  {
   "cell_type": "code",
   "execution_count": 138,
   "metadata": {},
   "outputs": [],
   "source": [
    "sc=StandardScaler()\n",
    "x_train=sc.fit_transform(x_train)\n",
    "x_test=sc.transform(x_test)"
   ]
  },
  {
   "cell_type": "markdown",
   "metadata": {},
   "source": [
    "* *Importing Tensorflow :*"
   ]
  },
  {
   "cell_type": "code",
   "execution_count": 139,
   "metadata": {},
   "outputs": [],
   "source": [
    "import tensorflow as tf"
   ]
  },
  {
   "cell_type": "code",
   "execution_count": 140,
   "metadata": {},
   "outputs": [],
   "source": [
    "from tensorflow.keras.models import Sequential\n",
    "from tensorflow.keras.layers import Dense\n",
    "from tensorflow.keras.layers import ReLU,PReLU,LeakyReLU\n",
    "from tensorflow.keras.layers import Dropout"
   ]
  },
  {
   "cell_type": "markdown",
   "metadata": {},
   "source": [
    "* *Model Preparation :*"
   ]
  },
  {
   "cell_type": "code",
   "execution_count": 141,
   "metadata": {},
   "outputs": [],
   "source": [
    "classifier=Sequential()"
   ]
  },
  {
   "cell_type": "markdown",
   "metadata": {},
   "source": [
    "* *1st Hidden Layer :*"
   ]
  },
  {
   "cell_type": "code",
   "execution_count": 142,
   "metadata": {},
   "outputs": [],
   "source": [
    "classifier.add(Dense(units=7,activation=\"ReLU\"))"
   ]
  },
  {
   "cell_type": "markdown",
   "metadata": {},
   "source": [
    "* *2nd Hidden Layer :*"
   ]
  },
  {
   "cell_type": "code",
   "execution_count": 143,
   "metadata": {},
   "outputs": [],
   "source": [
    "classifier.add(Dense(units=14,activation=\"ReLU\"))"
   ]
  },
  {
   "cell_type": "markdown",
   "metadata": {},
   "source": [
    "* *Last Layer -Output :*"
   ]
  },
  {
   "cell_type": "code",
   "execution_count": 144,
   "metadata": {},
   "outputs": [],
   "source": [
    "classifier.add(Dense(6,activation=\"softmax\"))"
   ]
  },
  {
   "cell_type": "markdown",
   "metadata": {},
   "source": [
    "* *Adam Optimizer Preparation :*"
   ]
  },
  {
   "cell_type": "code",
   "execution_count": 145,
   "metadata": {},
   "outputs": [],
   "source": [
    "import tensorflow\n",
    "opt=tf.keras.optimizers.Adam(learning_rate=0.01)"
   ]
  },
  {
   "cell_type": "markdown",
   "metadata": {},
   "source": [
    "* *Compiling the Model :*"
   ]
  },
  {
   "cell_type": "code",
   "execution_count": 146,
   "metadata": {},
   "outputs": [],
   "source": [
    "classifier.compile(optimizer=opt,loss=\"sparse_categorical_crossentropy\",metrics=[\"accuracy\"])\n",
    "# categorical_crossentropy"
   ]
  },
  {
   "cell_type": "markdown",
   "metadata": {},
   "source": [
    "* *Early Stopping Preparation :*"
   ]
  },
  {
   "cell_type": "code",
   "execution_count": 147,
   "metadata": {},
   "outputs": [],
   "source": [
    "import tensorflow\n",
    "early_stopping=tf.keras.callbacks.EarlyStopping(\n",
    "    monitor='val_loss',\n",
    "    min_delta=0.001,\n",
    "    patience=20,\n",
    "    verbose=1,\n",
    "    mode='auto',\n",
    "    baseline=None,\n",
    "    restore_best_weights=False,\n",
    "    start_from_epoch=0\n",
    ")"
   ]
  },
  {
   "cell_type": "markdown",
   "metadata": {},
   "source": [
    "* *Model Fitting :*"
   ]
  },
  {
   "cell_type": "code",
   "execution_count": 148,
   "metadata": {},
   "outputs": [
    {
     "name": "stdout",
     "output_type": "stream",
     "text": [
      "Epoch 1/1000\n",
      "64/64 [==============================] - 1s 4ms/step - loss: 0.8625 - accuracy: 0.7900 - val_loss: 0.7533 - val_accuracy: 0.8040\n",
      "Epoch 2/1000\n",
      "64/64 [==============================] - 0s 2ms/step - loss: 0.6998 - accuracy: 0.8162 - val_loss: 0.7341 - val_accuracy: 0.8040\n",
      "Epoch 3/1000\n",
      "64/64 [==============================] - 0s 3ms/step - loss: 0.6862 - accuracy: 0.8162 - val_loss: 0.7404 - val_accuracy: 0.8040\n",
      "Epoch 4/1000\n",
      "64/64 [==============================] - 0s 2ms/step - loss: 0.6805 - accuracy: 0.8162 - val_loss: 0.7249 - val_accuracy: 0.8040\n",
      "Epoch 5/1000\n",
      "64/64 [==============================] - 0s 2ms/step - loss: 0.6745 - accuracy: 0.8162 - val_loss: 0.7239 - val_accuracy: 0.8040\n",
      "Epoch 6/1000\n",
      "64/64 [==============================] - 0s 2ms/step - loss: 0.6757 - accuracy: 0.8162 - val_loss: 0.7267 - val_accuracy: 0.8040\n",
      "Epoch 7/1000\n",
      "64/64 [==============================] - 0s 3ms/step - loss: 0.6648 - accuracy: 0.8162 - val_loss: 0.7229 - val_accuracy: 0.8040\n",
      "Epoch 8/1000\n",
      "64/64 [==============================] - 0s 3ms/step - loss: 0.6571 - accuracy: 0.8162 - val_loss: 0.7228 - val_accuracy: 0.8040\n",
      "Epoch 9/1000\n",
      "64/64 [==============================] - 0s 3ms/step - loss: 0.6558 - accuracy: 0.8162 - val_loss: 0.7354 - val_accuracy: 0.8020\n",
      "Epoch 10/1000\n",
      "64/64 [==============================] - 0s 3ms/step - loss: 0.6486 - accuracy: 0.8187 - val_loss: 0.7260 - val_accuracy: 0.8040\n",
      "Epoch 11/1000\n",
      "64/64 [==============================] - 0s 3ms/step - loss: 0.6431 - accuracy: 0.8158 - val_loss: 0.7219 - val_accuracy: 0.8030\n",
      "Epoch 12/1000\n",
      "64/64 [==============================] - 0s 2ms/step - loss: 0.6371 - accuracy: 0.8167 - val_loss: 0.7161 - val_accuracy: 0.8060\n",
      "Epoch 13/1000\n",
      "64/64 [==============================] - 0s 2ms/step - loss: 0.6321 - accuracy: 0.8167 - val_loss: 0.7290 - val_accuracy: 0.8030\n",
      "Epoch 14/1000\n",
      "64/64 [==============================] - 0s 3ms/step - loss: 0.6244 - accuracy: 0.8177 - val_loss: 0.7295 - val_accuracy: 0.7970\n",
      "Epoch 15/1000\n",
      "64/64 [==============================] - 0s 3ms/step - loss: 0.6286 - accuracy: 0.8123 - val_loss: 0.7273 - val_accuracy: 0.7920\n",
      "Epoch 16/1000\n",
      "64/64 [==============================] - 0s 3ms/step - loss: 0.6264 - accuracy: 0.8187 - val_loss: 0.7274 - val_accuracy: 0.7980\n",
      "Epoch 17/1000\n",
      "64/64 [==============================] - 0s 2ms/step - loss: 0.6220 - accuracy: 0.8148 - val_loss: 0.7284 - val_accuracy: 0.8030\n",
      "Epoch 18/1000\n",
      "64/64 [==============================] - 0s 3ms/step - loss: 0.6116 - accuracy: 0.8172 - val_loss: 0.7390 - val_accuracy: 0.7960\n",
      "Epoch 19/1000\n",
      "64/64 [==============================] - 0s 3ms/step - loss: 0.6088 - accuracy: 0.8162 - val_loss: 0.7408 - val_accuracy: 0.7970\n",
      "Epoch 20/1000\n",
      "64/64 [==============================] - 0s 3ms/step - loss: 0.6054 - accuracy: 0.8162 - val_loss: 0.7541 - val_accuracy: 0.7829\n",
      "Epoch 21/1000\n",
      "64/64 [==============================] - 0s 3ms/step - loss: 0.6166 - accuracy: 0.8158 - val_loss: 0.7429 - val_accuracy: 0.8050\n",
      "Epoch 22/1000\n",
      "64/64 [==============================] - 0s 3ms/step - loss: 0.6051 - accuracy: 0.8162 - val_loss: 0.7422 - val_accuracy: 0.7980\n",
      "Epoch 23/1000\n",
      "64/64 [==============================] - 0s 3ms/step - loss: 0.6042 - accuracy: 0.8207 - val_loss: 0.7409 - val_accuracy: 0.8050\n",
      "Epoch 24/1000\n",
      "64/64 [==============================] - 0s 2ms/step - loss: 0.6001 - accuracy: 0.8177 - val_loss: 0.7574 - val_accuracy: 0.7819\n",
      "Epoch 25/1000\n",
      "64/64 [==============================] - 0s 2ms/step - loss: 0.6099 - accuracy: 0.8172 - val_loss: 0.7436 - val_accuracy: 0.7970\n",
      "Epoch 26/1000\n",
      "64/64 [==============================] - 0s 2ms/step - loss: 0.6048 - accuracy: 0.8207 - val_loss: 0.7452 - val_accuracy: 0.8010\n",
      "Epoch 27/1000\n",
      "64/64 [==============================] - 0s 2ms/step - loss: 0.5974 - accuracy: 0.8192 - val_loss: 0.7495 - val_accuracy: 0.8010\n",
      "Epoch 28/1000\n",
      "64/64 [==============================] - 0s 3ms/step - loss: 0.5951 - accuracy: 0.8212 - val_loss: 0.7819 - val_accuracy: 0.7829\n",
      "Epoch 29/1000\n",
      "64/64 [==============================] - 0s 2ms/step - loss: 0.5973 - accuracy: 0.8197 - val_loss: 0.7857 - val_accuracy: 0.7899\n",
      "Epoch 30/1000\n",
      "64/64 [==============================] - 0s 2ms/step - loss: 0.6022 - accuracy: 0.8162 - val_loss: 0.7635 - val_accuracy: 0.7940\n",
      "Epoch 31/1000\n",
      "64/64 [==============================] - 0s 3ms/step - loss: 0.5929 - accuracy: 0.8162 - val_loss: 0.7624 - val_accuracy: 0.7990\n",
      "Epoch 32/1000\n",
      "64/64 [==============================] - 0s 3ms/step - loss: 0.5932 - accuracy: 0.8172 - val_loss: 0.7624 - val_accuracy: 0.7970\n",
      "Epoch 32: early stopping\n"
     ]
    }
   ],
   "source": [
    "model_history=classifier.fit(x_train,y_train,validation_split=.33,epochs=1000,callbacks=early_stopping)"
   ]
  },
  {
   "cell_type": "code",
   "execution_count": 149,
   "metadata": {},
   "outputs": [
    {
     "data": {
      "text/plain": [
       "dict_keys(['loss', 'accuracy', 'val_loss', 'val_accuracy'])"
      ]
     },
     "execution_count": 149,
     "metadata": {},
     "output_type": "execute_result"
    }
   ],
   "source": [
    "model_history.history.keys()"
   ]
  },
  {
   "cell_type": "code",
   "execution_count": 150,
   "metadata": {},
   "outputs": [
    {
     "data": {
      "image/png": "[encoded data removed]",
      "text/plain": [
       "<Figure size 1800x800 with 2 Axes>"
      ]
     },
     "metadata": {},
     "output_type": "display_data"
    }
   ],
   "source": [
    "plt.figure(figsize=(18, 8))\n",
    "plt.subplot(221)\n",
    "plt.plot(model_history.history[\"accuracy\"])\n",
    "plt.plot(model_history.history[\"val_accuracy\"])\n",
    "plt.ylabel(\"accuracy\")\n",
    "plt.xlabel(\"epoch\")\n",
    "plt.legend([\"train\",\"test\"]);\n",
    "\n",
    "\n",
    "plt.subplot(222)\n",
    "plt.plot(model_history.history[\"loss\"])\n",
    "plt.plot(model_history.history[\"val_loss\"])\n",
    "plt.ylabel(\"loss\")\n",
    "plt.xlabel(\"epoch\")\n",
    "plt.legend([\"train\",\"test\"]);"
   ]
  },
  {
   "cell_type": "code",
   "execution_count": 151,
   "metadata": {},
   "outputs": [
    {
     "name": "stdout",
     "output_type": "stream",
     "text": [
      "Model: \"sequential_4\"\n",
      "_________________________________________________________________\n",
      " Layer (type)                Output Shape              Param #   \n",
      "=================================================================\n",
      " dense_12 (Dense)            (None, 7)                 56        \n",
      "                                                                 \n",
      " dense_13 (Dense)            (None, 14)                112       \n",
      "                                                                 \n",
      " dense_14 (Dense)            (None, 6)                 90        \n",
      "                                                                 \n",
      "=================================================================\n",
      "Total params: 258 (1.01 KB)\n",
      "Trainable params: 258 (1.01 KB)\n",
      "Non-trainable params: 0 (0.00 Byte)\n",
      "_________________________________________________________________\n"
     ]
    }
   ],
   "source": [
    "classifier.summary()"
   ]
  },
  {
   "cell_type": "code",
   "execution_count": 152,
   "metadata": {},
   "outputs": [
    {
     "name": "stdout",
     "output_type": "stream",
     "text": [
      "24/24 [==============================] - 0s 2ms/step\n"
     ]
    }
   ],
   "source": [
    "y=classifier.predict(x_test)"
   ]
  },
  {
   "cell_type": "code",
   "execution_count": 153,
   "metadata": {},
   "outputs": [
    {
     "name": "stdout",
     "output_type": "stream",
     "text": [
      "24/24 [==============================] - 0s 2ms/step - loss: 0.6513 - accuracy: 0.8355\n"
     ]
    },
    {
     "data": {
      "text/plain": [
       "[0.65133136510849, 0.8355437517166138]"
      ]
     },
     "execution_count": 153,
     "metadata": {},
     "output_type": "execute_result"
    }
   ],
   "source": [
    "classifier.evaluate(x_test, y_test)"
   ]
  },
  {
   "cell_type": "code",
   "execution_count": 154,
   "metadata": {},
   "outputs": [
    {
     "name": "stdout",
     "output_type": "stream",
     "text": [
      "24/24 [==============================] - 0s 2ms/step - loss: 0.6513 - accuracy: 0.8355\n",
      "Test accuracy: 0.8355437517166138\n"
     ]
    }
   ],
   "source": [
    "accuracy = classifier.evaluate(x_test, y_test)\n",
    "print(f\"Test accuracy: {accuracy[1]}\")"
   ]
  },
  {
   "cell_type": "code",
   "execution_count": 155,
   "metadata": {},
   "outputs": [
    {
     "data": {
      "text/plain": [
       "754"
      ]
     },
     "execution_count": 155,
     "metadata": {},
     "output_type": "execute_result"
    }
   ],
   "source": [
    "import numpy as np\n",
    "predicted_classes = np.argmax(y, axis=1)\n",
    "len(predicted_classes)"
   ]
  },
  {
   "cell_type": "code",
   "execution_count": 156,
   "metadata": {},
   "outputs": [
    {
     "name": "stdout",
     "output_type": "stream",
     "text": [
      "Confusion Matrix:\n",
      "[[625   1   1   0   0   0]\n",
      " [ 18   1   0   0   0   0]\n",
      " [ 37   1   3   0   1   0]\n",
      " [ 44   0   0   1   0   0]\n",
      " [ 14   0   0   0   0   0]\n",
      " [  7   0   0   0   0   0]]\n"
     ]
    }
   ],
   "source": [
    "conf_matrix = confusion_matrix(y_test, predicted_classes)\n",
    "\n",
    "# Print the confusion matrix\n",
    "print(\"Confusion Matrix:\")\n",
    "print(conf_matrix)"
   ]
  },
  {
   "cell_type": "code",
   "execution_count": 157,
   "metadata": {},
   "outputs": [
    {
     "data": {
      "image/png": "[encoded data removed]",
      "text/plain": [
       "<Figure size 1800x800 with 2 Axes>"
      ]
     },
     "metadata": {},
     "output_type": "display_data"
    }
   ],
   "source": [
    "plt.figure(figsize=(18, 8))\n",
    "sns.heatmap(conf_matrix, annot=True, fmt='d', cmap='Greens', xticklabels=range(6), yticklabels=range(6))\n",
    "plt.xlabel('Predicted Class')\n",
    "plt.ylabel('True Class')\n",
    "plt.title('Confusion Matrix for MNIST Classification')\n",
    "plt.show()"
   ]
  }
 ],
 "metadata": {
  "kernelspec": {
   "display_name": "Python 3",
   "language": "python",
   "name": "python3"
  },
  "language_info": {
   "codemirror_mode": {
    "name": "ipython",
    "version": 3
   },
   "file_extension": ".py",
   "mimetype": "text/x-python",
   "name": "python",
   "nbconvert_exporter": "python",
   "pygments_lexer": "ipython3",
   "version": "3.10.8"
  }
 },
 "nbformat": 4,
 "nbformat_minor": 2
}
