{
 "cells": [
  {
   "cell_type": "markdown",
   "metadata": {},
   "source": [
    "# *ANN -Artificial Neural Network*"
   ]
  },
  {
   "cell_type": "markdown",
   "metadata": {},
   "source": [
    "### *Analysis objective :<br>Applying -ANN- model on the prediction of -gender- as a target Feature*\n",
    "---"
   ]
  },
  {
   "cell_type": "code",
   "execution_count": 1,
   "metadata": {},
   "outputs": [],
   "source": [
    "import pandas as pd\n",
    "from matplotlib import pyplot  as plt\n",
    "%matplotlib inline\n",
    "import matplotlib\n",
    "matplotlib.rcParams[\"figure.figsize\"]=(20,10)\n",
    "matplotlib.rcParams[\"figure.figsize\"]=(20,10)\n",
    "import os\n",
    "from sklearn.preprocessing import LabelEncoder,StandardScaler\n",
    "LabelEncoder_category=LabelEncoder()\n",
    "from sklearn.model_selection import train_test_split,cross_val_score\n",
    "from sklearn.metrics import (r2_score,accuracy_score,classification_report,ConfusionMatrixDisplay,confusion_matrix)\n",
    "import warnings\n",
    "from sklearn.utils.multiclass import unique_labels\n",
    "import seaborn as sns"
   ]
  },
  {
   "cell_type": "code",
   "execution_count": 2,
   "metadata": {},
   "outputs": [
    {
     "data": {
      "text/html": [
       "<div>\n",
       "<style scoped>\n",
       "    .dataframe tbody tr th:only-of-type {\n",
       "        vertical-align: middle;\n",
       "    }\n",
       "\n",
       "    .dataframe tbody tr th {\n",
       "        vertical-align: top;\n",
       "    }\n",
       "\n",
       "    .dataframe thead th {\n",
       "        text-align: right;\n",
       "    }\n",
       "</style>\n",
       "<table border=\"1\" class=\"dataframe\">\n",
       "  <thead>\n",
       "    <tr style=\"text-align: right;\">\n",
       "      <th></th>\n",
       "      <th>veh_value</th>\n",
       "      <th>exposure</th>\n",
       "      <th>claimcst0</th>\n",
       "      <th>veh_body</th>\n",
       "      <th>veh_age</th>\n",
       "      <th>gender</th>\n",
       "      <th>area</th>\n",
       "      <th>agecat</th>\n",
       "    </tr>\n",
       "  </thead>\n",
       "  <tbody>\n",
       "    <tr>\n",
       "      <th>0</th>\n",
       "      <td>1.06</td>\n",
       "      <td>0.303901</td>\n",
       "      <td>0.0</td>\n",
       "      <td>HBACK</td>\n",
       "      <td>3</td>\n",
       "      <td>F</td>\n",
       "      <td>C</td>\n",
       "      <td>2</td>\n",
       "    </tr>\n",
       "    <tr>\n",
       "      <th>1</th>\n",
       "      <td>1.03</td>\n",
       "      <td>0.648871</td>\n",
       "      <td>0.0</td>\n",
       "      <td>HBACK</td>\n",
       "      <td>2</td>\n",
       "      <td>F</td>\n",
       "      <td>A</td>\n",
       "      <td>4</td>\n",
       "    </tr>\n",
       "    <tr>\n",
       "      <th>2</th>\n",
       "      <td>3.26</td>\n",
       "      <td>0.569473</td>\n",
       "      <td>0.0</td>\n",
       "      <td>UTE</td>\n",
       "      <td>2</td>\n",
       "      <td>F</td>\n",
       "      <td>E</td>\n",
       "      <td>2</td>\n",
       "    </tr>\n",
       "    <tr>\n",
       "      <th>3</th>\n",
       "      <td>4.14</td>\n",
       "      <td>0.317591</td>\n",
       "      <td>0.0</td>\n",
       "      <td>STNWG</td>\n",
       "      <td>2</td>\n",
       "      <td>F</td>\n",
       "      <td>D</td>\n",
       "      <td>2</td>\n",
       "    </tr>\n",
       "    <tr>\n",
       "      <th>4</th>\n",
       "      <td>0.72</td>\n",
       "      <td>0.648871</td>\n",
       "      <td>0.0</td>\n",
       "      <td>HBACK</td>\n",
       "      <td>4</td>\n",
       "      <td>F</td>\n",
       "      <td>C</td>\n",
       "      <td>2</td>\n",
       "    </tr>\n",
       "  </tbody>\n",
       "</table>\n",
       "</div>"
      ],
      "text/plain": [
       "   veh_value  exposure  claimcst0 veh_body veh_age gender area agecat\n",
       "0       1.06  0.303901        0.0    HBACK       3      F    C      2\n",
       "1       1.03  0.648871        0.0    HBACK       2      F    A      4\n",
       "2       3.26  0.569473        0.0      UTE       2      F    E      2\n",
       "3       4.14  0.317591        0.0    STNWG       2      F    D      2\n",
       "4       0.72  0.648871        0.0    HBACK       4      F    C      2"
      ]
     },
     "execution_count": 2,
     "metadata": {},
     "output_type": "execute_result"
    }
   ],
   "source": [
    "df=pd.read_csv(r\"C:/Users/Omar\\Desktop/Omar_Files/Python_Analysis/DeepLearning_ANN/DataSet/data_car.csv\")\n",
    "df=df.drop([\"X_OBSTAT_\",\"clm\",\"numclaims\"],axis=1)\n",
    "df[\"agecat\"]=df[\"agecat\"].astype(\"object\")\n",
    "df[\"veh_age\"]=df[\"veh_age\"].astype(\"object\")\n",
    "df.head()"
   ]
  },
  {
   "cell_type": "code",
   "execution_count": 3,
   "metadata": {},
   "outputs": [
    {
     "data": {
      "text/html": [
       "<div>\n",
       "<style scoped>\n",
       "    .dataframe tbody tr th:only-of-type {\n",
       "        vertical-align: middle;\n",
       "    }\n",
       "\n",
       "    .dataframe tbody tr th {\n",
       "        vertical-align: top;\n",
       "    }\n",
       "\n",
       "    .dataframe thead th {\n",
       "        text-align: right;\n",
       "    }\n",
       "</style>\n",
       "<table border=\"1\" class=\"dataframe\">\n",
       "  <thead>\n",
       "    <tr style=\"text-align: right;\">\n",
       "      <th></th>\n",
       "      <th>veh_value</th>\n",
       "      <th>exposure</th>\n",
       "      <th>claimcst0</th>\n",
       "      <th>veh_body</th>\n",
       "      <th>veh_age</th>\n",
       "      <th>gender</th>\n",
       "      <th>area</th>\n",
       "      <th>agecat</th>\n",
       "    </tr>\n",
       "  </thead>\n",
       "  <tbody>\n",
       "    <tr>\n",
       "      <th>0</th>\n",
       "      <td>1.59</td>\n",
       "      <td>0.229979</td>\n",
       "      <td>0.0</td>\n",
       "      <td>SEDAN</td>\n",
       "      <td>1</td>\n",
       "      <td>F</td>\n",
       "      <td>A</td>\n",
       "      <td>1</td>\n",
       "    </tr>\n",
       "    <tr>\n",
       "      <th>1</th>\n",
       "      <td>1.46</td>\n",
       "      <td>0.221766</td>\n",
       "      <td>0.0</td>\n",
       "      <td>HBACK</td>\n",
       "      <td>1</td>\n",
       "      <td>F</td>\n",
       "      <td>A</td>\n",
       "      <td>1</td>\n",
       "    </tr>\n",
       "    <tr>\n",
       "      <th>2</th>\n",
       "      <td>1.54</td>\n",
       "      <td>0.238193</td>\n",
       "      <td>0.0</td>\n",
       "      <td>SEDAN</td>\n",
       "      <td>1</td>\n",
       "      <td>F</td>\n",
       "      <td>A</td>\n",
       "      <td>1</td>\n",
       "    </tr>\n",
       "    <tr>\n",
       "      <th>3</th>\n",
       "      <td>1.57</td>\n",
       "      <td>0.522930</td>\n",
       "      <td>0.0</td>\n",
       "      <td>SEDAN</td>\n",
       "      <td>1</td>\n",
       "      <td>F</td>\n",
       "      <td>A</td>\n",
       "      <td>1</td>\n",
       "    </tr>\n",
       "    <tr>\n",
       "      <th>4</th>\n",
       "      <td>1.41</td>\n",
       "      <td>0.219028</td>\n",
       "      <td>0.0</td>\n",
       "      <td>HBACK</td>\n",
       "      <td>1</td>\n",
       "      <td>F</td>\n",
       "      <td>A</td>\n",
       "      <td>1</td>\n",
       "    </tr>\n",
       "  </tbody>\n",
       "</table>\n",
       "</div>"
      ],
      "text/plain": [
       "   veh_value  exposure  claimcst0 veh_body veh_age gender area agecat\n",
       "0       1.59  0.229979        0.0    SEDAN       1      F    A      1\n",
       "1       1.46  0.221766        0.0    HBACK       1      F    A      1\n",
       "2       1.54  0.238193        0.0    SEDAN       1      F    A      1\n",
       "3       1.57  0.522930        0.0    SEDAN       1      F    A      1\n",
       "4       1.41  0.219028        0.0    HBACK       1      F    A      1"
      ]
     },
     "execution_count": 3,
     "metadata": {},
     "output_type": "execute_result"
    }
   ],
   "source": [
    "df=df.sort_values(by=['veh_age', 'agecat','area','gender']).reset_index().drop(\"index\",axis=1)\n",
    "df.head()"
   ]
  },
  {
   "cell_type": "markdown",
   "metadata": {},
   "source": [
    "---"
   ]
  },
  {
   "cell_type": "code",
   "execution_count": 4,
   "metadata": {},
   "outputs": [
    {
     "name": "stdout",
     "output_type": "stream",
     "text": [
      "we have 3 numerical features : ['veh_value', 'exposure', 'claimcst0']\n",
      "\n",
      "we have 5 categorical features : ['veh_body', 'veh_age', 'gender', 'area', 'agecat']\n"
     ]
    }
   ],
   "source": [
    "\n",
    "categorical_features=df.select_dtypes(include=[\"object\"])\n",
    "numerical_features=df.select_dtypes(exclude=[\"object\"])\n",
    "\n",
    "print(\"we have {} numerical features : {}\\n\".format(numerical_features.shape[1],list(numerical_features.columns)))\n",
    "print(\"we have {} categorical features : {}\".format(categorical_features.shape[1],list(categorical_features.columns)))"
   ]
  },
  {
   "cell_type": "code",
   "execution_count": 5,
   "metadata": {},
   "outputs": [],
   "source": [
    "discrete_feature=[feature for feature in numerical_features if  len(df[feature].unique())<=25]\n",
    "countinuous_feature=[feature for feature in numerical_features if  len(df[feature].unique())>25]"
   ]
  },
  {
   "cell_type": "code",
   "execution_count": 6,
   "metadata": {},
   "outputs": [
    {
     "name": "stdout",
     "output_type": "stream",
     "text": [
      "we have 0 discrete feature : []\n",
      "\n",
      "we have 3 countinuous feature : ['veh_value', 'exposure', 'claimcst0']\n"
     ]
    }
   ],
   "source": [
    "print(\"we have {} discrete feature : {}\\n\".format(len(discrete_feature),(discrete_feature)))\n",
    "print(\"we have {} countinuous feature : {}\".format(len(countinuous_feature),(countinuous_feature)))"
   ]
  },
  {
   "cell_type": "code",
   "execution_count": 7,
   "metadata": {},
   "outputs": [],
   "source": [
    "categories_encoder=LabelEncoder()\n",
    "for col in df:\n",
    "    if col in list(df.select_dtypes(include=\"object\").columns):\n",
    "        df[col]=categories_encoder.fit_transform(df[col])"
   ]
  },
  {
   "cell_type": "code",
   "execution_count": 9,
   "metadata": {},
   "outputs": [],
   "source": [
    "x=df.drop(\"veh_age\",axis=1)\n",
    "y=df[\"veh_age\"]"
   ]
  },
  {
   "cell_type": "code",
   "execution_count": 10,
   "metadata": {},
   "outputs": [
    {
     "data": {
      "text/plain": [
       "veh_value     2.968022\n",
       "exposure      0.175557\n",
       "claimcst0    17.502503\n",
       "dtype: float64"
      ]
     },
     "execution_count": 10,
     "metadata": {},
     "output_type": "execute_result"
    }
   ],
   "source": [
    "x[countinuous_feature].skew(axis=0,skipna=True)"
   ]
  },
  {
   "cell_type": "code",
   "execution_count": 11,
   "metadata": {},
   "outputs": [],
   "source": [
    "from sklearn.preprocessing import PowerTransformer\n",
    "pt=PowerTransformer(method=\"yeo-johnson\")\n",
    "transform_features=['veh_value']\n",
    "df[transform_features]=pt.fit_transform(x[transform_features])"
   ]
  },
  {
   "cell_type": "code",
   "execution_count": 12,
   "metadata": {},
   "outputs": [
    {
     "data": {
      "text/plain": [
       "veh_value    0.010369\n",
       "dtype: float64"
      ]
     },
     "execution_count": 12,
     "metadata": {},
     "output_type": "execute_result"
    }
   ],
   "source": [
    "df[transform_features].skew(axis=0,skipna=True)"
   ]
  },
  {
   "cell_type": "code",
   "execution_count": 13,
   "metadata": {},
   "outputs": [],
   "source": [
    "from imblearn.combine import SMOTETomek,SMOTEENN\n",
    "smt=SMOTEENN(random_state=42,sampling_strategy=\"minority\")\n",
    "x_re,y_res=smt.fit_resample(x,y)"
   ]
  },
  {
   "cell_type": "code",
   "execution_count": 14,
   "metadata": {},
   "outputs": [
    {
     "name": "stdout",
     "output_type": "stream",
     "text": [
      "Train data shape of X = (21360, 7) and Y = (21360,) : \n",
      "Test data shape of X = (5340, 7) and Y = (5340,) : \n"
     ]
    }
   ],
   "source": [
    "x_train, x_test, y_train, y_test = train_test_split(x_re,y_res ,test_size= 0.2,random_state=42)\n",
    "\n",
    "print(\"Train data shape of X = % s and Y = % s : \"%(\n",
    "\tx_train.shape, y_train.shape))\n",
    "\n",
    "print(\"Test data shape of X = % s and Y = % s : \"%(\n",
    "\tx_test.shape, y_test.shape))"
   ]
  },
  {
   "cell_type": "code",
   "execution_count": 15,
   "metadata": {},
   "outputs": [],
   "source": [
    "sc=StandardScaler()\n",
    "x_train=sc.fit_transform(x_train)\n",
    "x_test=sc.transform(x_test)"
   ]
  },
  {
   "cell_type": "markdown",
   "metadata": {},
   "source": [
    "* *Importing Tensorflow :*"
   ]
  },
  {
   "cell_type": "code",
   "execution_count": 16,
   "metadata": {},
   "outputs": [
    {
     "name": "stdout",
     "output_type": "stream",
     "text": [
      "WARNING:tensorflow:From c:\\Users\\Omar\\AppData\\Local\\Programs\\Python\\Python310\\lib\\site-packages\\keras\\src\\losses.py:2976: The name tf.losses.sparse_softmax_cross_entropy is deprecated. Please use tf.compat.v1.losses.sparse_softmax_cross_entropy instead.\n",
      "\n"
     ]
    }
   ],
   "source": [
    "import tensorflow as tf"
   ]
  },
  {
   "cell_type": "code",
   "execution_count": 17,
   "metadata": {},
   "outputs": [],
   "source": [
    "from tensorflow.keras.models import Sequential\n",
    "from tensorflow.keras.layers import Dense\n",
    "from tensorflow.keras.layers import ReLU,PReLU,LeakyReLU\n",
    "from tensorflow.keras.layers import Dropout"
   ]
  },
  {
   "cell_type": "markdown",
   "metadata": {},
   "source": [
    "* *Model Preparation :*"
   ]
  },
  {
   "cell_type": "code",
   "execution_count": 18,
   "metadata": {},
   "outputs": [
    {
     "name": "stdout",
     "output_type": "stream",
     "text": [
      "WARNING:tensorflow:From c:\\Users\\Omar\\AppData\\Local\\Programs\\Python\\Python310\\lib\\site-packages\\keras\\src\\backend.py:873: The name tf.get_default_graph is deprecated. Please use tf.compat.v1.get_default_graph instead.\n",
      "\n"
     ]
    }
   ],
   "source": [
    "classifier=Sequential()"
   ]
  },
  {
   "cell_type": "markdown",
   "metadata": {},
   "source": [
    "* *1st Hidden Layer :*"
   ]
  },
  {
   "cell_type": "code",
   "execution_count": 19,
   "metadata": {},
   "outputs": [],
   "source": [
    "classifier.add(Dense(units=7,activation=\"ReLU\"))"
   ]
  },
  {
   "cell_type": "markdown",
   "metadata": {},
   "source": [
    "* *2nd Hidden Layer :*"
   ]
  },
  {
   "cell_type": "code",
   "execution_count": 20,
   "metadata": {},
   "outputs": [],
   "source": [
    "classifier.add(Dense(units=14,activation=\"ReLU\"))"
   ]
  },
  {
   "cell_type": "markdown",
   "metadata": {},
   "source": [
    "* *Last Layer -Output :*"
   ]
  },
  {
   "cell_type": "code",
   "execution_count": 21,
   "metadata": {},
   "outputs": [],
   "source": [
    "classifier.add(Dense(4,activation=\"softmax\"))"
   ]
  },
  {
   "cell_type": "markdown",
   "metadata": {},
   "source": [
    "* *Adam Optimizer Preparation :*"
   ]
  },
  {
   "cell_type": "code",
   "execution_count": 22,
   "metadata": {},
   "outputs": [],
   "source": [
    "import tensorflow\n",
    "opt=tf.keras.optimizers.Adam(learning_rate=0.01)"
   ]
  },
  {
   "cell_type": "markdown",
   "metadata": {},
   "source": [
    "* *Compiling the Model :*"
   ]
  },
  {
   "cell_type": "code",
   "execution_count": 23,
   "metadata": {},
   "outputs": [],
   "source": [
    "classifier.compile(optimizer=opt,loss=\"sparse_categorical_crossentropy\",metrics=[\"accuracy\"])\n",
    "# categorical_crossentropy"
   ]
  },
  {
   "cell_type": "markdown",
   "metadata": {},
   "source": [
    "* *Early Stopping Preparation :*"
   ]
  },
  {
   "cell_type": "code",
   "execution_count": 24,
   "metadata": {},
   "outputs": [],
   "source": [
    "import tensorflow\n",
    "early_stopping=tf.keras.callbacks.EarlyStopping(\n",
    "    monitor='val_loss',\n",
    "    min_delta=0.001,\n",
    "    patience=20,\n",
    "    verbose=1,\n",
    "    mode='auto',\n",
    "    baseline=None,\n",
    "    restore_best_weights=False,\n",
    "    start_from_epoch=0\n",
    ")"
   ]
  },
  {
   "cell_type": "markdown",
   "metadata": {},
   "source": [
    "* *Model Fitting :*"
   ]
  },
  {
   "cell_type": "code",
   "execution_count": 25,
   "metadata": {},
   "outputs": [
    {
     "name": "stdout",
     "output_type": "stream",
     "text": [
      "Epoch 1/1000\n",
      "WARNING:tensorflow:From c:\\Users\\Omar\\AppData\\Local\\Programs\\Python\\Python310\\lib\\site-packages\\keras\\src\\utils\\tf_utils.py:492: The name tf.ragged.RaggedTensorValue is deprecated. Please use tf.compat.v1.ragged.RaggedTensorValue instead.\n",
      "\n",
      "WARNING:tensorflow:From c:\\Users\\Omar\\AppData\\Local\\Programs\\Python\\Python310\\lib\\site-packages\\keras\\src\\engine\\base_layer_utils.py:384: The name tf.executing_eagerly_outside_functions is deprecated. Please use tf.compat.v1.executing_eagerly_outside_functions instead.\n",
      "\n",
      "448/448 [==============================] - 2s 2ms/step - loss: 0.6370 - accuracy: 0.7513 - val_loss: 0.5175 - val_accuracy: 0.7994\n",
      "Epoch 2/1000\n",
      "448/448 [==============================] - 1s 2ms/step - loss: 0.4906 - accuracy: 0.8187 - val_loss: 0.4912 - val_accuracy: 0.8187\n",
      "Epoch 3/1000\n",
      "448/448 [==============================] - 1s 2ms/step - loss: 0.4455 - accuracy: 0.8428 - val_loss: 0.4419 - val_accuracy: 0.8422\n",
      "Epoch 4/1000\n",
      "448/448 [==============================] - 1s 2ms/step - loss: 0.4111 - accuracy: 0.8604 - val_loss: 0.3893 - val_accuracy: 0.8624\n",
      "Epoch 5/1000\n",
      "448/448 [==============================] - 1s 2ms/step - loss: 0.3783 - accuracy: 0.8662 - val_loss: 0.3567 - val_accuracy: 0.8764\n",
      "Epoch 6/1000\n",
      "448/448 [==============================] - 1s 2ms/step - loss: 0.3434 - accuracy: 0.8765 - val_loss: 0.3181 - val_accuracy: 0.8849\n",
      "Epoch 7/1000\n",
      "448/448 [==============================] - 1s 2ms/step - loss: 0.3166 - accuracy: 0.8838 - val_loss: 0.3288 - val_accuracy: 0.8783\n",
      "Epoch 8/1000\n",
      "448/448 [==============================] - 1s 2ms/step - loss: 0.3085 - accuracy: 0.8885 - val_loss: 0.3317 - val_accuracy: 0.8709\n",
      "Epoch 9/1000\n",
      "448/448 [==============================] - 1s 2ms/step - loss: 0.3034 - accuracy: 0.8855 - val_loss: 0.2957 - val_accuracy: 0.8864\n",
      "Epoch 10/1000\n",
      "448/448 [==============================] - 1s 2ms/step - loss: 0.2966 - accuracy: 0.8902 - val_loss: 0.3012 - val_accuracy: 0.8888\n",
      "Epoch 11/1000\n",
      "448/448 [==============================] - 1s 2ms/step - loss: 0.2922 - accuracy: 0.8904 - val_loss: 0.2950 - val_accuracy: 0.8910\n",
      "Epoch 12/1000\n",
      "448/448 [==============================] - 1s 2ms/step - loss: 0.2956 - accuracy: 0.8913 - val_loss: 0.3126 - val_accuracy: 0.8854\n",
      "Epoch 13/1000\n",
      "448/448 [==============================] - 1s 2ms/step - loss: 0.2933 - accuracy: 0.8873 - val_loss: 0.2838 - val_accuracy: 0.8949\n",
      "Epoch 14/1000\n",
      "448/448 [==============================] - 1s 2ms/step - loss: 0.2819 - accuracy: 0.8941 - val_loss: 0.2918 - val_accuracy: 0.8901\n",
      "Epoch 15/1000\n",
      "448/448 [==============================] - 1s 2ms/step - loss: 0.2819 - accuracy: 0.8925 - val_loss: 0.2819 - val_accuracy: 0.8898\n",
      "Epoch 16/1000\n",
      "448/448 [==============================] - 1s 2ms/step - loss: 0.2798 - accuracy: 0.8939 - val_loss: 0.2782 - val_accuracy: 0.8936\n",
      "Epoch 17/1000\n",
      "448/448 [==============================] - 1s 2ms/step - loss: 0.2766 - accuracy: 0.8964 - val_loss: 0.2643 - val_accuracy: 0.8952\n",
      "Epoch 18/1000\n",
      "448/448 [==============================] - 1s 2ms/step - loss: 0.2709 - accuracy: 0.8962 - val_loss: 0.2556 - val_accuracy: 0.9004\n",
      "Epoch 19/1000\n",
      "448/448 [==============================] - 1s 2ms/step - loss: 0.2692 - accuracy: 0.8962 - val_loss: 0.2671 - val_accuracy: 0.8974\n",
      "Epoch 20/1000\n",
      "448/448 [==============================] - 1s 2ms/step - loss: 0.2666 - accuracy: 0.9006 - val_loss: 0.2544 - val_accuracy: 0.9014\n",
      "Epoch 21/1000\n",
      "448/448 [==============================] - 1s 2ms/step - loss: 0.2649 - accuracy: 0.8990 - val_loss: 0.2571 - val_accuracy: 0.9038\n",
      "Epoch 22/1000\n",
      "448/448 [==============================] - 1s 2ms/step - loss: 0.2650 - accuracy: 0.9012 - val_loss: 0.2543 - val_accuracy: 0.9032\n",
      "Epoch 23/1000\n",
      "448/448 [==============================] - 1s 2ms/step - loss: 0.2660 - accuracy: 0.8990 - val_loss: 0.2613 - val_accuracy: 0.9003\n",
      "Epoch 24/1000\n",
      "448/448 [==============================] - 1s 2ms/step - loss: 0.2603 - accuracy: 0.9001 - val_loss: 0.2586 - val_accuracy: 0.9011\n",
      "Epoch 25/1000\n",
      "448/448 [==============================] - 1s 2ms/step - loss: 0.2564 - accuracy: 0.9029 - val_loss: 0.2431 - val_accuracy: 0.9068\n",
      "Epoch 26/1000\n",
      "448/448 [==============================] - 1s 2ms/step - loss: 0.2540 - accuracy: 0.9023 - val_loss: 0.2640 - val_accuracy: 0.9027\n",
      "Epoch 27/1000\n",
      "448/448 [==============================] - 1s 2ms/step - loss: 0.2563 - accuracy: 0.9020 - val_loss: 0.2455 - val_accuracy: 0.9057\n",
      "Epoch 28/1000\n",
      "448/448 [==============================] - 2s 5ms/step - loss: 0.2534 - accuracy: 0.9021 - val_loss: 0.2858 - val_accuracy: 0.8871\n",
      "Epoch 29/1000\n",
      "448/448 [==============================] - 2s 5ms/step - loss: 0.2495 - accuracy: 0.9032 - val_loss: 0.2786 - val_accuracy: 0.8893\n",
      "Epoch 30/1000\n",
      "448/448 [==============================] - 2s 5ms/step - loss: 0.2511 - accuracy: 0.9022 - val_loss: 0.2623 - val_accuracy: 0.8990\n",
      "Epoch 31/1000\n",
      "448/448 [==============================] - 2s 5ms/step - loss: 0.2479 - accuracy: 0.9017 - val_loss: 0.2573 - val_accuracy: 0.9037\n",
      "Epoch 32/1000\n",
      "448/448 [==============================] - 1s 2ms/step - loss: 0.2449 - accuracy: 0.9040 - val_loss: 0.2469 - val_accuracy: 0.9051\n",
      "Epoch 33/1000\n",
      "448/448 [==============================] - 1s 2ms/step - loss: 0.2506 - accuracy: 0.9039 - val_loss: 0.2588 - val_accuracy: 0.8991\n",
      "Epoch 34/1000\n",
      "448/448 [==============================] - 1s 2ms/step - loss: 0.2400 - accuracy: 0.9075 - val_loss: 0.2390 - val_accuracy: 0.9047\n",
      "Epoch 35/1000\n",
      "448/448 [==============================] - 1s 2ms/step - loss: 0.2415 - accuracy: 0.9048 - val_loss: 0.2586 - val_accuracy: 0.9037\n",
      "Epoch 36/1000\n",
      "448/448 [==============================] - 1s 2ms/step - loss: 0.2439 - accuracy: 0.9083 - val_loss: 0.2497 - val_accuracy: 0.9014\n",
      "Epoch 37/1000\n",
      "448/448 [==============================] - 1s 2ms/step - loss: 0.2396 - accuracy: 0.9087 - val_loss: 0.2398 - val_accuracy: 0.9098\n",
      "Epoch 38/1000\n",
      "448/448 [==============================] - 1s 2ms/step - loss: 0.2400 - accuracy: 0.9085 - val_loss: 0.2482 - val_accuracy: 0.9065\n",
      "Epoch 39/1000\n",
      "448/448 [==============================] - 1s 2ms/step - loss: 0.2370 - accuracy: 0.9077 - val_loss: 0.2521 - val_accuracy: 0.9065\n",
      "Epoch 40/1000\n",
      "448/448 [==============================] - 2s 3ms/step - loss: 0.2297 - accuracy: 0.9114 - val_loss: 0.2318 - val_accuracy: 0.9125\n",
      "Epoch 41/1000\n",
      "448/448 [==============================] - 2s 4ms/step - loss: 0.2304 - accuracy: 0.9102 - val_loss: 0.2279 - val_accuracy: 0.9071\n",
      "Epoch 42/1000\n",
      "448/448 [==============================] - 2s 4ms/step - loss: 0.2310 - accuracy: 0.9099 - val_loss: 0.2400 - val_accuracy: 0.9011\n",
      "Epoch 43/1000\n",
      "448/448 [==============================] - 2s 5ms/step - loss: 0.2285 - accuracy: 0.9100 - val_loss: 0.2373 - val_accuracy: 0.9059\n",
      "Epoch 44/1000\n",
      "448/448 [==============================] - 2s 3ms/step - loss: 0.2271 - accuracy: 0.9090 - val_loss: 0.2402 - val_accuracy: 0.9052\n",
      "Epoch 45/1000\n",
      "448/448 [==============================] - 1s 2ms/step - loss: 0.2279 - accuracy: 0.9120 - val_loss: 0.2280 - val_accuracy: 0.9146\n",
      "Epoch 46/1000\n",
      "448/448 [==============================] - 1s 2ms/step - loss: 0.2309 - accuracy: 0.9118 - val_loss: 0.2507 - val_accuracy: 0.9084\n",
      "Epoch 47/1000\n",
      "448/448 [==============================] - 1s 2ms/step - loss: 0.2312 - accuracy: 0.9103 - val_loss: 0.2256 - val_accuracy: 0.9099\n",
      "Epoch 48/1000\n",
      "448/448 [==============================] - 1s 2ms/step - loss: 0.2276 - accuracy: 0.9129 - val_loss: 0.2276 - val_accuracy: 0.9101\n",
      "Epoch 49/1000\n",
      "448/448 [==============================] - 1s 2ms/step - loss: 0.2252 - accuracy: 0.9110 - val_loss: 0.2679 - val_accuracy: 0.9013\n",
      "Epoch 50/1000\n",
      "448/448 [==============================] - 1s 2ms/step - loss: 0.2303 - accuracy: 0.9106 - val_loss: 0.2339 - val_accuracy: 0.9116\n",
      "Epoch 51/1000\n",
      "448/448 [==============================] - 1s 2ms/step - loss: 0.2296 - accuracy: 0.9096 - val_loss: 0.2434 - val_accuracy: 0.9065\n",
      "Epoch 52/1000\n",
      "448/448 [==============================] - 1s 2ms/step - loss: 0.2282 - accuracy: 0.9099 - val_loss: 0.2408 - val_accuracy: 0.9101\n",
      "Epoch 53/1000\n",
      "448/448 [==============================] - 2s 4ms/step - loss: 0.2272 - accuracy: 0.9108 - val_loss: 0.2486 - val_accuracy: 0.8994\n",
      "Epoch 54/1000\n",
      "448/448 [==============================] - 2s 4ms/step - loss: 0.2240 - accuracy: 0.9101 - val_loss: 0.2371 - val_accuracy: 0.9120\n",
      "Epoch 55/1000\n",
      "448/448 [==============================] - 2s 5ms/step - loss: 0.2204 - accuracy: 0.9140 - val_loss: 0.2127 - val_accuracy: 0.9163\n",
      "Epoch 56/1000\n",
      "448/448 [==============================] - 2s 4ms/step - loss: 0.2245 - accuracy: 0.9113 - val_loss: 0.2251 - val_accuracy: 0.9220\n",
      "Epoch 57/1000\n",
      "448/448 [==============================] - 1s 2ms/step - loss: 0.2255 - accuracy: 0.9120 - val_loss: 0.2261 - val_accuracy: 0.9102\n",
      "Epoch 58/1000\n",
      "448/448 [==============================] - 1s 2ms/step - loss: 0.2226 - accuracy: 0.9134 - val_loss: 0.2213 - val_accuracy: 0.9153\n",
      "Epoch 59/1000\n",
      "448/448 [==============================] - 1s 2ms/step - loss: 0.2214 - accuracy: 0.9134 - val_loss: 0.2561 - val_accuracy: 0.9006\n",
      "Epoch 60/1000\n",
      "448/448 [==============================] - 1s 2ms/step - loss: 0.2254 - accuracy: 0.9117 - val_loss: 0.2301 - val_accuracy: 0.9153\n",
      "Epoch 61/1000\n",
      "448/448 [==============================] - 1s 2ms/step - loss: 0.2223 - accuracy: 0.9140 - val_loss: 0.2183 - val_accuracy: 0.9130\n",
      "Epoch 62/1000\n",
      "448/448 [==============================] - 1s 2ms/step - loss: 0.2236 - accuracy: 0.9136 - val_loss: 0.2293 - val_accuracy: 0.9115\n",
      "Epoch 63/1000\n",
      "448/448 [==============================] - 1s 2ms/step - loss: 0.2231 - accuracy: 0.9125 - val_loss: 0.2312 - val_accuracy: 0.9076\n",
      "Epoch 64/1000\n",
      "448/448 [==============================] - 1s 2ms/step - loss: 0.2217 - accuracy: 0.9126 - val_loss: 0.2228 - val_accuracy: 0.9152\n",
      "Epoch 65/1000\n",
      "448/448 [==============================] - 2s 3ms/step - loss: 0.2206 - accuracy: 0.9127 - val_loss: 0.2071 - val_accuracy: 0.9200\n",
      "Epoch 66/1000\n",
      "448/448 [==============================] - 2s 5ms/step - loss: 0.2217 - accuracy: 0.9129 - val_loss: 0.2296 - val_accuracy: 0.9089\n",
      "Epoch 67/1000\n",
      "448/448 [==============================] - 2s 4ms/step - loss: 0.2225 - accuracy: 0.9121 - val_loss: 0.2250 - val_accuracy: 0.9119\n",
      "Epoch 68/1000\n",
      "448/448 [==============================] - 2s 4ms/step - loss: 0.2245 - accuracy: 0.9114 - val_loss: 0.2246 - val_accuracy: 0.9084\n",
      "Epoch 69/1000\n",
      "448/448 [==============================] - 1s 2ms/step - loss: 0.2206 - accuracy: 0.9129 - val_loss: 0.2221 - val_accuracy: 0.9103\n",
      "Epoch 70/1000\n",
      "448/448 [==============================] - 1s 2ms/step - loss: 0.2235 - accuracy: 0.9110 - val_loss: 0.2169 - val_accuracy: 0.9108\n",
      "Epoch 71/1000\n",
      "448/448 [==============================] - 1s 2ms/step - loss: 0.2157 - accuracy: 0.9157 - val_loss: 0.2404 - val_accuracy: 0.9106\n",
      "Epoch 72/1000\n",
      "448/448 [==============================] - 1s 2ms/step - loss: 0.2204 - accuracy: 0.9145 - val_loss: 0.2256 - val_accuracy: 0.9120\n",
      "Epoch 73/1000\n",
      "448/448 [==============================] - 1s 2ms/step - loss: 0.2181 - accuracy: 0.9127 - val_loss: 0.2377 - val_accuracy: 0.9105\n",
      "Epoch 74/1000\n",
      "448/448 [==============================] - 1s 2ms/step - loss: 0.2170 - accuracy: 0.9152 - val_loss: 0.2117 - val_accuracy: 0.9204\n",
      "Epoch 75/1000\n",
      "448/448 [==============================] - 2s 4ms/step - loss: 0.2166 - accuracy: 0.9152 - val_loss: 0.2264 - val_accuracy: 0.9120\n",
      "Epoch 76/1000\n",
      "448/448 [==============================] - 2s 4ms/step - loss: 0.2239 - accuracy: 0.9153 - val_loss: 0.2196 - val_accuracy: 0.9132\n",
      "Epoch 77/1000\n",
      "448/448 [==============================] - 2s 5ms/step - loss: 0.2213 - accuracy: 0.9134 - val_loss: 0.2222 - val_accuracy: 0.9068\n",
      "Epoch 78/1000\n",
      "448/448 [==============================] - 1s 3ms/step - loss: 0.2181 - accuracy: 0.9165 - val_loss: 0.2140 - val_accuracy: 0.9129\n",
      "Epoch 79/1000\n",
      "448/448 [==============================] - 1s 2ms/step - loss: 0.2168 - accuracy: 0.9148 - val_loss: 0.2454 - val_accuracy: 0.9038\n",
      "Epoch 80/1000\n",
      "448/448 [==============================] - 1s 3ms/step - loss: 0.2209 - accuracy: 0.9129 - val_loss: 0.2274 - val_accuracy: 0.9177\n",
      "Epoch 81/1000\n",
      "448/448 [==============================] - 2s 5ms/step - loss: 0.2175 - accuracy: 0.9163 - val_loss: 0.2210 - val_accuracy: 0.9153\n",
      "Epoch 82/1000\n",
      "448/448 [==============================] - 2s 5ms/step - loss: 0.2168 - accuracy: 0.9176 - val_loss: 0.2239 - val_accuracy: 0.9119\n",
      "Epoch 83/1000\n",
      "448/448 [==============================] - 2s 4ms/step - loss: 0.2173 - accuracy: 0.9153 - val_loss: 0.2274 - val_accuracy: 0.9132\n",
      "Epoch 84/1000\n",
      "448/448 [==============================] - 2s 4ms/step - loss: 0.2221 - accuracy: 0.9127 - val_loss: 0.2311 - val_accuracy: 0.9115\n",
      "Epoch 85/1000\n",
      "448/448 [==============================] - 2s 3ms/step - loss: 0.2143 - accuracy: 0.9153 - val_loss: 0.2134 - val_accuracy: 0.9152\n",
      "Epoch 85: early stopping\n"
     ]
    }
   ],
   "source": [
    "model_history=classifier.fit(x_train,y_train,validation_split=.33,epochs=1000,callbacks=early_stopping)"
   ]
  },
  {
   "cell_type": "code",
   "execution_count": 26,
   "metadata": {},
   "outputs": [
    {
     "data": {
      "text/plain": [
       "dict_keys(['loss', 'accuracy', 'val_loss', 'val_accuracy'])"
      ]
     },
     "execution_count": 26,
     "metadata": {},
     "output_type": "execute_result"
    }
   ],
   "source": [
    "model_history.history.keys()"
   ]
  },
  {
   "cell_type": "code",
   "execution_count": 27,
   "metadata": {},
   "outputs": [
    {
     "data": {
      "image/png": "[encoded data removed]",
      "text/plain": [
       "<Figure size 1800x800 with 2 Axes>"
      ]
     },
     "metadata": {},
     "output_type": "display_data"
    }
   ],
   "source": [
    "plt.figure(figsize=(18, 8))\n",
    "plt.subplot(221)\n",
    "plt.plot(model_history.history[\"accuracy\"])\n",
    "plt.plot(model_history.history[\"val_accuracy\"])\n",
    "plt.ylabel(\"accuracy\")\n",
    "plt.xlabel(\"epoch\")\n",
    "plt.legend([\"train\",\"test\"]);\n",
    "\n",
    "\n",
    "plt.subplot(222)\n",
    "plt.plot(model_history.history[\"loss\"])\n",
    "plt.plot(model_history.history[\"val_loss\"])\n",
    "plt.ylabel(\"loss\")\n",
    "plt.xlabel(\"epoch\")\n",
    "plt.legend([\"train\",\"test\"]);"
   ]
  },
  {
   "cell_type": "code",
   "execution_count": 28,
   "metadata": {},
   "outputs": [
    {
     "name": "stdout",
     "output_type": "stream",
     "text": [
      "Model: \"sequential\"\n",
      "_________________________________________________________________\n",
      " Layer (type)                Output Shape              Param #   \n",
      "=================================================================\n",
      " dense (Dense)               (None, 7)                 56        \n",
      "                                                                 \n",
      " dense_1 (Dense)             (None, 14)                112       \n",
      "                                                                 \n",
      " dense_2 (Dense)             (None, 4)                 60        \n",
      "                                                                 \n",
      "=================================================================\n",
      "Total params: 228 (912.00 Byte)\n",
      "Trainable params: 228 (912.00 Byte)\n",
      "Non-trainable params: 0 (0.00 Byte)\n",
      "_________________________________________________________________\n"
     ]
    }
   ],
   "source": [
    "classifier.summary()"
   ]
  },
  {
   "cell_type": "code",
   "execution_count": 29,
   "metadata": {},
   "outputs": [
    {
     "name": "stdout",
     "output_type": "stream",
     "text": [
      "167/167 [==============================] - 0s 1ms/step\n"
     ]
    }
   ],
   "source": [
    "y=classifier.predict(x_test)"
   ]
  },
  {
   "cell_type": "code",
   "execution_count": 30,
   "metadata": {},
   "outputs": [
    {
     "name": "stdout",
     "output_type": "stream",
     "text": [
      "167/167 [==============================] - 0s 2ms/step - loss: 0.2508 - accuracy: 0.9124\n"
     ]
    },
    {
     "data": {
      "text/plain": [
       "[0.2508167326450348, 0.9123595356941223]"
      ]
     },
     "execution_count": 30,
     "metadata": {},
     "output_type": "execute_result"
    }
   ],
   "source": [
    "classifier.evaluate(x_test, y_test)"
   ]
  },
  {
   "cell_type": "code",
   "execution_count": 31,
   "metadata": {},
   "outputs": [
    {
     "name": "stdout",
     "output_type": "stream",
     "text": [
      "167/167 [==============================] - 0s 1ms/step - loss: 0.2508 - accuracy: 0.9124\n",
      "Test accuracy: 0.9123595356941223\n"
     ]
    }
   ],
   "source": [
    "accuracy = classifier.evaluate(x_test, y_test)\n",
    "print(f\"Test accuracy: {accuracy[1]}\")"
   ]
  },
  {
   "cell_type": "code",
   "execution_count": 32,
   "metadata": {},
   "outputs": [
    {
     "data": {
      "text/plain": [
       "5340"
      ]
     },
     "execution_count": 32,
     "metadata": {},
     "output_type": "execute_result"
    }
   ],
   "source": [
    "import numpy as np\n",
    "predicted_classes = np.argmax(y, axis=1)\n",
    "len(predicted_classes)"
   ]
  },
  {
   "cell_type": "code",
   "execution_count": 33,
   "metadata": {},
   "outputs": [
    {
     "name": "stdout",
     "output_type": "stream",
     "text": [
      "Confusion Matrix:\n",
      "[[1714   61   23    2]\n",
      " [ 209  264   21    1]\n",
      " [  35   38  893   60]\n",
      " [   2    1   15 2001]]\n"
     ]
    }
   ],
   "source": [
    "conf_matrix = confusion_matrix(y_test, predicted_classes)\n",
    "\n",
    "# Print the confusion matrix\n",
    "print(\"Confusion Matrix:\")\n",
    "print(conf_matrix)"
   ]
  },
  {
   "cell_type": "code",
   "execution_count": 35,
   "metadata": {},
   "outputs": [
    {
     "data": {
      "image/png": "[encoded data removed]",
      "text/plain": [
       "<Figure size 1800x800 with 2 Axes>"
      ]
     },
     "metadata": {},
     "output_type": "display_data"
    }
   ],
   "source": [
    "plt.figure(figsize=(18, 8))\n",
    "sns.heatmap(conf_matrix, annot=True, fmt='d', cmap='Greens', xticklabels=range(4), yticklabels=range(4))\n",
    "plt.xlabel('Predicted Class')\n",
    "plt.ylabel('True Class')\n",
    "plt.title('Confusion Matrix for MNIST Classification')\n",
    "plt.show()"
   ]
  }
 ],
 "metadata": {
  "kernelspec": {
   "display_name": "Python 3",
   "language": "python",
   "name": "python3"
  },
  "language_info": {
   "codemirror_mode": {
    "name": "ipython",
    "version": 3
   },
   "file_extension": ".py",
   "mimetype": "text/x-python",
   "name": "python",
   "nbconvert_exporter": "python",
   "pygments_lexer": "ipython3",
   "version": "3.10.8"
  }
 },
 "nbformat": 4,
 "nbformat_minor": 2
}
