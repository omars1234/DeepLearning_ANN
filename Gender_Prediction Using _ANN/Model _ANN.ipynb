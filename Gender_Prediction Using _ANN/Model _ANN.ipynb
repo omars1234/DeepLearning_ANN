{
 "cells": [
  {
   "cell_type": "markdown",
   "metadata": {},
   "source": [
    "# *ANN -Artificial Neural Network*"
   ]
  },
  {
   "cell_type": "markdown",
   "metadata": {},
   "source": [
    "### *Analysis objective :<br>Applying -ANN- model on the prediction of -gender- as a target Feature*\n",
    "---"
   ]
  },
  {
   "cell_type": "code",
   "execution_count": null,
   "metadata": {},
   "outputs": [],
   "source": [
    "import pandas as pd\n",
    "from matplotlib import pyplot  as plt\n",
    "%matplotlib inline\n",
    "import matplotlib\n",
    "matplotlib.rcParams[\"figure.figsize\"]=(20,10)\n",
    "matplotlib.rcParams[\"figure.figsize\"]=(20,10)"
   ]
  },
  {
   "cell_type": "code",
   "execution_count": 2,
   "metadata": {},
   "outputs": [],
   "source": [
    "df=pd.read_csv(r\"cleand_df.csv\")"
   ]
  },
  {
   "cell_type": "code",
   "execution_count": 3,
   "metadata": {},
   "outputs": [
    {
     "data": {
      "text/html": [
       "<div>\n",
       "<style scoped>\n",
       "    .dataframe tbody tr th:only-of-type {\n",
       "        vertical-align: middle;\n",
       "    }\n",
       "\n",
       "    .dataframe tbody tr th {\n",
       "        vertical-align: top;\n",
       "    }\n",
       "\n",
       "    .dataframe thead th {\n",
       "        text-align: right;\n",
       "    }\n",
       "</style>\n",
       "<table border=\"1\" class=\"dataframe\">\n",
       "  <thead>\n",
       "    <tr style=\"text-align: right;\">\n",
       "      <th></th>\n",
       "      <th>veh_value</th>\n",
       "      <th>exposure</th>\n",
       "      <th>clm</th>\n",
       "      <th>numclaims</th>\n",
       "      <th>claimcst0</th>\n",
       "      <th>veh_body</th>\n",
       "      <th>veh_age</th>\n",
       "      <th>gender</th>\n",
       "      <th>area</th>\n",
       "      <th>agecat</th>\n",
       "      <th>severity</th>\n",
       "      <th>frequincy</th>\n",
       "    </tr>\n",
       "  </thead>\n",
       "  <tbody>\n",
       "    <tr>\n",
       "      <th>0</th>\n",
       "      <td>1.06</td>\n",
       "      <td>0.303901</td>\n",
       "      <td>0</td>\n",
       "      <td>0</td>\n",
       "      <td>0.0</td>\n",
       "      <td>HBACK</td>\n",
       "      <td>3</td>\n",
       "      <td>F</td>\n",
       "      <td>C</td>\n",
       "      <td>2</td>\n",
       "      <td>0.0</td>\n",
       "      <td>0.0</td>\n",
       "    </tr>\n",
       "    <tr>\n",
       "      <th>1</th>\n",
       "      <td>1.03</td>\n",
       "      <td>0.648871</td>\n",
       "      <td>0</td>\n",
       "      <td>0</td>\n",
       "      <td>0.0</td>\n",
       "      <td>HBACK</td>\n",
       "      <td>2</td>\n",
       "      <td>F</td>\n",
       "      <td>A</td>\n",
       "      <td>4</td>\n",
       "      <td>0.0</td>\n",
       "      <td>0.0</td>\n",
       "    </tr>\n",
       "    <tr>\n",
       "      <th>2</th>\n",
       "      <td>3.26</td>\n",
       "      <td>0.569473</td>\n",
       "      <td>0</td>\n",
       "      <td>0</td>\n",
       "      <td>0.0</td>\n",
       "      <td>UTE</td>\n",
       "      <td>2</td>\n",
       "      <td>F</td>\n",
       "      <td>E</td>\n",
       "      <td>2</td>\n",
       "      <td>0.0</td>\n",
       "      <td>0.0</td>\n",
       "    </tr>\n",
       "    <tr>\n",
       "      <th>3</th>\n",
       "      <td>4.14</td>\n",
       "      <td>0.317591</td>\n",
       "      <td>0</td>\n",
       "      <td>0</td>\n",
       "      <td>0.0</td>\n",
       "      <td>STNWG</td>\n",
       "      <td>2</td>\n",
       "      <td>F</td>\n",
       "      <td>D</td>\n",
       "      <td>2</td>\n",
       "      <td>0.0</td>\n",
       "      <td>0.0</td>\n",
       "    </tr>\n",
       "    <tr>\n",
       "      <th>4</th>\n",
       "      <td>0.72</td>\n",
       "      <td>0.648871</td>\n",
       "      <td>0</td>\n",
       "      <td>0</td>\n",
       "      <td>0.0</td>\n",
       "      <td>HBACK</td>\n",
       "      <td>4</td>\n",
       "      <td>F</td>\n",
       "      <td>C</td>\n",
       "      <td>2</td>\n",
       "      <td>0.0</td>\n",
       "      <td>0.0</td>\n",
       "    </tr>\n",
       "  </tbody>\n",
       "</table>\n",
       "</div>"
      ],
      "text/plain": [
       "   veh_value  exposure  clm  numclaims  claimcst0 veh_body  veh_age gender  \\\n",
       "0       1.06  0.303901    0          0        0.0    HBACK        3      F   \n",
       "1       1.03  0.648871    0          0        0.0    HBACK        2      F   \n",
       "2       3.26  0.569473    0          0        0.0      UTE        2      F   \n",
       "3       4.14  0.317591    0          0        0.0    STNWG        2      F   \n",
       "4       0.72  0.648871    0          0        0.0    HBACK        4      F   \n",
       "\n",
       "  area  agecat  severity  frequincy  \n",
       "0    C       2       0.0        0.0  \n",
       "1    A       4       0.0        0.0  \n",
       "2    E       2       0.0        0.0  \n",
       "3    D       2       0.0        0.0  \n",
       "4    C       2       0.0        0.0  "
      ]
     },
     "execution_count": 3,
     "metadata": {},
     "output_type": "execute_result"
    }
   ],
   "source": [
    "df.head()"
   ]
  },
  {
   "cell_type": "markdown",
   "metadata": {},
   "source": [
    "---"
   ]
  },
  {
   "cell_type": "markdown",
   "metadata": {},
   "source": [
    "* *Creat new dataset copy*"
   ]
  },
  {
   "cell_type": "code",
   "execution_count": 4,
   "metadata": {},
   "outputs": [],
   "source": [
    "df2=df.copy()"
   ]
  },
  {
   "cell_type": "markdown",
   "metadata": {},
   "source": [
    "* *Convert Some features to object data type :*"
   ]
  },
  {
   "cell_type": "code",
   "execution_count": 5,
   "metadata": {},
   "outputs": [],
   "source": [
    "df2[\"veh_age\"]=df2[\"veh_age\"].astype(\"object\")\n",
    "df2[\"agecat\"]=df2[\"agecat\"].astype(\"object\")\n",
    "df2[\"clm\"]=df2[\"clm\"].astype(\"object\")\n",
    "df2[\"numclaims\"]=df2[\"numclaims\"].astype(\"object\")"
   ]
  },
  {
   "cell_type": "markdown",
   "metadata": {},
   "source": [
    "* *Apply LabelEncoder on categorical features*"
   ]
  },
  {
   "cell_type": "code",
   "execution_count": 6,
   "metadata": {},
   "outputs": [],
   "source": [
    "from sklearn.preprocessing import LabelEncoder,StandardScaler\n",
    "LabelEncoder_category=LabelEncoder()"
   ]
  },
  {
   "cell_type": "code",
   "execution_count": 7,
   "metadata": {},
   "outputs": [],
   "source": [
    "for col in df2:\n",
    "    if col in [\"gender\",\"numclaims\",\"veh_body\",\"veh_age\",\"area\",\"agecat\",\"clm\"]:\n",
    "        df2[col]=LabelEncoder_category.fit_transform(df2[col])"
   ]
  },
  {
   "cell_type": "markdown",
   "metadata": {},
   "source": [
    "* *Determine Target and input Features :*"
   ]
  },
  {
   "cell_type": "code",
   "execution_count": 8,
   "metadata": {},
   "outputs": [],
   "source": [
    "x=df2.drop(\"gender\",axis=1)\n",
    "y=df2[\"gender\"]"
   ]
  },
  {
   "cell_type": "markdown",
   "metadata": {},
   "source": [
    "* *Importing needed Libraries :*"
   ]
  },
  {
   "cell_type": "code",
   "execution_count": 9,
   "metadata": {},
   "outputs": [],
   "source": [
    "from sklearn.model_selection import train_test_split,cross_val_score\n",
    "from sklearn.metrics import (r2_score,accuracy_score,classification_report,ConfusionMatrixDisplay,confusion_matrix)\n",
    "import warnings\n",
    "from sklearn.utils.multiclass import unique_labels"
   ]
  },
  {
   "cell_type": "markdown",
   "metadata": {},
   "source": [
    "* *Data Splitting :*"
   ]
  },
  {
   "cell_type": "code",
   "execution_count": 10,
   "metadata": {},
   "outputs": [],
   "source": [
    "xtrain,xtest, ytrain, ytest = train_test_split(x, y, test_size=0.3,random_state=0)"
   ]
  },
  {
   "cell_type": "code",
   "execution_count": 11,
   "metadata": {},
   "outputs": [],
   "source": [
    "sc=StandardScaler()\n",
    "xtrain_sc=sc.fit_transform(xtrain)\n",
    "xtest_sc=sc.transform(xtest)"
   ]
  },
  {
   "cell_type": "markdown",
   "metadata": {},
   "source": [
    "* *Importing Tensorflow :*"
   ]
  },
  {
   "cell_type": "code",
   "execution_count": 12,
   "metadata": {},
   "outputs": [
    {
     "name": "stdout",
     "output_type": "stream",
     "text": [
      "WARNING:tensorflow:From c:\\Users\\Omar\\AppData\\Local\\Programs\\Python\\Python310\\lib\\site-packages\\keras\\src\\losses.py:2976: The name tf.losses.sparse_softmax_cross_entropy is deprecated. Please use tf.compat.v1.losses.sparse_softmax_cross_entropy instead.\n",
      "\n"
     ]
    }
   ],
   "source": [
    "import tensorflow as tf"
   ]
  },
  {
   "cell_type": "code",
   "execution_count": 13,
   "metadata": {},
   "outputs": [],
   "source": [
    "from tensorflow.keras.models import Sequential\n",
    "from tensorflow.keras.layers import Dense\n",
    "from tensorflow.keras.layers import ReLU,PReLU,LeakyReLU\n",
    "from tensorflow.keras.layers import Dropout"
   ]
  },
  {
   "cell_type": "markdown",
   "metadata": {},
   "source": [
    "* *Model Preparation :*"
   ]
  },
  {
   "cell_type": "code",
   "execution_count": 14,
   "metadata": {},
   "outputs": [
    {
     "name": "stdout",
     "output_type": "stream",
     "text": [
      "WARNING:tensorflow:From c:\\Users\\Omar\\AppData\\Local\\Programs\\Python\\Python310\\lib\\site-packages\\keras\\src\\backend.py:873: The name tf.get_default_graph is deprecated. Please use tf.compat.v1.get_default_graph instead.\n",
      "\n"
     ]
    }
   ],
   "source": [
    "classifier=Sequential()"
   ]
  },
  {
   "cell_type": "markdown",
   "metadata": {},
   "source": [
    "* *1st Hidden Layer :*"
   ]
  },
  {
   "cell_type": "code",
   "execution_count": 15,
   "metadata": {},
   "outputs": [],
   "source": [
    "classifier.add(Dense(units=11,activation=\"ReLU\"))"
   ]
  },
  {
   "cell_type": "markdown",
   "metadata": {},
   "source": [
    "* *2nd Hidden Layer :*"
   ]
  },
  {
   "cell_type": "code",
   "execution_count": 16,
   "metadata": {},
   "outputs": [],
   "source": [
    "classifier.add(Dense(units=6,activation=\"ReLU\"))"
   ]
  },
  {
   "cell_type": "markdown",
   "metadata": {},
   "source": [
    "* *Last Layer -Output :*"
   ]
  },
  {
   "cell_type": "code",
   "execution_count": 17,
   "metadata": {},
   "outputs": [],
   "source": [
    "classifier.add(Dense(1,activation=\"sigmoid\"))"
   ]
  },
  {
   "cell_type": "markdown",
   "metadata": {},
   "source": [
    "* *Adam Optimizer Preparation :*"
   ]
  },
  {
   "cell_type": "code",
   "execution_count": 18,
   "metadata": {},
   "outputs": [],
   "source": [
    "import tensorflow\n",
    "opt=tf.keras.optimizers.Adam(learning_rate=0.01)"
   ]
  },
  {
   "cell_type": "markdown",
   "metadata": {},
   "source": [
    "* *Compiling the Model :*"
   ]
  },
  {
   "cell_type": "code",
   "execution_count": 19,
   "metadata": {},
   "outputs": [],
   "source": [
    "classifier.compile(optimizer=opt,loss=\"binary_crossentropy\",metrics=[\"accuracy\"])"
   ]
  },
  {
   "cell_type": "markdown",
   "metadata": {},
   "source": [
    "* *Early Stopping Preparation :*"
   ]
  },
  {
   "cell_type": "code",
   "execution_count": 20,
   "metadata": {},
   "outputs": [],
   "source": [
    "import tensorflow\n",
    "early_stopping=tf.keras.callbacks.EarlyStopping(\n",
    "    monitor='val_loss',\n",
    "    min_delta=0.001,\n",
    "    patience=20,\n",
    "    verbose=1,\n",
    "    mode='auto',\n",
    "    baseline=None,\n",
    "    restore_best_weights=False,\n",
    "    start_from_epoch=0\n",
    ")"
   ]
  },
  {
   "cell_type": "markdown",
   "metadata": {},
   "source": [
    "* *Model Fitting :*"
   ]
  },
  {
   "cell_type": "code",
   "execution_count": 21,
   "metadata": {},
   "outputs": [
    {
     "name": "stdout",
     "output_type": "stream",
     "text": [
      "Epoch 1/1000\n",
      "WARNING:tensorflow:From c:\\Users\\Omar\\AppData\\Local\\Programs\\Python\\Python310\\lib\\site-packages\\keras\\src\\utils\\tf_utils.py:492: The name tf.ragged.RaggedTensorValue is deprecated. Please use tf.compat.v1.ragged.RaggedTensorValue instead.\n",
      "\n",
      "WARNING:tensorflow:From c:\\Users\\Omar\\AppData\\Local\\Programs\\Python\\Python310\\lib\\site-packages\\keras\\src\\engine\\base_layer_utils.py:384: The name tf.executing_eagerly_outside_functions is deprecated. Please use tf.compat.v1.executing_eagerly_outside_functions instead.\n",
      "\n",
      "995/995 [==============================] - 3s 2ms/step - loss: 0.6567 - accuracy: 0.6159 - val_loss: 0.6556 - val_accuracy: 0.6192\n",
      "Epoch 2/1000\n",
      "995/995 [==============================] - 2s 2ms/step - loss: 0.6486 - accuracy: 0.6260 - val_loss: 0.6515 - val_accuracy: 0.6248\n",
      "Epoch 3/1000\n",
      "995/995 [==============================] - 2s 2ms/step - loss: 0.6473 - accuracy: 0.6304 - val_loss: 0.6500 - val_accuracy: 0.6258\n",
      "Epoch 4/1000\n",
      "995/995 [==============================] - 2s 2ms/step - loss: 0.6460 - accuracy: 0.6274 - val_loss: 0.6530 - val_accuracy: 0.6271\n",
      "Epoch 5/1000\n",
      "995/995 [==============================] - 2s 2ms/step - loss: 0.6451 - accuracy: 0.6309 - val_loss: 0.6487 - val_accuracy: 0.6274\n",
      "Epoch 6/1000\n",
      "995/995 [==============================] - 2s 2ms/step - loss: 0.6445 - accuracy: 0.6321 - val_loss: 0.6503 - val_accuracy: 0.6230\n",
      "Epoch 7/1000\n",
      "995/995 [==============================] - 2s 2ms/step - loss: 0.6445 - accuracy: 0.6309 - val_loss: 0.6474 - val_accuracy: 0.6278\n",
      "Epoch 8/1000\n",
      "995/995 [==============================] - 2s 2ms/step - loss: 0.6438 - accuracy: 0.6307 - val_loss: 0.6466 - val_accuracy: 0.6295\n",
      "Epoch 9/1000\n",
      "995/995 [==============================] - 2s 2ms/step - loss: 0.6430 - accuracy: 0.6356 - val_loss: 0.6464 - val_accuracy: 0.6334\n",
      "Epoch 10/1000\n",
      "995/995 [==============================] - 2s 2ms/step - loss: 0.6423 - accuracy: 0.6392 - val_loss: 0.6492 - val_accuracy: 0.6312\n",
      "Epoch 11/1000\n",
      "995/995 [==============================] - 2s 2ms/step - loss: 0.6417 - accuracy: 0.6402 - val_loss: 0.6472 - val_accuracy: 0.6348\n",
      "Epoch 12/1000\n",
      "995/995 [==============================] - 2s 2ms/step - loss: 0.6416 - accuracy: 0.6380 - val_loss: 0.6457 - val_accuracy: 0.6306\n",
      "Epoch 13/1000\n",
      "995/995 [==============================] - 2s 2ms/step - loss: 0.6420 - accuracy: 0.6357 - val_loss: 0.6468 - val_accuracy: 0.6338\n",
      "Epoch 14/1000\n",
      "995/995 [==============================] - 2s 2ms/step - loss: 0.6413 - accuracy: 0.6368 - val_loss: 0.6508 - val_accuracy: 0.6295\n",
      "Epoch 15/1000\n",
      "995/995 [==============================] - 2s 2ms/step - loss: 0.6409 - accuracy: 0.6370 - val_loss: 0.6454 - val_accuracy: 0.6355\n",
      "Epoch 16/1000\n",
      "995/995 [==============================] - 2s 2ms/step - loss: 0.6411 - accuracy: 0.6384 - val_loss: 0.6456 - val_accuracy: 0.6352\n",
      "Epoch 17/1000\n",
      "995/995 [==============================] - 2s 2ms/step - loss: 0.6404 - accuracy: 0.6370 - val_loss: 0.6447 - val_accuracy: 0.6359\n",
      "Epoch 18/1000\n",
      "995/995 [==============================] - 2s 2ms/step - loss: 0.6397 - accuracy: 0.6373 - val_loss: 0.6450 - val_accuracy: 0.6304\n",
      "Epoch 19/1000\n",
      "995/995 [==============================] - 2s 2ms/step - loss: 0.6400 - accuracy: 0.6384 - val_loss: 0.6459 - val_accuracy: 0.6318\n",
      "Epoch 20/1000\n",
      "995/995 [==============================] - 2s 2ms/step - loss: 0.6400 - accuracy: 0.6390 - val_loss: 0.6438 - val_accuracy: 0.6332\n",
      "Epoch 21/1000\n",
      "995/995 [==============================] - 2s 2ms/step - loss: 0.6393 - accuracy: 0.6394 - val_loss: 0.6484 - val_accuracy: 0.6318\n",
      "Epoch 22/1000\n",
      "995/995 [==============================] - 2s 2ms/step - loss: 0.6393 - accuracy: 0.6380 - val_loss: 0.6458 - val_accuracy: 0.6326\n",
      "Epoch 23/1000\n",
      "995/995 [==============================] - 2s 2ms/step - loss: 0.6400 - accuracy: 0.6369 - val_loss: 0.6459 - val_accuracy: 0.6300\n",
      "Epoch 24/1000\n",
      "995/995 [==============================] - 2s 2ms/step - loss: 0.6396 - accuracy: 0.6384 - val_loss: 0.6443 - val_accuracy: 0.6307\n",
      "Epoch 25/1000\n",
      "995/995 [==============================] - 2s 2ms/step - loss: 0.6398 - accuracy: 0.6386 - val_loss: 0.6449 - val_accuracy: 0.6321\n",
      "Epoch 26/1000\n",
      "995/995 [==============================] - 2s 2ms/step - loss: 0.6400 - accuracy: 0.6396 - val_loss: 0.6468 - val_accuracy: 0.6331\n",
      "Epoch 27/1000\n",
      "995/995 [==============================] - 2s 2ms/step - loss: 0.6389 - accuracy: 0.6379 - val_loss: 0.6469 - val_accuracy: 0.6315\n",
      "Epoch 28/1000\n",
      "995/995 [==============================] - 2s 2ms/step - loss: 0.6393 - accuracy: 0.6381 - val_loss: 0.6458 - val_accuracy: 0.6299\n",
      "Epoch 29/1000\n",
      "995/995 [==============================] - 2s 2ms/step - loss: 0.6390 - accuracy: 0.6396 - val_loss: 0.6447 - val_accuracy: 0.6313\n",
      "Epoch 30/1000\n",
      "995/995 [==============================] - 2s 2ms/step - loss: 0.6389 - accuracy: 0.6397 - val_loss: 0.6445 - val_accuracy: 0.6316\n",
      "Epoch 31/1000\n",
      "995/995 [==============================] - 2s 2ms/step - loss: 0.6397 - accuracy: 0.6392 - val_loss: 0.6437 - val_accuracy: 0.6350\n",
      "Epoch 32/1000\n",
      "995/995 [==============================] - 2s 2ms/step - loss: 0.6397 - accuracy: 0.6387 - val_loss: 0.6455 - val_accuracy: 0.6295\n",
      "Epoch 33/1000\n",
      "995/995 [==============================] - 2s 2ms/step - loss: 0.6394 - accuracy: 0.6405 - val_loss: 0.6451 - val_accuracy: 0.6344\n",
      "Epoch 34/1000\n",
      "995/995 [==============================] - 2s 2ms/step - loss: 0.6399 - accuracy: 0.6357 - val_loss: 0.6493 - val_accuracy: 0.6367\n",
      "Epoch 35/1000\n",
      "995/995 [==============================] - 2s 2ms/step - loss: 0.6392 - accuracy: 0.6394 - val_loss: 0.6434 - val_accuracy: 0.6359\n",
      "Epoch 36/1000\n",
      "995/995 [==============================] - 2s 2ms/step - loss: 0.6395 - accuracy: 0.6388 - val_loss: 0.6467 - val_accuracy: 0.6311\n",
      "Epoch 37/1000\n",
      "995/995 [==============================] - 2s 2ms/step - loss: 0.6396 - accuracy: 0.6403 - val_loss: 0.6461 - val_accuracy: 0.6321\n",
      "Epoch 38/1000\n",
      "995/995 [==============================] - 2s 2ms/step - loss: 0.6392 - accuracy: 0.6379 - val_loss: 0.6450 - val_accuracy: 0.6323\n",
      "Epoch 39/1000\n",
      "995/995 [==============================] - 2s 2ms/step - loss: 0.6395 - accuracy: 0.6401 - val_loss: 0.6442 - val_accuracy: 0.6345\n",
      "Epoch 40/1000\n",
      "995/995 [==============================] - 2s 2ms/step - loss: 0.6398 - accuracy: 0.6387 - val_loss: 0.6454 - val_accuracy: 0.6316\n",
      "Epoch 40: early stopping\n"
     ]
    }
   ],
   "source": [
    "model_history=classifier.fit(xtrain_sc,ytrain,validation_split=.33,epochs=1000,callbacks=early_stopping)"
   ]
  },
  {
   "cell_type": "code",
   "execution_count": 22,
   "metadata": {},
   "outputs": [
    {
     "data": {
      "text/plain": [
       "dict_keys(['loss', 'accuracy', 'val_loss', 'val_accuracy'])"
      ]
     },
     "execution_count": 22,
     "metadata": {},
     "output_type": "execute_result"
    }
   ],
   "source": [
    "model_history.history.keys()"
   ]
  },
  {
   "cell_type": "code",
   "execution_count": 23,
   "metadata": {},
   "outputs": [
    {
     "data": {
      "image/png": "[encoded data removed]",
      "text/plain": [
       "<Figure size 2000x1000 with 2 Axes>"
      ]
     },
     "metadata": {},
     "output_type": "display_data"
    }
   ],
   "source": [
    "plt.subplot(221)\n",
    "plt.plot(model_history.history[\"accuracy\"])\n",
    "plt.plot(model_history.history[\"val_accuracy\"])\n",
    "plt.ylabel(\"accuracy\")\n",
    "plt.xlabel(\"epoch\")\n",
    "plt.legend([\"train\",\"test\"]);\n",
    "\n",
    "\n",
    "plt.subplot(222)\n",
    "plt.plot(model_history.history[\"loss\"])\n",
    "plt.plot(model_history.history[\"val_loss\"])\n",
    "plt.ylabel(\"loss\")\n",
    "plt.xlabel(\"epoch\")\n",
    "plt.legend([\"train\",\"test\"]);"
   ]
  },
  {
   "cell_type": "code",
   "execution_count": 24,
   "metadata": {},
   "outputs": [
    {
     "name": "stdout",
     "output_type": "stream",
     "text": [
      "637/637 [==============================] - 1s 1ms/step\n"
     ]
    }
   ],
   "source": [
    "y=classifier.predict(xtest_sc)"
   ]
  },
  {
   "cell_type": "code",
   "execution_count": 25,
   "metadata": {},
   "outputs": [],
   "source": [
    "y=y>.5"
   ]
  },
  {
   "cell_type": "code",
   "execution_count": 26,
   "metadata": {},
   "outputs": [
    {
     "data": {
      "text/plain": [
       "array([[8555, 2968],\n",
       "       [4479, 4355]], dtype=int64)"
      ]
     },
     "execution_count": 26,
     "metadata": {},
     "output_type": "execute_result"
    }
   ],
   "source": [
    "confusion_matrix(ytest,y)"
   ]
  },
  {
   "cell_type": "code",
   "execution_count": 27,
   "metadata": {},
   "outputs": [
    {
     "data": {
      "text/plain": [
       "0.6341798889816771"
      ]
     },
     "execution_count": 27,
     "metadata": {},
     "output_type": "execute_result"
    }
   ],
   "source": [
    "accuracy_score(ytest,y)"
   ]
  },
  {
   "cell_type": "code",
   "execution_count": 28,
   "metadata": {},
   "outputs": [
    {
     "data": {
      "text/html": [
       "<div>\n",
       "<style scoped>\n",
       "    .dataframe tbody tr th:only-of-type {\n",
       "        vertical-align: middle;\n",
       "    }\n",
       "\n",
       "    .dataframe tbody tr th {\n",
       "        vertical-align: top;\n",
       "    }\n",
       "\n",
       "    .dataframe thead th {\n",
       "        text-align: right;\n",
       "    }\n",
       "</style>\n",
       "<table border=\"1\" class=\"dataframe\">\n",
       "  <thead>\n",
       "    <tr style=\"text-align: right;\">\n",
       "      <th></th>\n",
       "      <th>predicted0</th>\n",
       "      <th>predicted1</th>\n",
       "    </tr>\n",
       "  </thead>\n",
       "  <tbody>\n",
       "    <tr>\n",
       "      <th>Actual0</th>\n",
       "      <td>8555</td>\n",
       "      <td>2968</td>\n",
       "    </tr>\n",
       "    <tr>\n",
       "      <th>Actual1</th>\n",
       "      <td>4479</td>\n",
       "      <td>4355</td>\n",
       "    </tr>\n",
       "  </tbody>\n",
       "</table>\n",
       "</div>"
      ],
      "text/plain": [
       "         predicted0  predicted1\n",
       "Actual0        8555        2968\n",
       "Actual1        4479        4355"
      ]
     },
     "execution_count": 28,
     "metadata": {},
     "output_type": "execute_result"
    }
   ],
   "source": [
    "unique_labels(ytest)\n",
    "labels=unique_labels(ytest)\n",
    "col_names=[f\"predicted{label}\"for label in labels ]\n",
    "index_names=[f\"Actual{label}\"for label in labels ]\n",
    "pd.DataFrame(confusion_matrix(ytest, y),columns=col_names,index=index_names)"
   ]
  },
  {
   "cell_type": "code",
   "execution_count": 29,
   "metadata": {},
   "outputs": [
    {
     "data": {
      "image/png": "[encoded data removed]",
      "text/plain": [
       "<Figure size 2000x1000 with 2 Axes>"
      ]
     },
     "metadata": {},
     "output_type": "display_data"
    }
   ],
   "source": [
    "ConfusionMatrixDisplay(confusion_matrix(ytest,y)).plot();"
   ]
  },
  {
   "cell_type": "code",
   "execution_count": 30,
   "metadata": {},
   "outputs": [
    {
     "name": "stdout",
     "output_type": "stream",
     "text": [
      "              precision    recall  f1-score   support\n",
      "\n",
      "           0       0.66      0.74      0.70     11523\n",
      "           1       0.59      0.49      0.54      8834\n",
      "\n",
      "    accuracy                           0.63     20357\n",
      "   macro avg       0.63      0.62      0.62     20357\n",
      "weighted avg       0.63      0.63      0.63     20357\n",
      "\n"
     ]
    }
   ],
   "source": [
    "print(classification_report(ytest,y))"
   ]
  },
  {
   "cell_type": "code",
   "execution_count": null,
   "metadata": {},
   "outputs": [],
   "source": []
  }
 ],
 "metadata": {
  "kernelspec": {
   "display_name": "Python 3",
   "language": "python",
   "name": "python3"
  },
  "language_info": {
   "codemirror_mode": {
    "name": "ipython",
    "version": 3
   },
   "file_extension": ".py",
   "mimetype": "text/x-python",
   "name": "python",
   "nbconvert_exporter": "python",
   "pygments_lexer": "ipython3",
   "version": "3.10.8"
  }
 },
 "nbformat": 4,
 "nbformat_minor": 2
}
