{
 "cells": [
  {
   "cell_type": "markdown",
   "metadata": {},
   "source": [
    "# *ANN -Artificial Neural Network*"
   ]
  },
  {
   "cell_type": "markdown",
   "metadata": {},
   "source": [
    "### *Analysis objective :<br>Applying -ANN- model on the prediction of -gender- as a target Feature*\n",
    "---"
   ]
  },
  {
   "cell_type": "code",
   "execution_count": 2,
   "metadata": {},
   "outputs": [],
   "source": [
    "import pandas as pd\n",
    "from matplotlib import pyplot  as plt\n",
    "%matplotlib inline\n",
    "import matplotlib\n",
    "matplotlib.rcParams[\"figure.figsize\"]=(20,10)\n",
    "matplotlib.rcParams[\"figure.figsize\"]=(20,10)"
   ]
  },
  {
   "cell_type": "code",
   "execution_count": 3,
   "metadata": {},
   "outputs": [],
   "source": [
    "df=pd.read_csv(r\"cleand_df.csv\")"
   ]
  },
  {
   "cell_type": "code",
   "execution_count": 4,
   "metadata": {},
   "outputs": [
    {
     "data": {
      "text/html": [
       "<div>\n",
       "<style scoped>\n",
       "    .dataframe tbody tr th:only-of-type {\n",
       "        vertical-align: middle;\n",
       "    }\n",
       "\n",
       "    .dataframe tbody tr th {\n",
       "        vertical-align: top;\n",
       "    }\n",
       "\n",
       "    .dataframe thead th {\n",
       "        text-align: right;\n",
       "    }\n",
       "</style>\n",
       "<table border=\"1\" class=\"dataframe\">\n",
       "  <thead>\n",
       "    <tr style=\"text-align: right;\">\n",
       "      <th></th>\n",
       "      <th>veh_value</th>\n",
       "      <th>exposure</th>\n",
       "      <th>clm</th>\n",
       "      <th>numclaims</th>\n",
       "      <th>claimcst0</th>\n",
       "      <th>veh_body</th>\n",
       "      <th>veh_age</th>\n",
       "      <th>gender</th>\n",
       "      <th>area</th>\n",
       "      <th>agecat</th>\n",
       "      <th>severity</th>\n",
       "      <th>frequincy</th>\n",
       "    </tr>\n",
       "  </thead>\n",
       "  <tbody>\n",
       "    <tr>\n",
       "      <th>0</th>\n",
       "      <td>1.06</td>\n",
       "      <td>0.303901</td>\n",
       "      <td>0</td>\n",
       "      <td>0</td>\n",
       "      <td>0.0</td>\n",
       "      <td>HBACK</td>\n",
       "      <td>3</td>\n",
       "      <td>F</td>\n",
       "      <td>C</td>\n",
       "      <td>2</td>\n",
       "      <td>0.0</td>\n",
       "      <td>0.0</td>\n",
       "    </tr>\n",
       "    <tr>\n",
       "      <th>1</th>\n",
       "      <td>1.03</td>\n",
       "      <td>0.648871</td>\n",
       "      <td>0</td>\n",
       "      <td>0</td>\n",
       "      <td>0.0</td>\n",
       "      <td>HBACK</td>\n",
       "      <td>2</td>\n",
       "      <td>F</td>\n",
       "      <td>A</td>\n",
       "      <td>4</td>\n",
       "      <td>0.0</td>\n",
       "      <td>0.0</td>\n",
       "    </tr>\n",
       "    <tr>\n",
       "      <th>2</th>\n",
       "      <td>3.26</td>\n",
       "      <td>0.569473</td>\n",
       "      <td>0</td>\n",
       "      <td>0</td>\n",
       "      <td>0.0</td>\n",
       "      <td>UTE</td>\n",
       "      <td>2</td>\n",
       "      <td>F</td>\n",
       "      <td>E</td>\n",
       "      <td>2</td>\n",
       "      <td>0.0</td>\n",
       "      <td>0.0</td>\n",
       "    </tr>\n",
       "    <tr>\n",
       "      <th>3</th>\n",
       "      <td>4.14</td>\n",
       "      <td>0.317591</td>\n",
       "      <td>0</td>\n",
       "      <td>0</td>\n",
       "      <td>0.0</td>\n",
       "      <td>STNWG</td>\n",
       "      <td>2</td>\n",
       "      <td>F</td>\n",
       "      <td>D</td>\n",
       "      <td>2</td>\n",
       "      <td>0.0</td>\n",
       "      <td>0.0</td>\n",
       "    </tr>\n",
       "    <tr>\n",
       "      <th>4</th>\n",
       "      <td>0.72</td>\n",
       "      <td>0.648871</td>\n",
       "      <td>0</td>\n",
       "      <td>0</td>\n",
       "      <td>0.0</td>\n",
       "      <td>HBACK</td>\n",
       "      <td>4</td>\n",
       "      <td>F</td>\n",
       "      <td>C</td>\n",
       "      <td>2</td>\n",
       "      <td>0.0</td>\n",
       "      <td>0.0</td>\n",
       "    </tr>\n",
       "  </tbody>\n",
       "</table>\n",
       "</div>"
      ],
      "text/plain": [
       "   veh_value  exposure  clm  numclaims  claimcst0 veh_body  veh_age gender  \\\n",
       "0       1.06  0.303901    0          0        0.0    HBACK        3      F   \n",
       "1       1.03  0.648871    0          0        0.0    HBACK        2      F   \n",
       "2       3.26  0.569473    0          0        0.0      UTE        2      F   \n",
       "3       4.14  0.317591    0          0        0.0    STNWG        2      F   \n",
       "4       0.72  0.648871    0          0        0.0    HBACK        4      F   \n",
       "\n",
       "  area  agecat  severity  frequincy  \n",
       "0    C       2       0.0        0.0  \n",
       "1    A       4       0.0        0.0  \n",
       "2    E       2       0.0        0.0  \n",
       "3    D       2       0.0        0.0  \n",
       "4    C       2       0.0        0.0  "
      ]
     },
     "execution_count": 4,
     "metadata": {},
     "output_type": "execute_result"
    }
   ],
   "source": [
    "df.head()"
   ]
  },
  {
   "cell_type": "markdown",
   "metadata": {},
   "source": [
    "---"
   ]
  },
  {
   "cell_type": "markdown",
   "metadata": {},
   "source": [
    "* *Creat new dataset copy*"
   ]
  },
  {
   "cell_type": "code",
   "execution_count": 5,
   "metadata": {},
   "outputs": [],
   "source": [
    "df2=df.copy()"
   ]
  },
  {
   "cell_type": "markdown",
   "metadata": {},
   "source": [
    "* *Convert Some features to object data type :*"
   ]
  },
  {
   "cell_type": "code",
   "execution_count": 6,
   "metadata": {},
   "outputs": [],
   "source": [
    "df2[\"veh_age\"]=df2[\"veh_age\"].astype(\"object\")\n",
    "df2[\"agecat\"]=df2[\"agecat\"].astype(\"object\")\n",
    "df2[\"clm\"]=df2[\"clm\"].astype(\"object\")\n",
    "df2[\"numclaims\"]=df2[\"numclaims\"].astype(\"object\")"
   ]
  },
  {
   "cell_type": "markdown",
   "metadata": {},
   "source": [
    "* *Apply LabelEncoder on categorical features*"
   ]
  },
  {
   "cell_type": "code",
   "execution_count": 7,
   "metadata": {},
   "outputs": [],
   "source": [
    "from sklearn.preprocessing import LabelEncoder,StandardScaler\n",
    "LabelEncoder_category=LabelEncoder()"
   ]
  },
  {
   "cell_type": "code",
   "execution_count": 8,
   "metadata": {},
   "outputs": [],
   "source": [
    "for col in df2:\n",
    "    if col in [\"gender\",\"numclaims\",\"veh_body\",\"veh_age\",\"area\",\"agecat\",\"clm\"]:\n",
    "        df2[col]=LabelEncoder_category.fit_transform(df2[col])"
   ]
  },
  {
   "cell_type": "markdown",
   "metadata": {},
   "source": [
    "* *Determine Target and input Features :*"
   ]
  },
  {
   "cell_type": "code",
   "execution_count": 9,
   "metadata": {},
   "outputs": [],
   "source": [
    "x=df2.drop(\"gender\",axis=1)\n",
    "y=df2[\"gender\"]"
   ]
  },
  {
   "cell_type": "markdown",
   "metadata": {},
   "source": [
    "* *Importing needed Libraries :*"
   ]
  },
  {
   "cell_type": "code",
   "execution_count": 10,
   "metadata": {},
   "outputs": [],
   "source": [
    "from sklearn.model_selection import train_test_split,cross_val_score\n",
    "from sklearn.metrics import (r2_score,accuracy_score,classification_report,ConfusionMatrixDisplay,confusion_matrix)\n",
    "import warnings\n",
    "from sklearn.utils.multiclass import unique_labels"
   ]
  },
  {
   "cell_type": "markdown",
   "metadata": {},
   "source": [
    "* *Data Splitting :*"
   ]
  },
  {
   "cell_type": "code",
   "execution_count": 11,
   "metadata": {},
   "outputs": [],
   "source": [
    "xtrain,xtest, ytrain, ytest = train_test_split(x, y, test_size=0.3,random_state=0)"
   ]
  },
  {
   "cell_type": "code",
   "execution_count": 12,
   "metadata": {},
   "outputs": [],
   "source": [
    "sc=StandardScaler()\n",
    "xtrain_sc=sc.fit_transform(xtrain)\n",
    "xtest_sc=sc.transform(xtest)"
   ]
  },
  {
   "cell_type": "markdown",
   "metadata": {},
   "source": [
    "* *Importing Tensorflow :*"
   ]
  },
  {
   "cell_type": "code",
   "execution_count": 14,
   "metadata": {},
   "outputs": [],
   "source": [
    "import tensorflow as tf"
   ]
  },
  {
   "cell_type": "code",
   "execution_count": 15,
   "metadata": {},
   "outputs": [],
   "source": [
    "from tensorflow.keras.models import Sequential\n",
    "from tensorflow.keras.layers import Dense\n",
    "from tensorflow.keras.layers import ReLU,PReLU,LeakyReLU\n",
    "from tensorflow.keras.layers import Dropout"
   ]
  },
  {
   "cell_type": "markdown",
   "metadata": {},
   "source": [
    "* *Model Preparation :*"
   ]
  },
  {
   "cell_type": "code",
   "execution_count": 17,
   "metadata": {},
   "outputs": [],
   "source": [
    "classifier=Sequential()"
   ]
  },
  {
   "cell_type": "markdown",
   "metadata": {},
   "source": [
    "* *1st Hidden Layer :*"
   ]
  },
  {
   "cell_type": "code",
   "execution_count": 18,
   "metadata": {},
   "outputs": [],
   "source": [
    "classifier.add(Dense(units=11,activation=\"ReLU\"))"
   ]
  },
  {
   "cell_type": "markdown",
   "metadata": {},
   "source": [
    "* *2nd Hidden Layer :*"
   ]
  },
  {
   "cell_type": "code",
   "execution_count": 19,
   "metadata": {},
   "outputs": [],
   "source": [
    "classifier.add(Dense(units=6,activation=\"ReLU\"))"
   ]
  },
  {
   "cell_type": "markdown",
   "metadata": {},
   "source": [
    "* *Last Layer -Output :*"
   ]
  },
  {
   "cell_type": "code",
   "execution_count": 20,
   "metadata": {},
   "outputs": [],
   "source": [
    "classifier.add(Dense(1,activation=\"sigmoid\"))"
   ]
  },
  {
   "cell_type": "markdown",
   "metadata": {},
   "source": [
    "* *Adam Optimizer Preparation :*"
   ]
  },
  {
   "cell_type": "code",
   "execution_count": 21,
   "metadata": {},
   "outputs": [],
   "source": [
    "import tensorflow\n",
    "opt=tf.keras.optimizers.Adam(learning_rate=0.01)"
   ]
  },
  {
   "cell_type": "markdown",
   "metadata": {},
   "source": [
    "* *Compiling the Model :*"
   ]
  },
  {
   "cell_type": "code",
   "execution_count": 22,
   "metadata": {},
   "outputs": [],
   "source": [
    "classifier.compile(optimizer=opt,loss=\"binary_crossentropy\",metrics=[\"accuracy\"])"
   ]
  },
  {
   "cell_type": "markdown",
   "metadata": {},
   "source": [
    "* *Early Stopping Preparation :*"
   ]
  },
  {
   "cell_type": "code",
   "execution_count": 23,
   "metadata": {},
   "outputs": [],
   "source": [
    "import tensorflow\n",
    "early_stopping=tf.keras.callbacks.EarlyStopping(\n",
    "    monitor='val_loss',\n",
    "    min_delta=0.001,\n",
    "    patience=20,\n",
    "    verbose=1,\n",
    "    mode='auto',\n",
    "    baseline=None,\n",
    "    restore_best_weights=False,\n",
    "    start_from_epoch=0\n",
    ")"
   ]
  },
  {
   "cell_type": "markdown",
   "metadata": {},
   "source": [
    "* *Model Fitting :*"
   ]
  },
  {
   "cell_type": "code",
   "execution_count": 24,
   "metadata": {},
   "outputs": [
    {
     "name": "stdout",
     "output_type": "stream",
     "text": [
      "Epoch 1/1000\n",
      "WARNING:tensorflow:From c:\\Users\\Omar\\AppData\\Local\\Programs\\Python\\Python310\\lib\\site-packages\\keras\\src\\utils\\tf_utils.py:492: The name tf.ragged.RaggedTensorValue is deprecated. Please use tf.compat.v1.ragged.RaggedTensorValue instead.\n",
      "\n",
      "WARNING:tensorflow:From c:\\Users\\Omar\\AppData\\Local\\Programs\\Python\\Python310\\lib\\site-packages\\keras\\src\\engine\\base_layer_utils.py:384: The name tf.executing_eagerly_outside_functions is deprecated. Please use tf.compat.v1.executing_eagerly_outside_functions instead.\n",
      "\n",
      "995/995 [==============================] - 3s 2ms/step - loss: 0.6598 - accuracy: 0.6138 - val_loss: 0.6533 - val_accuracy: 0.6209\n",
      "Epoch 2/1000\n",
      "995/995 [==============================] - 2s 2ms/step - loss: 0.6486 - accuracy: 0.6259 - val_loss: 0.6520 - val_accuracy: 0.6263\n",
      "Epoch 3/1000\n",
      "995/995 [==============================] - 2s 2ms/step - loss: 0.6470 - accuracy: 0.6301 - val_loss: 0.6530 - val_accuracy: 0.6281\n",
      "Epoch 4/1000\n",
      "995/995 [==============================] - 2s 2ms/step - loss: 0.6463 - accuracy: 0.6305 - val_loss: 0.6491 - val_accuracy: 0.6244\n",
      "Epoch 5/1000\n",
      "995/995 [==============================] - 2s 2ms/step - loss: 0.6457 - accuracy: 0.6317 - val_loss: 0.6519 - val_accuracy: 0.6242\n",
      "Epoch 6/1000\n",
      "995/995 [==============================] - 2s 2ms/step - loss: 0.6461 - accuracy: 0.6303 - val_loss: 0.6511 - val_accuracy: 0.6248\n",
      "Epoch 7/1000\n",
      "995/995 [==============================] - 2s 2ms/step - loss: 0.6462 - accuracy: 0.6307 - val_loss: 0.6492 - val_accuracy: 0.6278\n",
      "Epoch 8/1000\n",
      "995/995 [==============================] - 2s 2ms/step - loss: 0.6454 - accuracy: 0.6316 - val_loss: 0.6504 - val_accuracy: 0.6280\n",
      "Epoch 9/1000\n",
      "995/995 [==============================] - 2s 2ms/step - loss: 0.6451 - accuracy: 0.6353 - val_loss: 0.6482 - val_accuracy: 0.6270\n",
      "Epoch 10/1000\n",
      "995/995 [==============================] - 2s 2ms/step - loss: 0.6445 - accuracy: 0.6346 - val_loss: 0.6507 - val_accuracy: 0.6255\n",
      "Epoch 11/1000\n",
      "995/995 [==============================] - 2s 2ms/step - loss: 0.6456 - accuracy: 0.6298 - val_loss: 0.6502 - val_accuracy: 0.6274\n",
      "Epoch 12/1000\n",
      "995/995 [==============================] - 2s 2ms/step - loss: 0.6446 - accuracy: 0.6354 - val_loss: 0.6484 - val_accuracy: 0.6274\n",
      "Epoch 13/1000\n",
      "995/995 [==============================] - 2s 2ms/step - loss: 0.6446 - accuracy: 0.6351 - val_loss: 0.6510 - val_accuracy: 0.6270\n",
      "Epoch 14/1000\n",
      "995/995 [==============================] - 2s 2ms/step - loss: 0.6444 - accuracy: 0.6352 - val_loss: 0.6511 - val_accuracy: 0.6258\n",
      "Epoch 15/1000\n",
      "995/995 [==============================] - 2s 2ms/step - loss: 0.6453 - accuracy: 0.6326 - val_loss: 0.6515 - val_accuracy: 0.6278\n",
      "Epoch 16/1000\n",
      "995/995 [==============================] - 2s 2ms/step - loss: 0.6443 - accuracy: 0.6331 - val_loss: 0.6488 - val_accuracy: 0.6282\n",
      "Epoch 17/1000\n",
      "995/995 [==============================] - 2s 2ms/step - loss: 0.6443 - accuracy: 0.6357 - val_loss: 0.6502 - val_accuracy: 0.6216\n",
      "Epoch 18/1000\n",
      "995/995 [==============================] - 2s 2ms/step - loss: 0.6449 - accuracy: 0.6346 - val_loss: 0.6498 - val_accuracy: 0.6274\n",
      "Epoch 19/1000\n",
      "995/995 [==============================] - 2s 2ms/step - loss: 0.6448 - accuracy: 0.6340 - val_loss: 0.6491 - val_accuracy: 0.6247\n",
      "Epoch 20/1000\n",
      "995/995 [==============================] - 2s 2ms/step - loss: 0.6433 - accuracy: 0.6361 - val_loss: 0.6500 - val_accuracy: 0.6269\n",
      "Epoch 21/1000\n",
      "995/995 [==============================] - 2s 2ms/step - loss: 0.6447 - accuracy: 0.6353 - val_loss: 0.6482 - val_accuracy: 0.6283\n",
      "Epoch 22/1000\n",
      "995/995 [==============================] - 2s 2ms/step - loss: 0.6441 - accuracy: 0.6345 - val_loss: 0.6500 - val_accuracy: 0.6253\n",
      "Epoch 23/1000\n",
      "995/995 [==============================] - 2s 2ms/step - loss: 0.6441 - accuracy: 0.6343 - val_loss: 0.6498 - val_accuracy: 0.6279\n",
      "Epoch 24/1000\n",
      "995/995 [==============================] - 2s 2ms/step - loss: 0.6435 - accuracy: 0.6349 - val_loss: 0.6485 - val_accuracy: 0.6275\n",
      "Epoch 24: early stopping\n"
     ]
    }
   ],
   "source": [
    "model_history=classifier.fit(xtrain_sc,ytrain,validation_split=.33,epochs=1000,callbacks=early_stopping)"
   ]
  },
  {
   "cell_type": "code",
   "execution_count": 25,
   "metadata": {},
   "outputs": [
    {
     "data": {
      "text/plain": [
       "dict_keys(['loss', 'accuracy', 'val_loss', 'val_accuracy'])"
      ]
     },
     "execution_count": 25,
     "metadata": {},
     "output_type": "execute_result"
    }
   ],
   "source": [
    "model_history.history.keys()"
   ]
  },
  {
   "cell_type": "code",
   "execution_count": 26,
   "metadata": {},
   "outputs": [
    {
     "data": {
      "image/png": "[encoded data removed]",
      "text/plain": [
       "<Figure size 2000x1000 with 2 Axes>"
      ]
     },
     "metadata": {},
     "output_type": "display_data"
    }
   ],
   "source": [
    "plt.subplot(221)\n",
    "plt.plot(model_history.history[\"accuracy\"])\n",
    "plt.plot(model_history.history[\"val_accuracy\"])\n",
    "plt.ylabel(\"accuracy\")\n",
    "plt.xlabel(\"epoch\")\n",
    "plt.legend([\"train\",\"test\"]);\n",
    "\n",
    "\n",
    "plt.subplot(222)\n",
    "plt.plot(model_history.history[\"loss\"])\n",
    "plt.plot(model_history.history[\"val_loss\"])\n",
    "plt.ylabel(\"loss\")\n",
    "plt.xlabel(\"epoch\")\n",
    "plt.legend([\"train\",\"test\"]);"
   ]
  },
  {
   "cell_type": "code",
   "execution_count": 27,
   "metadata": {},
   "outputs": [
    {
     "name": "stdout",
     "output_type": "stream",
     "text": [
      "637/637 [==============================] - 1s 1ms/step\n"
     ]
    }
   ],
   "source": [
    "y=classifier.predict(xtest_sc)"
   ]
  },
  {
   "cell_type": "code",
   "execution_count": 28,
   "metadata": {},
   "outputs": [],
   "source": [
    "y=y>.5"
   ]
  },
  {
   "cell_type": "code",
   "execution_count": 29,
   "metadata": {},
   "outputs": [
    {
     "data": {
      "text/plain": [
       "array([[8735, 2788],\n",
       "       [4689, 4145]], dtype=int64)"
      ]
     },
     "execution_count": 29,
     "metadata": {},
     "output_type": "execute_result"
    }
   ],
   "source": [
    "confusion_matrix(ytest,y)"
   ]
  },
  {
   "cell_type": "code",
   "execution_count": 30,
   "metadata": {},
   "outputs": [
    {
     "data": {
      "text/plain": [
       "0.6327061944294345"
      ]
     },
     "execution_count": 30,
     "metadata": {},
     "output_type": "execute_result"
    }
   ],
   "source": [
    "accuracy_score(ytest,y)"
   ]
  },
  {
   "cell_type": "code",
   "execution_count": 31,
   "metadata": {},
   "outputs": [
    {
     "data": {
      "text/html": [
       "<div>\n",
       "<style scoped>\n",
       "    .dataframe tbody tr th:only-of-type {\n",
       "        vertical-align: middle;\n",
       "    }\n",
       "\n",
       "    .dataframe tbody tr th {\n",
       "        vertical-align: top;\n",
       "    }\n",
       "\n",
       "    .dataframe thead th {\n",
       "        text-align: right;\n",
       "    }\n",
       "</style>\n",
       "<table border=\"1\" class=\"dataframe\">\n",
       "  <thead>\n",
       "    <tr style=\"text-align: right;\">\n",
       "      <th></th>\n",
       "      <th>predicted0</th>\n",
       "      <th>predicted1</th>\n",
       "    </tr>\n",
       "  </thead>\n",
       "  <tbody>\n",
       "    <tr>\n",
       "      <th>Actual0</th>\n",
       "      <td>8735</td>\n",
       "      <td>2788</td>\n",
       "    </tr>\n",
       "    <tr>\n",
       "      <th>Actual1</th>\n",
       "      <td>4689</td>\n",
       "      <td>4145</td>\n",
       "    </tr>\n",
       "  </tbody>\n",
       "</table>\n",
       "</div>"
      ],
      "text/plain": [
       "         predicted0  predicted1\n",
       "Actual0        8735        2788\n",
       "Actual1        4689        4145"
      ]
     },
     "execution_count": 31,
     "metadata": {},
     "output_type": "execute_result"
    }
   ],
   "source": [
    "unique_labels(ytest)\n",
    "labels=unique_labels(ytest)\n",
    "col_names=[f\"predicted{label}\"for label in labels ]\n",
    "index_names=[f\"Actual{label}\"for label in labels ]\n",
    "pd.DataFrame(confusion_matrix(ytest, y),columns=col_names,index=index_names)"
   ]
  },
  {
   "cell_type": "code",
   "execution_count": 32,
   "metadata": {},
   "outputs": [
    {
     "data": {
      "image/png": "[encoded data removed]",
      "text/plain": [
       "<Figure size 2000x1000 with 2 Axes>"
      ]
     },
     "metadata": {},
     "output_type": "display_data"
    }
   ],
   "source": [
    "ConfusionMatrixDisplay(confusion_matrix(ytest,y)).plot();"
   ]
  },
  {
   "cell_type": "code",
   "execution_count": 33,
   "metadata": {},
   "outputs": [
    {
     "name": "stdout",
     "output_type": "stream",
     "text": [
      "              precision    recall  f1-score   support\n",
      "\n",
      "           0       0.65      0.76      0.70     11523\n",
      "           1       0.60      0.47      0.53      8834\n",
      "\n",
      "    accuracy                           0.63     20357\n",
      "   macro avg       0.62      0.61      0.61     20357\n",
      "weighted avg       0.63      0.63      0.62     20357\n",
      "\n"
     ]
    }
   ],
   "source": [
    "print(classification_report(ytest,y))"
   ]
  },
  {
   "cell_type": "code",
   "execution_count": 34,
   "metadata": {},
   "outputs": [],
   "source": [
    "import pickle\n",
    "with open (\"gender_prediction_model.pkl\",\"wb\") as f:\n",
    "    pickle.dump(classifier,f)"
   ]
  },
  {
   "cell_type": "code",
   "execution_count": null,
   "metadata": {},
   "outputs": [],
   "source": []
  }
 ],
 "metadata": {
  "kernelspec": {
   "display_name": "Python 3",
   "language": "python",
   "name": "python3"
  },
  "language_info": {
   "codemirror_mode": {
    "name": "ipython",
    "version": 3
   },
   "file_extension": ".py",
   "mimetype": "text/x-python",
   "name": "python",
   "nbconvert_exporter": "python",
   "pygments_lexer": "ipython3",
   "version": "3.10.8"
  }
 },
 "nbformat": 4,
 "nbformat_minor": 2
}
