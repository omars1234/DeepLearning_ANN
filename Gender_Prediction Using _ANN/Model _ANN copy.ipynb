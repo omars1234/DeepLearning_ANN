{
 "cells": [
  {
   "cell_type": "markdown",
   "metadata": {},
   "source": [
    "# *ANN -Artificial Neural Network*"
   ]
  },
  {
   "cell_type": "markdown",
   "metadata": {},
   "source": [
    "### *Analysis objective :<br>Applying -ANN- model on the prediction of -gender- as a target Feature*\n",
    "---"
   ]
  },
  {
   "cell_type": "code",
   "execution_count": 83,
   "metadata": {},
   "outputs": [],
   "source": [
    "import pandas as pd\n",
    "from matplotlib import pyplot  as plt\n",
    "%matplotlib inline\n",
    "import matplotlib\n",
    "matplotlib.rcParams[\"figure.figsize\"]=(20,10)\n",
    "matplotlib.rcParams[\"figure.figsize\"]=(20,10)\n",
    "import os\n",
    "from sklearn.preprocessing import LabelEncoder,StandardScaler\n",
    "LabelEncoder_category=LabelEncoder()\n",
    "from sklearn.model_selection import train_test_split,cross_val_score\n",
    "from sklearn.metrics import (r2_score,accuracy_score,classification_report,ConfusionMatrixDisplay,confusion_matrix)\n",
    "import warnings\n",
    "from sklearn.utils.multiclass import unique_labels\n",
    "import seaborn as sns"
   ]
  },
  {
   "cell_type": "code",
   "execution_count": 42,
   "metadata": {},
   "outputs": [
    {
     "data": {
      "text/html": [
       "<div>\n",
       "<style scoped>\n",
       "    .dataframe tbody tr th:only-of-type {\n",
       "        vertical-align: middle;\n",
       "    }\n",
       "\n",
       "    .dataframe tbody tr th {\n",
       "        vertical-align: top;\n",
       "    }\n",
       "\n",
       "    .dataframe thead th {\n",
       "        text-align: right;\n",
       "    }\n",
       "</style>\n",
       "<table border=\"1\" class=\"dataframe\">\n",
       "  <thead>\n",
       "    <tr style=\"text-align: right;\">\n",
       "      <th></th>\n",
       "      <th>veh_value</th>\n",
       "      <th>exposure</th>\n",
       "      <th>claimcst0</th>\n",
       "      <th>veh_body</th>\n",
       "      <th>veh_age</th>\n",
       "      <th>gender</th>\n",
       "      <th>area</th>\n",
       "      <th>agecat</th>\n",
       "    </tr>\n",
       "  </thead>\n",
       "  <tbody>\n",
       "    <tr>\n",
       "      <th>0</th>\n",
       "      <td>1.06</td>\n",
       "      <td>0.303901</td>\n",
       "      <td>0.0</td>\n",
       "      <td>HBACK</td>\n",
       "      <td>3</td>\n",
       "      <td>F</td>\n",
       "      <td>C</td>\n",
       "      <td>2</td>\n",
       "    </tr>\n",
       "    <tr>\n",
       "      <th>1</th>\n",
       "      <td>1.03</td>\n",
       "      <td>0.648871</td>\n",
       "      <td>0.0</td>\n",
       "      <td>HBACK</td>\n",
       "      <td>2</td>\n",
       "      <td>F</td>\n",
       "      <td>A</td>\n",
       "      <td>4</td>\n",
       "    </tr>\n",
       "    <tr>\n",
       "      <th>2</th>\n",
       "      <td>3.26</td>\n",
       "      <td>0.569473</td>\n",
       "      <td>0.0</td>\n",
       "      <td>UTE</td>\n",
       "      <td>2</td>\n",
       "      <td>F</td>\n",
       "      <td>E</td>\n",
       "      <td>2</td>\n",
       "    </tr>\n",
       "    <tr>\n",
       "      <th>3</th>\n",
       "      <td>4.14</td>\n",
       "      <td>0.317591</td>\n",
       "      <td>0.0</td>\n",
       "      <td>STNWG</td>\n",
       "      <td>2</td>\n",
       "      <td>F</td>\n",
       "      <td>D</td>\n",
       "      <td>2</td>\n",
       "    </tr>\n",
       "    <tr>\n",
       "      <th>4</th>\n",
       "      <td>0.72</td>\n",
       "      <td>0.648871</td>\n",
       "      <td>0.0</td>\n",
       "      <td>HBACK</td>\n",
       "      <td>4</td>\n",
       "      <td>F</td>\n",
       "      <td>C</td>\n",
       "      <td>2</td>\n",
       "    </tr>\n",
       "  </tbody>\n",
       "</table>\n",
       "</div>"
      ],
      "text/plain": [
       "   veh_value  exposure  claimcst0 veh_body veh_age gender area agecat\n",
       "0       1.06  0.303901        0.0    HBACK       3      F    C      2\n",
       "1       1.03  0.648871        0.0    HBACK       2      F    A      4\n",
       "2       3.26  0.569473        0.0      UTE       2      F    E      2\n",
       "3       4.14  0.317591        0.0    STNWG       2      F    D      2\n",
       "4       0.72  0.648871        0.0    HBACK       4      F    C      2"
      ]
     },
     "execution_count": 42,
     "metadata": {},
     "output_type": "execute_result"
    }
   ],
   "source": [
    "df=pd.read_csv(r\"C:/Users/Omar\\Desktop/Omar_Files/Python_Analysis/DeepLearning_ANN/DataSet/data_car.csv\")\n",
    "df=df.drop([\"X_OBSTAT_\",\"clm\",\"numclaims\"],axis=1)\n",
    "df[\"agecat\"]=df[\"agecat\"].astype(\"object\")\n",
    "df[\"veh_age\"]=df[\"veh_age\"].astype(\"object\")\n",
    "df.head()"
   ]
  },
  {
   "cell_type": "code",
   "execution_count": 43,
   "metadata": {},
   "outputs": [
    {
     "data": {
      "text/html": [
       "<div>\n",
       "<style scoped>\n",
       "    .dataframe tbody tr th:only-of-type {\n",
       "        vertical-align: middle;\n",
       "    }\n",
       "\n",
       "    .dataframe tbody tr th {\n",
       "        vertical-align: top;\n",
       "    }\n",
       "\n",
       "    .dataframe thead th {\n",
       "        text-align: right;\n",
       "    }\n",
       "</style>\n",
       "<table border=\"1\" class=\"dataframe\">\n",
       "  <thead>\n",
       "    <tr style=\"text-align: right;\">\n",
       "      <th></th>\n",
       "      <th>veh_value</th>\n",
       "      <th>exposure</th>\n",
       "      <th>claimcst0</th>\n",
       "      <th>veh_body</th>\n",
       "      <th>veh_age</th>\n",
       "      <th>gender</th>\n",
       "      <th>area</th>\n",
       "      <th>agecat</th>\n",
       "    </tr>\n",
       "  </thead>\n",
       "  <tbody>\n",
       "    <tr>\n",
       "      <th>0</th>\n",
       "      <td>1.59</td>\n",
       "      <td>0.229979</td>\n",
       "      <td>0.0</td>\n",
       "      <td>SEDAN</td>\n",
       "      <td>1</td>\n",
       "      <td>F</td>\n",
       "      <td>A</td>\n",
       "      <td>1</td>\n",
       "    </tr>\n",
       "    <tr>\n",
       "      <th>1</th>\n",
       "      <td>1.46</td>\n",
       "      <td>0.221766</td>\n",
       "      <td>0.0</td>\n",
       "      <td>HBACK</td>\n",
       "      <td>1</td>\n",
       "      <td>F</td>\n",
       "      <td>A</td>\n",
       "      <td>1</td>\n",
       "    </tr>\n",
       "    <tr>\n",
       "      <th>2</th>\n",
       "      <td>1.54</td>\n",
       "      <td>0.238193</td>\n",
       "      <td>0.0</td>\n",
       "      <td>SEDAN</td>\n",
       "      <td>1</td>\n",
       "      <td>F</td>\n",
       "      <td>A</td>\n",
       "      <td>1</td>\n",
       "    </tr>\n",
       "    <tr>\n",
       "      <th>3</th>\n",
       "      <td>1.57</td>\n",
       "      <td>0.522930</td>\n",
       "      <td>0.0</td>\n",
       "      <td>SEDAN</td>\n",
       "      <td>1</td>\n",
       "      <td>F</td>\n",
       "      <td>A</td>\n",
       "      <td>1</td>\n",
       "    </tr>\n",
       "    <tr>\n",
       "      <th>4</th>\n",
       "      <td>1.41</td>\n",
       "      <td>0.219028</td>\n",
       "      <td>0.0</td>\n",
       "      <td>HBACK</td>\n",
       "      <td>1</td>\n",
       "      <td>F</td>\n",
       "      <td>A</td>\n",
       "      <td>1</td>\n",
       "    </tr>\n",
       "  </tbody>\n",
       "</table>\n",
       "</div>"
      ],
      "text/plain": [
       "   veh_value  exposure  claimcst0 veh_body veh_age gender area agecat\n",
       "0       1.59  0.229979        0.0    SEDAN       1      F    A      1\n",
       "1       1.46  0.221766        0.0    HBACK       1      F    A      1\n",
       "2       1.54  0.238193        0.0    SEDAN       1      F    A      1\n",
       "3       1.57  0.522930        0.0    SEDAN       1      F    A      1\n",
       "4       1.41  0.219028        0.0    HBACK       1      F    A      1"
      ]
     },
     "execution_count": 43,
     "metadata": {},
     "output_type": "execute_result"
    }
   ],
   "source": [
    "df=df.sort_values(by=['veh_age', 'agecat','area','gender']).reset_index().drop(\"index\",axis=1)\n",
    "df.head()"
   ]
  },
  {
   "cell_type": "markdown",
   "metadata": {},
   "source": [
    "---"
   ]
  },
  {
   "cell_type": "code",
   "execution_count": 44,
   "metadata": {},
   "outputs": [
    {
     "name": "stdout",
     "output_type": "stream",
     "text": [
      "we have 3 numerical features : ['veh_value', 'exposure', 'claimcst0']\n",
      "\n",
      "we have 5 categorical features : ['veh_body', 'veh_age', 'gender', 'area', 'agecat']\n"
     ]
    }
   ],
   "source": [
    "\n",
    "categorical_features=df.select_dtypes(include=[\"object\"])\n",
    "numerical_features=df.select_dtypes(exclude=[\"object\"])\n",
    "\n",
    "print(\"we have {} numerical features : {}\\n\".format(numerical_features.shape[1],list(numerical_features.columns)))\n",
    "print(\"we have {} categorical features : {}\".format(categorical_features.shape[1],list(categorical_features.columns)))"
   ]
  },
  {
   "cell_type": "code",
   "execution_count": 45,
   "metadata": {},
   "outputs": [],
   "source": [
    "discrete_feature=[feature for feature in numerical_features if  len(df[feature].unique())<=25]\n",
    "countinuous_feature=[feature for feature in numerical_features if  len(df[feature].unique())>25]"
   ]
  },
  {
   "cell_type": "code",
   "execution_count": 46,
   "metadata": {},
   "outputs": [
    {
     "name": "stdout",
     "output_type": "stream",
     "text": [
      "we have 0 discrete feature : []\n",
      "\n",
      "we have 3 countinuous feature : ['veh_value', 'exposure', 'claimcst0']\n"
     ]
    }
   ],
   "source": [
    "print(\"we have {} discrete feature : {}\\n\".format(len(discrete_feature),(discrete_feature)))\n",
    "print(\"we have {} countinuous feature : {}\".format(len(countinuous_feature),(countinuous_feature)))"
   ]
  },
  {
   "cell_type": "code",
   "execution_count": 47,
   "metadata": {},
   "outputs": [],
   "source": [
    "categories_encoder=LabelEncoder()\n",
    "for col in df:\n",
    "    if col in list(df.select_dtypes(include=\"object\").columns):\n",
    "        df[col]=categories_encoder.fit_transform(df[col])"
   ]
  },
  {
   "cell_type": "code",
   "execution_count": 48,
   "metadata": {},
   "outputs": [],
   "source": [
    "x=df.drop(\"gender\",axis=1)\n",
    "y=df[\"gender\"]"
   ]
  },
  {
   "cell_type": "code",
   "execution_count": 49,
   "metadata": {},
   "outputs": [
    {
     "data": {
      "text/plain": [
       "veh_value     2.968022\n",
       "exposure      0.175557\n",
       "claimcst0    17.502503\n",
       "dtype: float64"
      ]
     },
     "execution_count": 49,
     "metadata": {},
     "output_type": "execute_result"
    }
   ],
   "source": [
    "x[countinuous_feature].skew(axis=0,skipna=True)"
   ]
  },
  {
   "cell_type": "code",
   "execution_count": 50,
   "metadata": {},
   "outputs": [],
   "source": [
    "from sklearn.preprocessing import PowerTransformer\n",
    "pt=PowerTransformer(method=\"yeo-johnson\")\n",
    "transform_features=['veh_value']\n",
    "df[transform_features]=pt.fit_transform(x[transform_features])"
   ]
  },
  {
   "cell_type": "code",
   "execution_count": 51,
   "metadata": {},
   "outputs": [
    {
     "data": {
      "text/plain": [
       "veh_value    0.010369\n",
       "dtype: float64"
      ]
     },
     "execution_count": 51,
     "metadata": {},
     "output_type": "execute_result"
    }
   ],
   "source": [
    "df[transform_features].skew(axis=0,skipna=True)"
   ]
  },
  {
   "cell_type": "code",
   "execution_count": 52,
   "metadata": {},
   "outputs": [],
   "source": [
    "from sklearn.compose import ColumnTransformer\n",
    "from sklearn.pipeline import Pipeline\n",
    "sc=StandardScaler()\n",
    "preprocessor=ColumnTransformer([\n",
    "    (\"StandardScaler\",sc,x.columns)\n",
    "]\n",
    ")"
   ]
  },
  {
   "cell_type": "code",
   "execution_count": 53,
   "metadata": {},
   "outputs": [],
   "source": [
    "x=preprocessor.fit_transform(x)"
   ]
  },
  {
   "cell_type": "code",
   "execution_count": 54,
   "metadata": {},
   "outputs": [],
   "source": [
    "from imblearn.combine import SMOTETomek,SMOTEENN\n",
    "smt=SMOTEENN(random_state=42,sampling_strategy=\"minority\")\n",
    "x_re,y_res=smt.fit_resample(x,y)"
   ]
  },
  {
   "cell_type": "code",
   "execution_count": 55,
   "metadata": {},
   "outputs": [
    {
     "name": "stdout",
     "output_type": "stream",
     "text": [
      "Train data shape of X = (16640, 7) and Y = (16640,) : \n",
      "Test data shape of X = (4161, 7) and Y = (4161,) : \n"
     ]
    }
   ],
   "source": [
    "x_train, x_test, y_train, y_test = train_test_split(x_re,y_res ,test_size= 0.2,random_state=42)\n",
    "\n",
    "print(\"Train data shape of X = % s and Y = % s : \"%(\n",
    "\tx_train.shape, y_train.shape))\n",
    "\n",
    "print(\"Test data shape of X = % s and Y = % s : \"%(\n",
    "\tx_test.shape, y_test.shape))"
   ]
  },
  {
   "cell_type": "markdown",
   "metadata": {},
   "source": [
    "sc=StandardScaler()\n",
    "x_train=sc.fit_transform(x_train)\n",
    "x_test=sc.transform(x_test)"
   ]
  },
  {
   "cell_type": "markdown",
   "metadata": {},
   "source": [
    "* *Importing Tensorflow :*"
   ]
  },
  {
   "cell_type": "code",
   "execution_count": 56,
   "metadata": {},
   "outputs": [],
   "source": [
    "import tensorflow as tf"
   ]
  },
  {
   "cell_type": "code",
   "execution_count": 57,
   "metadata": {},
   "outputs": [],
   "source": [
    "from tensorflow.keras.models import Sequential\n",
    "from tensorflow.keras.layers import Dense\n",
    "from tensorflow.keras.layers import ReLU,PReLU,LeakyReLU\n",
    "from tensorflow.keras.layers import Dropout"
   ]
  },
  {
   "cell_type": "markdown",
   "metadata": {},
   "source": [
    "* *Model Preparation :*"
   ]
  },
  {
   "cell_type": "code",
   "execution_count": 58,
   "metadata": {},
   "outputs": [],
   "source": [
    "classifier=Sequential()"
   ]
  },
  {
   "cell_type": "markdown",
   "metadata": {},
   "source": [
    "* *1st Hidden Layer :*"
   ]
  },
  {
   "cell_type": "code",
   "execution_count": 59,
   "metadata": {},
   "outputs": [],
   "source": [
    "classifier.add(Dense(units=7,activation=\"ReLU\"))"
   ]
  },
  {
   "cell_type": "markdown",
   "metadata": {},
   "source": [
    "* *2nd Hidden Layer :*"
   ]
  },
  {
   "cell_type": "code",
   "execution_count": 60,
   "metadata": {},
   "outputs": [],
   "source": [
    "classifier.add(Dense(units=14,activation=\"ReLU\"))"
   ]
  },
  {
   "cell_type": "markdown",
   "metadata": {},
   "source": [
    "* *Last Layer -Output :*"
   ]
  },
  {
   "cell_type": "code",
   "execution_count": 61,
   "metadata": {},
   "outputs": [],
   "source": [
    "classifier.add(Dense(1,activation=\"sigmoid\"))"
   ]
  },
  {
   "cell_type": "markdown",
   "metadata": {},
   "source": [
    "* *Adam Optimizer Preparation :*"
   ]
  },
  {
   "cell_type": "code",
   "execution_count": 62,
   "metadata": {},
   "outputs": [],
   "source": [
    "import tensorflow\n",
    "opt=tf.keras.optimizers.Adam(learning_rate=0.01)"
   ]
  },
  {
   "cell_type": "markdown",
   "metadata": {},
   "source": [
    "* *Compiling the Model :*"
   ]
  },
  {
   "cell_type": "code",
   "execution_count": 63,
   "metadata": {},
   "outputs": [],
   "source": [
    "classifier.compile(optimizer=opt,loss=\"binary_crossentropy\",metrics=[\"accuracy\"])"
   ]
  },
  {
   "cell_type": "markdown",
   "metadata": {},
   "source": [
    "* *Early Stopping Preparation :*"
   ]
  },
  {
   "cell_type": "code",
   "execution_count": 64,
   "metadata": {},
   "outputs": [],
   "source": [
    "import tensorflow\n",
    "early_stopping=tf.keras.callbacks.EarlyStopping(\n",
    "    monitor='val_loss',\n",
    "    min_delta=0.001,\n",
    "    patience=20,\n",
    "    verbose=1,\n",
    "    mode='auto',\n",
    "    baseline=None,\n",
    "    restore_best_weights=False,\n",
    "    start_from_epoch=0\n",
    ")"
   ]
  },
  {
   "cell_type": "markdown",
   "metadata": {},
   "source": [
    "* *Model Fitting :*"
   ]
  },
  {
   "cell_type": "code",
   "execution_count": 65,
   "metadata": {},
   "outputs": [
    {
     "name": "stdout",
     "output_type": "stream",
     "text": [
      "Epoch 1/1000\n",
      "349/349 [==============================] - 2s 3ms/step - loss: 0.5079 - accuracy: 0.7479 - val_loss: 0.4604 - val_accuracy: 0.7875\n",
      "Epoch 2/1000\n",
      "349/349 [==============================] - 1s 2ms/step - loss: 0.4628 - accuracy: 0.7807 - val_loss: 0.4564 - val_accuracy: 0.7833\n",
      "Epoch 3/1000\n",
      "349/349 [==============================] - 1s 2ms/step - loss: 0.4560 - accuracy: 0.7882 - val_loss: 0.4519 - val_accuracy: 0.7986\n",
      "Epoch 4/1000\n",
      "349/349 [==============================] - 1s 2ms/step - loss: 0.4521 - accuracy: 0.7903 - val_loss: 0.4431 - val_accuracy: 0.7952\n",
      "Epoch 5/1000\n",
      "349/349 [==============================] - 1s 2ms/step - loss: 0.4478 - accuracy: 0.7935 - val_loss: 0.4486 - val_accuracy: 0.7983\n",
      "Epoch 6/1000\n",
      "349/349 [==============================] - 1s 2ms/step - loss: 0.4478 - accuracy: 0.7947 - val_loss: 0.4453 - val_accuracy: 0.7961\n",
      "Epoch 7/1000\n",
      "349/349 [==============================] - 1s 2ms/step - loss: 0.4452 - accuracy: 0.7962 - val_loss: 0.4379 - val_accuracy: 0.8030\n",
      "Epoch 8/1000\n",
      "349/349 [==============================] - 1s 2ms/step - loss: 0.4428 - accuracy: 0.8002 - val_loss: 0.4394 - val_accuracy: 0.8026\n",
      "Epoch 9/1000\n",
      "349/349 [==============================] - 1s 2ms/step - loss: 0.4432 - accuracy: 0.7985 - val_loss: 0.4391 - val_accuracy: 0.8013\n",
      "Epoch 10/1000\n",
      "349/349 [==============================] - 1s 2ms/step - loss: 0.4415 - accuracy: 0.8009 - val_loss: 0.4371 - val_accuracy: 0.8043\n",
      "Epoch 11/1000\n",
      "349/349 [==============================] - 1s 2ms/step - loss: 0.4411 - accuracy: 0.7997 - val_loss: 0.4452 - val_accuracy: 0.8046\n",
      "Epoch 12/1000\n",
      "349/349 [==============================] - 1s 2ms/step - loss: 0.4397 - accuracy: 0.8010 - val_loss: 0.4361 - val_accuracy: 0.8070\n",
      "Epoch 13/1000\n",
      "349/349 [==============================] - 1s 2ms/step - loss: 0.4400 - accuracy: 0.7989 - val_loss: 0.4384 - val_accuracy: 0.8034\n",
      "Epoch 14/1000\n",
      "349/349 [==============================] - 1s 2ms/step - loss: 0.4414 - accuracy: 0.8014 - val_loss: 0.4365 - val_accuracy: 0.8059\n",
      "Epoch 15/1000\n",
      "349/349 [==============================] - 1s 2ms/step - loss: 0.4381 - accuracy: 0.8017 - val_loss: 0.4322 - val_accuracy: 0.8032\n",
      "Epoch 16/1000\n",
      "349/349 [==============================] - 1s 2ms/step - loss: 0.4398 - accuracy: 0.8007 - val_loss: 0.4361 - val_accuracy: 0.8006\n",
      "Epoch 17/1000\n",
      "349/349 [==============================] - 1s 2ms/step - loss: 0.4380 - accuracy: 0.8020 - val_loss: 0.4395 - val_accuracy: 0.8043\n",
      "Epoch 18/1000\n",
      "349/349 [==============================] - 1s 2ms/step - loss: 0.4389 - accuracy: 0.8022 - val_loss: 0.4397 - val_accuracy: 0.8024\n",
      "Epoch 19/1000\n",
      "349/349 [==============================] - 1s 2ms/step - loss: 0.4392 - accuracy: 0.8014 - val_loss: 0.4323 - val_accuracy: 0.8052\n",
      "Epoch 20/1000\n",
      "349/349 [==============================] - 1s 3ms/step - loss: 0.4398 - accuracy: 0.8019 - val_loss: 0.4354 - val_accuracy: 0.8043\n",
      "Epoch 21/1000\n",
      "349/349 [==============================] - 2s 5ms/step - loss: 0.4385 - accuracy: 0.8012 - val_loss: 0.4354 - val_accuracy: 0.8054\n",
      "Epoch 22/1000\n",
      "349/349 [==============================] - 2s 6ms/step - loss: 0.4382 - accuracy: 0.8017 - val_loss: 0.4415 - val_accuracy: 0.7997\n",
      "Epoch 23/1000\n",
      "349/349 [==============================] - 2s 5ms/step - loss: 0.4393 - accuracy: 0.8001 - val_loss: 0.4399 - val_accuracy: 0.8008\n",
      "Epoch 24/1000\n",
      "349/349 [==============================] - 1s 4ms/step - loss: 0.4374 - accuracy: 0.8008 - val_loss: 0.4367 - val_accuracy: 0.8094\n",
      "Epoch 25/1000\n",
      "349/349 [==============================] - 1s 2ms/step - loss: 0.4393 - accuracy: 0.8019 - val_loss: 0.4371 - val_accuracy: 0.8035\n",
      "Epoch 26/1000\n",
      "349/349 [==============================] - 1s 2ms/step - loss: 0.4390 - accuracy: 0.8018 - val_loss: 0.4325 - val_accuracy: 0.8110\n",
      "Epoch 27/1000\n",
      "349/349 [==============================] - 1s 2ms/step - loss: 0.4386 - accuracy: 0.8012 - val_loss: 0.4318 - val_accuracy: 0.8074\n",
      "Epoch 28/1000\n",
      "349/349 [==============================] - 1s 2ms/step - loss: 0.4373 - accuracy: 0.8032 - val_loss: 0.4339 - val_accuracy: 0.8039\n",
      "Epoch 29/1000\n",
      "349/349 [==============================] - 1s 2ms/step - loss: 0.4379 - accuracy: 0.8028 - val_loss: 0.4379 - val_accuracy: 0.8063\n",
      "Epoch 30/1000\n",
      "349/349 [==============================] - 1s 2ms/step - loss: 0.4364 - accuracy: 0.8052 - val_loss: 0.4300 - val_accuracy: 0.8084\n",
      "Epoch 31/1000\n",
      "349/349 [==============================] - 1s 2ms/step - loss: 0.4374 - accuracy: 0.8023 - val_loss: 0.4270 - val_accuracy: 0.8117\n",
      "Epoch 32/1000\n",
      "349/349 [==============================] - 1s 2ms/step - loss: 0.4362 - accuracy: 0.8036 - val_loss: 0.4276 - val_accuracy: 0.8110\n",
      "Epoch 33/1000\n",
      "349/349 [==============================] - 1s 2ms/step - loss: 0.4350 - accuracy: 0.8049 - val_loss: 0.4273 - val_accuracy: 0.8106\n",
      "Epoch 34/1000\n",
      "349/349 [==============================] - 1s 2ms/step - loss: 0.4347 - accuracy: 0.8075 - val_loss: 0.4284 - val_accuracy: 0.8163\n",
      "Epoch 35/1000\n",
      "349/349 [==============================] - 1s 2ms/step - loss: 0.4343 - accuracy: 0.8071 - val_loss: 0.4287 - val_accuracy: 0.8097\n",
      "Epoch 36/1000\n",
      "349/349 [==============================] - 1s 2ms/step - loss: 0.4344 - accuracy: 0.8055 - val_loss: 0.4289 - val_accuracy: 0.8152\n",
      "Epoch 37/1000\n",
      "349/349 [==============================] - 1s 2ms/step - loss: 0.4340 - accuracy: 0.8076 - val_loss: 0.4296 - val_accuracy: 0.8092\n",
      "Epoch 38/1000\n",
      "349/349 [==============================] - 1s 2ms/step - loss: 0.4326 - accuracy: 0.8098 - val_loss: 0.4230 - val_accuracy: 0.8201\n",
      "Epoch 39/1000\n",
      "349/349 [==============================] - 1s 2ms/step - loss: 0.4318 - accuracy: 0.8082 - val_loss: 0.4265 - val_accuracy: 0.8148\n",
      "Epoch 40/1000\n",
      "349/349 [==============================] - 1s 2ms/step - loss: 0.4326 - accuracy: 0.8096 - val_loss: 0.4286 - val_accuracy: 0.8165\n",
      "Epoch 41/1000\n",
      "349/349 [==============================] - 1s 2ms/step - loss: 0.4322 - accuracy: 0.8086 - val_loss: 0.4248 - val_accuracy: 0.8165\n",
      "Epoch 42/1000\n",
      "349/349 [==============================] - 1s 2ms/step - loss: 0.4324 - accuracy: 0.8079 - val_loss: 0.4257 - val_accuracy: 0.8177\n",
      "Epoch 43/1000\n",
      "349/349 [==============================] - 1s 2ms/step - loss: 0.4303 - accuracy: 0.8079 - val_loss: 0.4294 - val_accuracy: 0.8137\n",
      "Epoch 44/1000\n",
      "349/349 [==============================] - 1s 3ms/step - loss: 0.4316 - accuracy: 0.8082 - val_loss: 0.4221 - val_accuracy: 0.8166\n",
      "Epoch 45/1000\n",
      "349/349 [==============================] - 2s 5ms/step - loss: 0.4319 - accuracy: 0.8089 - val_loss: 0.4246 - val_accuracy: 0.8137\n",
      "Epoch 46/1000\n",
      "349/349 [==============================] - 2s 4ms/step - loss: 0.4310 - accuracy: 0.8086 - val_loss: 0.4230 - val_accuracy: 0.8170\n",
      "Epoch 47/1000\n",
      "349/349 [==============================] - 2s 5ms/step - loss: 0.4323 - accuracy: 0.8097 - val_loss: 0.4234 - val_accuracy: 0.8150\n",
      "Epoch 48/1000\n",
      "349/349 [==============================] - 2s 5ms/step - loss: 0.4307 - accuracy: 0.8095 - val_loss: 0.4224 - val_accuracy: 0.8161\n",
      "Epoch 49/1000\n",
      "349/349 [==============================] - 1s 2ms/step - loss: 0.4312 - accuracy: 0.8081 - val_loss: 0.4211 - val_accuracy: 0.8177\n",
      "Epoch 50/1000\n",
      "349/349 [==============================] - 1s 2ms/step - loss: 0.4305 - accuracy: 0.8070 - val_loss: 0.4252 - val_accuracy: 0.8155\n",
      "Epoch 51/1000\n",
      "349/349 [==============================] - 1s 2ms/step - loss: 0.4321 - accuracy: 0.8084 - val_loss: 0.4279 - val_accuracy: 0.8165\n",
      "Epoch 52/1000\n",
      "349/349 [==============================] - 1s 2ms/step - loss: 0.4310 - accuracy: 0.8099 - val_loss: 0.4296 - val_accuracy: 0.8145\n",
      "Epoch 53/1000\n",
      "349/349 [==============================] - 1s 2ms/step - loss: 0.4311 - accuracy: 0.8086 - val_loss: 0.4235 - val_accuracy: 0.8174\n",
      "Epoch 54/1000\n",
      "349/349 [==============================] - 1s 2ms/step - loss: 0.4299 - accuracy: 0.8067 - val_loss: 0.4228 - val_accuracy: 0.8165\n",
      "Epoch 55/1000\n",
      "349/349 [==============================] - 1s 2ms/step - loss: 0.4299 - accuracy: 0.8071 - val_loss: 0.4298 - val_accuracy: 0.8166\n",
      "Epoch 56/1000\n",
      "349/349 [==============================] - 1s 2ms/step - loss: 0.4297 - accuracy: 0.8102 - val_loss: 0.4258 - val_accuracy: 0.8117\n",
      "Epoch 57/1000\n",
      "349/349 [==============================] - 1s 2ms/step - loss: 0.4292 - accuracy: 0.8089 - val_loss: 0.4320 - val_accuracy: 0.8095\n",
      "Epoch 58/1000\n",
      "349/349 [==============================] - 1s 2ms/step - loss: 0.4298 - accuracy: 0.8096 - val_loss: 0.4263 - val_accuracy: 0.8201\n",
      "Epoch 59/1000\n",
      "349/349 [==============================] - 1s 2ms/step - loss: 0.4279 - accuracy: 0.8108 - val_loss: 0.4242 - val_accuracy: 0.8168\n",
      "Epoch 60/1000\n",
      "349/349 [==============================] - 1s 2ms/step - loss: 0.4281 - accuracy: 0.8093 - val_loss: 0.4232 - val_accuracy: 0.8130\n",
      "Epoch 61/1000\n",
      "349/349 [==============================] - 1s 2ms/step - loss: 0.4289 - accuracy: 0.8093 - val_loss: 0.4308 - val_accuracy: 0.8114\n",
      "Epoch 62/1000\n",
      "349/349 [==============================] - 1s 2ms/step - loss: 0.4281 - accuracy: 0.8099 - val_loss: 0.4279 - val_accuracy: 0.8139\n",
      "Epoch 63/1000\n",
      "349/349 [==============================] - 1s 2ms/step - loss: 0.4272 - accuracy: 0.8095 - val_loss: 0.4218 - val_accuracy: 0.8172\n",
      "Epoch 64/1000\n",
      "349/349 [==============================] - 1s 3ms/step - loss: 0.4278 - accuracy: 0.8089 - val_loss: 0.4206 - val_accuracy: 0.8177\n",
      "Epoch 65/1000\n",
      "349/349 [==============================] - 2s 5ms/step - loss: 0.4261 - accuracy: 0.8094 - val_loss: 0.4221 - val_accuracy: 0.8174\n",
      "Epoch 66/1000\n",
      "349/349 [==============================] - 2s 5ms/step - loss: 0.4278 - accuracy: 0.8094 - val_loss: 0.4273 - val_accuracy: 0.8165\n",
      "Epoch 67/1000\n",
      "349/349 [==============================] - 2s 5ms/step - loss: 0.4278 - accuracy: 0.8088 - val_loss: 0.4212 - val_accuracy: 0.8170\n",
      "Epoch 68/1000\n",
      "349/349 [==============================] - 2s 5ms/step - loss: 0.4259 - accuracy: 0.8091 - val_loss: 0.4279 - val_accuracy: 0.8199\n",
      "Epoch 69/1000\n",
      "349/349 [==============================] - 1s 3ms/step - loss: 0.4250 - accuracy: 0.8114 - val_loss: 0.4204 - val_accuracy: 0.8181\n",
      "Epoch 69: early stopping\n"
     ]
    }
   ],
   "source": [
    "model_history=classifier.fit(x_train,y_train,validation_split=.33,epochs=1000,callbacks=early_stopping)"
   ]
  },
  {
   "cell_type": "code",
   "execution_count": 75,
   "metadata": {},
   "outputs": [
    {
     "data": {
      "text/plain": [
       "dict_keys(['loss', 'accuracy', 'val_loss', 'val_accuracy'])"
      ]
     },
     "execution_count": 75,
     "metadata": {},
     "output_type": "execute_result"
    }
   ],
   "source": [
    "model_history.history.keys()"
   ]
  },
  {
   "cell_type": "code",
   "execution_count": 76,
   "metadata": {},
   "outputs": [
    {
     "data": {
      "image/png": "[encoded data removed]",
      "text/plain": [
       "<Figure size 2000x1000 with 2 Axes>"
      ]
     },
     "metadata": {},
     "output_type": "display_data"
    }
   ],
   "source": [
    "plt.subplot(221)\n",
    "plt.plot(model_history.history[\"accuracy\"])\n",
    "plt.plot(model_history.history[\"val_accuracy\"])\n",
    "plt.ylabel(\"accuracy\")\n",
    "plt.xlabel(\"epoch\")\n",
    "plt.legend([\"train\",\"test\"]);\n",
    "\n",
    "\n",
    "plt.subplot(222)\n",
    "plt.plot(model_history.history[\"loss\"])\n",
    "plt.plot(model_history.history[\"val_loss\"])\n",
    "plt.ylabel(\"loss\")\n",
    "plt.xlabel(\"epoch\")\n",
    "plt.legend([\"train\",\"test\"]);"
   ]
  },
  {
   "cell_type": "code",
   "execution_count": 77,
   "metadata": {},
   "outputs": [
    {
     "name": "stdout",
     "output_type": "stream",
     "text": [
      "131/131 [==============================] - 0s 1ms/step\n"
     ]
    }
   ],
   "source": [
    "y=classifier.predict(x_test)"
   ]
  },
  {
   "cell_type": "code",
   "execution_count": 78,
   "metadata": {},
   "outputs": [],
   "source": [
    "y=y>.5"
   ]
  },
  {
   "cell_type": "code",
   "execution_count": 79,
   "metadata": {},
   "outputs": [
    {
     "data": {
      "text/plain": [
       "array([[1644,  272],\n",
       "       [ 541, 1704]], dtype=int64)"
      ]
     },
     "execution_count": 79,
     "metadata": {},
     "output_type": "execute_result"
    }
   ],
   "source": [
    "confusion_matrix(y_test,y)"
   ]
  },
  {
   "cell_type": "code",
   "execution_count": 80,
   "metadata": {},
   "outputs": [
    {
     "data": {
      "text/plain": [
       "0.8046142754145638"
      ]
     },
     "execution_count": 80,
     "metadata": {},
     "output_type": "execute_result"
    }
   ],
   "source": [
    "accuracy_score(y_test,y)"
   ]
  },
  {
   "cell_type": "code",
   "execution_count": 86,
   "metadata": {},
   "outputs": [
    {
     "data": {
      "image/png": "[encoded data removed]",
      "text/plain": [
       "<Figure size 2000x500 with 1 Axes>"
      ]
     },
     "metadata": {},
     "output_type": "display_data"
    }
   ],
   "source": [
    "matplotlib.rcParams[\"figure.figsize\"]=(20,5)\n",
    "sns.heatmap(confusion_matrix(y_test,y),annot = True,cmap=\"Greens\", fmt = \".0f\",cbar=False)\n",
    "plt.xlabel(\"y_pred\")\n",
    "plt.ylabel(\"y_true\");"
   ]
  },
  {
   "cell_type": "code",
   "execution_count": 87,
   "metadata": {},
   "outputs": [
    {
     "name": "stdout",
     "output_type": "stream",
     "text": [
      "              precision    recall  f1-score   support\n",
      "\n",
      "           0       0.75      0.86      0.80      1916\n",
      "           1       0.86      0.76      0.81      2245\n",
      "\n",
      "    accuracy                           0.80      4161\n",
      "   macro avg       0.81      0.81      0.80      4161\n",
      "weighted avg       0.81      0.80      0.80      4161\n",
      "\n"
     ]
    }
   ],
   "source": [
    "print(classification_report(y_test,y))"
   ]
  },
  {
   "cell_type": "code",
   "execution_count": 88,
   "metadata": {},
   "outputs": [],
   "source": [
    "import pickle\n",
    "with open (\"gender_prediction_model.pkl\",\"wb\") as f:\n",
    "    pickle.dump(classifier,f)"
   ]
  },
  {
   "cell_type": "code",
   "execution_count": 93,
   "metadata": {},
   "outputs": [
    {
     "data": {
      "text/plain": [
       "Index(['veh_value', 'exposure', 'claimcst0', 'veh_body', 'veh_age', 'gender',\n",
       "       'area', 'agecat'],\n",
       "      dtype='object')"
      ]
     },
     "execution_count": 93,
     "metadata": {},
     "output_type": "execute_result"
    }
   ],
   "source": [
    "df.columns"
   ]
  },
  {
   "cell_type": "code",
   "execution_count": 96,
   "metadata": {},
   "outputs": [
    {
     "name": "stdout",
     "output_type": "stream",
     "text": [
      "1/1 [==============================] - 0s 56ms/step\n"
     ]
    },
    {
     "data": {
      "text/plain": [
       "array([[1.]], dtype=float32)"
      ]
     },
     "execution_count": 96,
     "metadata": {},
     "output_type": "execute_result"
    }
   ],
   "source": [
    "classifier.predict([[10000,.9,14000,2,4,3,3]])"
   ]
  },
  {
   "cell_type": "code",
   "execution_count": 98,
   "metadata": {},
   "outputs": [
    {
     "name": "stdout",
     "output_type": "stream",
     "text": [
      "131/131 [==============================] - 0s 1ms/step\n"
     ]
    },
    {
     "data": {
      "text/plain": [
       "array([[0.957271  ],\n",
       "       [0.9170916 ],\n",
       "       [0.7780128 ],\n",
       "       ...,\n",
       "       [0.7921247 ],\n",
       "       [0.14153078],\n",
       "       [0.96308047]], dtype=float32)"
      ]
     },
     "execution_count": 98,
     "metadata": {},
     "output_type": "execute_result"
    }
   ],
   "source": [
    "classifier.predict(x_test)"
   ]
  },
  {
   "cell_type": "markdown",
   "metadata": {},
   "source": [
    "---"
   ]
  }
 ],
 "metadata": {
  "kernelspec": {
   "display_name": "Python 3",
   "language": "python",
   "name": "python3"
  },
  "language_info": {
   "codemirror_mode": {
    "name": "ipython",
    "version": 3
   },
   "file_extension": ".py",
   "mimetype": "text/x-python",
   "name": "python",
   "nbconvert_exporter": "python",
   "pygments_lexer": "ipython3",
   "version": "3.10.8"
  }
 },
 "nbformat": 4,
 "nbformat_minor": 2
}
